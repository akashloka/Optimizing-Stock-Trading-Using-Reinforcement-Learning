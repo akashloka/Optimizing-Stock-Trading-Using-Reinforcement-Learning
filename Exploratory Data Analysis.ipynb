{
 "cells": [
  {
   "cell_type": "markdown",
   "id": "9c1a6015",
   "metadata": {},
   "source": [
    "## Task : Exploratory Data Analysis\n",
    "\n",
    "### Perform ‘Exploratory Data Analysis’ on dataset ‘Stock’\n",
    "\n",
    "### Importing the required libraries for EDA\n",
    "#### Below are the libraries that are used in order to perform EDA (Exploratory data analysis)\n"
   ]
  },
  {
   "cell_type": "code",
   "execution_count": 1,
   "id": "b7b5a528",
   "metadata": {},
   "outputs": [],
   "source": [
    "import pandas as pd\n",
    "import numpy as np\n",
    "import matplotlib.pyplot as plt\n",
    "import seaborn as sns\n",
    "import scipy as sp\n",
    "import warnings\n",
    "warnings.filterwarnings(\"ignore\")"
   ]
  },
  {
   "cell_type": "markdown",
   "id": "b88c4a20",
   "metadata": {},
   "source": [
    "### Loading the data into the data frame."
   ]
  },
  {
   "cell_type": "code",
   "execution_count": 2,
   "id": "31ea9e57",
   "metadata": {},
   "outputs": [
    {
     "data": {
      "text/html": [
       "<div>\n",
       "<style scoped>\n",
       "    .dataframe tbody tr th:only-of-type {\n",
       "        vertical-align: middle;\n",
       "    }\n",
       "\n",
       "    .dataframe tbody tr th {\n",
       "        vertical-align: top;\n",
       "    }\n",
       "\n",
       "    .dataframe thead th {\n",
       "        text-align: right;\n",
       "    }\n",
       "</style>\n",
       "<table border=\"1\" class=\"dataframe\">\n",
       "  <thead>\n",
       "    <tr style=\"text-align: right;\">\n",
       "      <th></th>\n",
       "      <th>date</th>\n",
       "      <th>open</th>\n",
       "      <th>high</th>\n",
       "      <th>low</th>\n",
       "      <th>close</th>\n",
       "      <th>volume</th>\n",
       "      <th>Name</th>\n",
       "    </tr>\n",
       "  </thead>\n",
       "  <tbody>\n",
       "    <tr>\n",
       "      <th>0</th>\n",
       "      <td>2013-02-08</td>\n",
       "      <td>15.07</td>\n",
       "      <td>15.12</td>\n",
       "      <td>14.63</td>\n",
       "      <td>14.75</td>\n",
       "      <td>8407500</td>\n",
       "      <td>AAL</td>\n",
       "    </tr>\n",
       "    <tr>\n",
       "      <th>1</th>\n",
       "      <td>2013-02-11</td>\n",
       "      <td>14.89</td>\n",
       "      <td>15.01</td>\n",
       "      <td>14.26</td>\n",
       "      <td>14.46</td>\n",
       "      <td>8882000</td>\n",
       "      <td>AAL</td>\n",
       "    </tr>\n",
       "    <tr>\n",
       "      <th>2</th>\n",
       "      <td>2013-02-12</td>\n",
       "      <td>14.45</td>\n",
       "      <td>14.51</td>\n",
       "      <td>14.10</td>\n",
       "      <td>14.27</td>\n",
       "      <td>8126000</td>\n",
       "      <td>AAL</td>\n",
       "    </tr>\n",
       "    <tr>\n",
       "      <th>3</th>\n",
       "      <td>2013-02-13</td>\n",
       "      <td>14.30</td>\n",
       "      <td>14.94</td>\n",
       "      <td>14.25</td>\n",
       "      <td>14.66</td>\n",
       "      <td>10259500</td>\n",
       "      <td>AAL</td>\n",
       "    </tr>\n",
       "    <tr>\n",
       "      <th>4</th>\n",
       "      <td>2013-02-14</td>\n",
       "      <td>14.94</td>\n",
       "      <td>14.96</td>\n",
       "      <td>13.16</td>\n",
       "      <td>13.99</td>\n",
       "      <td>31879900</td>\n",
       "      <td>AAL</td>\n",
       "    </tr>\n",
       "  </tbody>\n",
       "</table>\n",
       "</div>"
      ],
      "text/plain": [
       "         date   open   high    low  close    volume Name\n",
       "0  2013-02-08  15.07  15.12  14.63  14.75   8407500  AAL\n",
       "1  2013-02-11  14.89  15.01  14.26  14.46   8882000  AAL\n",
       "2  2013-02-12  14.45  14.51  14.10  14.27   8126000  AAL\n",
       "3  2013-02-13  14.30  14.94  14.25  14.66  10259500  AAL\n",
       "4  2013-02-14  14.94  14.96  13.16  13.99  31879900  AAL"
      ]
     },
     "execution_count": 2,
     "metadata": {},
     "output_type": "execute_result"
    }
   ],
   "source": [
    "df = pd.read_csv(\"all_stocks_5yr.csv\")\n",
    "# To display the top 5 rows \n",
    "df.head(5)"
   ]
  },
  {
   "cell_type": "code",
   "execution_count": 3,
   "id": "ec2b3eff",
   "metadata": {},
   "outputs": [
    {
     "data": {
      "text/html": [
       "<div>\n",
       "<style scoped>\n",
       "    .dataframe tbody tr th:only-of-type {\n",
       "        vertical-align: middle;\n",
       "    }\n",
       "\n",
       "    .dataframe tbody tr th {\n",
       "        vertical-align: top;\n",
       "    }\n",
       "\n",
       "    .dataframe thead th {\n",
       "        text-align: right;\n",
       "    }\n",
       "</style>\n",
       "<table border=\"1\" class=\"dataframe\">\n",
       "  <thead>\n",
       "    <tr style=\"text-align: right;\">\n",
       "      <th></th>\n",
       "      <th>date</th>\n",
       "      <th>open</th>\n",
       "      <th>high</th>\n",
       "      <th>low</th>\n",
       "      <th>close</th>\n",
       "      <th>volume</th>\n",
       "      <th>Name</th>\n",
       "    </tr>\n",
       "  </thead>\n",
       "  <tbody>\n",
       "    <tr>\n",
       "      <th>619035</th>\n",
       "      <td>2018-02-01</td>\n",
       "      <td>76.84</td>\n",
       "      <td>78.27</td>\n",
       "      <td>76.69</td>\n",
       "      <td>77.82</td>\n",
       "      <td>2982259</td>\n",
       "      <td>ZTS</td>\n",
       "    </tr>\n",
       "    <tr>\n",
       "      <th>619036</th>\n",
       "      <td>2018-02-02</td>\n",
       "      <td>77.53</td>\n",
       "      <td>78.12</td>\n",
       "      <td>76.73</td>\n",
       "      <td>76.78</td>\n",
       "      <td>2595187</td>\n",
       "      <td>ZTS</td>\n",
       "    </tr>\n",
       "    <tr>\n",
       "      <th>619037</th>\n",
       "      <td>2018-02-05</td>\n",
       "      <td>76.64</td>\n",
       "      <td>76.92</td>\n",
       "      <td>73.18</td>\n",
       "      <td>73.83</td>\n",
       "      <td>2962031</td>\n",
       "      <td>ZTS</td>\n",
       "    </tr>\n",
       "    <tr>\n",
       "      <th>619038</th>\n",
       "      <td>2018-02-06</td>\n",
       "      <td>72.74</td>\n",
       "      <td>74.56</td>\n",
       "      <td>72.13</td>\n",
       "      <td>73.27</td>\n",
       "      <td>4924323</td>\n",
       "      <td>ZTS</td>\n",
       "    </tr>\n",
       "    <tr>\n",
       "      <th>619039</th>\n",
       "      <td>2018-02-07</td>\n",
       "      <td>72.70</td>\n",
       "      <td>75.00</td>\n",
       "      <td>72.69</td>\n",
       "      <td>73.86</td>\n",
       "      <td>4534912</td>\n",
       "      <td>ZTS</td>\n",
       "    </tr>\n",
       "  </tbody>\n",
       "</table>\n",
       "</div>"
      ],
      "text/plain": [
       "              date   open   high    low  close   volume Name\n",
       "619035  2018-02-01  76.84  78.27  76.69  77.82  2982259  ZTS\n",
       "619036  2018-02-02  77.53  78.12  76.73  76.78  2595187  ZTS\n",
       "619037  2018-02-05  76.64  76.92  73.18  73.83  2962031  ZTS\n",
       "619038  2018-02-06  72.74  74.56  72.13  73.27  4924323  ZTS\n",
       "619039  2018-02-07  72.70  75.00  72.69  73.86  4534912  ZTS"
      ]
     },
     "execution_count": 3,
     "metadata": {},
     "output_type": "execute_result"
    }
   ],
   "source": [
    "df.tail()                        "
   ]
  },
  {
   "cell_type": "code",
   "execution_count": 4,
   "id": "1862c379",
   "metadata": {},
   "outputs": [
    {
     "data": {
      "text/plain": [
       "str"
      ]
     },
     "execution_count": 4,
     "metadata": {},
     "output_type": "execute_result"
    }
   ],
   "source": [
    "type(df.date[0])"
   ]
  },
  {
   "cell_type": "code",
   "execution_count": 5,
   "id": "9b6e1c80",
   "metadata": {},
   "outputs": [
    {
     "data": {
      "text/plain": [
       "(619040, 7)"
      ]
     },
     "execution_count": 5,
     "metadata": {},
     "output_type": "execute_result"
    }
   ],
   "source": [
    "df.shape"
   ]
  },
  {
   "cell_type": "code",
   "execution_count": 6,
   "id": "52dc425f",
   "metadata": {},
   "outputs": [
    {
     "data": {
      "text/html": [
       "<div>\n",
       "<style scoped>\n",
       "    .dataframe tbody tr th:only-of-type {\n",
       "        vertical-align: middle;\n",
       "    }\n",
       "\n",
       "    .dataframe tbody tr th {\n",
       "        vertical-align: top;\n",
       "    }\n",
       "\n",
       "    .dataframe thead th {\n",
       "        text-align: right;\n",
       "    }\n",
       "</style>\n",
       "<table border=\"1\" class=\"dataframe\">\n",
       "  <thead>\n",
       "    <tr style=\"text-align: right;\">\n",
       "      <th></th>\n",
       "      <th>open</th>\n",
       "      <th>high</th>\n",
       "      <th>low</th>\n",
       "      <th>close</th>\n",
       "      <th>volume</th>\n",
       "    </tr>\n",
       "  </thead>\n",
       "  <tbody>\n",
       "    <tr>\n",
       "      <th>count</th>\n",
       "      <td>619029.000000</td>\n",
       "      <td>619032.000000</td>\n",
       "      <td>619032.000000</td>\n",
       "      <td>619040.000000</td>\n",
       "      <td>6.190400e+05</td>\n",
       "    </tr>\n",
       "    <tr>\n",
       "      <th>mean</th>\n",
       "      <td>83.023334</td>\n",
       "      <td>83.778311</td>\n",
       "      <td>82.256096</td>\n",
       "      <td>83.043763</td>\n",
       "      <td>4.321823e+06</td>\n",
       "    </tr>\n",
       "    <tr>\n",
       "      <th>std</th>\n",
       "      <td>97.378769</td>\n",
       "      <td>98.207519</td>\n",
       "      <td>96.507421</td>\n",
       "      <td>97.389748</td>\n",
       "      <td>8.693610e+06</td>\n",
       "    </tr>\n",
       "    <tr>\n",
       "      <th>min</th>\n",
       "      <td>1.620000</td>\n",
       "      <td>1.690000</td>\n",
       "      <td>1.500000</td>\n",
       "      <td>1.590000</td>\n",
       "      <td>0.000000e+00</td>\n",
       "    </tr>\n",
       "    <tr>\n",
       "      <th>25%</th>\n",
       "      <td>40.220000</td>\n",
       "      <td>40.620000</td>\n",
       "      <td>39.830000</td>\n",
       "      <td>40.245000</td>\n",
       "      <td>1.070320e+06</td>\n",
       "    </tr>\n",
       "    <tr>\n",
       "      <th>50%</th>\n",
       "      <td>62.590000</td>\n",
       "      <td>63.150000</td>\n",
       "      <td>62.020000</td>\n",
       "      <td>62.620000</td>\n",
       "      <td>2.082094e+06</td>\n",
       "    </tr>\n",
       "    <tr>\n",
       "      <th>75%</th>\n",
       "      <td>94.370000</td>\n",
       "      <td>95.180000</td>\n",
       "      <td>93.540000</td>\n",
       "      <td>94.410000</td>\n",
       "      <td>4.284509e+06</td>\n",
       "    </tr>\n",
       "    <tr>\n",
       "      <th>max</th>\n",
       "      <td>2044.000000</td>\n",
       "      <td>2067.990000</td>\n",
       "      <td>2035.110000</td>\n",
       "      <td>2049.000000</td>\n",
       "      <td>6.182376e+08</td>\n",
       "    </tr>\n",
       "  </tbody>\n",
       "</table>\n",
       "</div>"
      ],
      "text/plain": [
       "                open           high            low          close  \\\n",
       "count  619029.000000  619032.000000  619032.000000  619040.000000   \n",
       "mean       83.023334      83.778311      82.256096      83.043763   \n",
       "std        97.378769      98.207519      96.507421      97.389748   \n",
       "min         1.620000       1.690000       1.500000       1.590000   \n",
       "25%        40.220000      40.620000      39.830000      40.245000   \n",
       "50%        62.590000      63.150000      62.020000      62.620000   \n",
       "75%        94.370000      95.180000      93.540000      94.410000   \n",
       "max      2044.000000    2067.990000    2035.110000    2049.000000   \n",
       "\n",
       "             volume  \n",
       "count  6.190400e+05  \n",
       "mean   4.321823e+06  \n",
       "std    8.693610e+06  \n",
       "min    0.000000e+00  \n",
       "25%    1.070320e+06  \n",
       "50%    2.082094e+06  \n",
       "75%    4.284509e+06  \n",
       "max    6.182376e+08  "
      ]
     },
     "execution_count": 6,
     "metadata": {},
     "output_type": "execute_result"
    }
   ],
   "source": [
    "df.describe()"
   ]
  },
  {
   "cell_type": "code",
   "execution_count": 7,
   "id": "b721cc60",
   "metadata": {},
   "outputs": [
    {
     "name": "stdout",
     "output_type": "stream",
     "text": [
      "<class 'pandas.core.frame.DataFrame'>\n",
      "RangeIndex: 619040 entries, 0 to 619039\n",
      "Data columns (total 7 columns):\n",
      " #   Column  Non-Null Count   Dtype  \n",
      "---  ------  --------------   -----  \n",
      " 0   date    619040 non-null  object \n",
      " 1   open    619029 non-null  float64\n",
      " 2   high    619032 non-null  float64\n",
      " 3   low     619032 non-null  float64\n",
      " 4   close   619040 non-null  float64\n",
      " 5   volume  619040 non-null  int64  \n",
      " 6   Name    619040 non-null  object \n",
      "dtypes: float64(4), int64(1), object(2)\n",
      "memory usage: 33.1+ MB\n"
     ]
    }
   ],
   "source": [
    "df.info()"
   ]
  },
  {
   "cell_type": "code",
   "execution_count": 8,
   "id": "b78dfdae",
   "metadata": {},
   "outputs": [],
   "source": [
    "df.date=pd.to_datetime(df.date)"
   ]
  },
  {
   "cell_type": "code",
   "execution_count": 9,
   "id": "d787e5ad",
   "metadata": {},
   "outputs": [
    {
     "name": "stdout",
     "output_type": "stream",
     "text": [
      "<class 'pandas.core.frame.DataFrame'>\n",
      "RangeIndex: 619040 entries, 0 to 619039\n",
      "Data columns (total 7 columns):\n",
      " #   Column  Non-Null Count   Dtype         \n",
      "---  ------  --------------   -----         \n",
      " 0   date    619040 non-null  datetime64[ns]\n",
      " 1   open    619029 non-null  float64       \n",
      " 2   high    619032 non-null  float64       \n",
      " 3   low     619032 non-null  float64       \n",
      " 4   close   619040 non-null  float64       \n",
      " 5   volume  619040 non-null  int64         \n",
      " 6   Name    619040 non-null  object        \n",
      "dtypes: datetime64[ns](1), float64(4), int64(1), object(1)\n",
      "memory usage: 33.1+ MB\n"
     ]
    }
   ],
   "source": [
    "df.info()"
   ]
  },
  {
   "cell_type": "code",
   "execution_count": 10,
   "id": "745cf0d3",
   "metadata": {},
   "outputs": [
    {
     "name": "stdout",
     "output_type": "stream",
     "text": [
      "<class 'pandas.core.frame.DataFrame'>\n",
      "RangeIndex: 619040 entries, 0 to 619039\n",
      "Data columns (total 7 columns):\n",
      " #   Column  Non-Null Count   Dtype         \n",
      "---  ------  --------------   -----         \n",
      " 0   date    619040 non-null  datetime64[ns]\n",
      " 1   open    619029 non-null  float64       \n",
      " 2   high    619032 non-null  float64       \n",
      " 3   low     619032 non-null  float64       \n",
      " 4   close   619040 non-null  float64       \n",
      " 5   volume  619040 non-null  float64       \n",
      " 6   Name    619040 non-null  object        \n",
      "dtypes: datetime64[ns](1), float64(5), object(1)\n",
      "memory usage: 33.1+ MB\n"
     ]
    }
   ],
   "source": [
    "#converting volume into float\n",
    "df[\"volume\"]=df[\"volume\"].astype(float)\n",
    "df.info()"
   ]
  },
  {
   "cell_type": "code",
   "execution_count": 11,
   "id": "856359c0",
   "metadata": {},
   "outputs": [
    {
     "data": {
      "text/plain": [
       "0        2013-02-08\n",
       "1        2013-02-11\n",
       "2        2013-02-12\n",
       "3        2013-02-13\n",
       "4        2013-02-14\n",
       "            ...    \n",
       "619035   2018-02-01\n",
       "619036   2018-02-02\n",
       "619037   2018-02-05\n",
       "619038   2018-02-06\n",
       "619039   2018-02-07\n",
       "Name: date, Length: 619040, dtype: datetime64[ns]"
      ]
     },
     "execution_count": 11,
     "metadata": {},
     "output_type": "execute_result"
    }
   ],
   "source": [
    "df.date"
   ]
  },
  {
   "cell_type": "code",
   "execution_count": 12,
   "id": "ffd330b2",
   "metadata": {},
   "outputs": [
    {
     "data": {
      "text/plain": [
       "Index(['date', 'open', 'high', 'low', 'close', 'volume', 'Name'], dtype='object')"
      ]
     },
     "execution_count": 12,
     "metadata": {},
     "output_type": "execute_result"
    }
   ],
   "source": [
    "df.columns"
   ]
  },
  {
   "cell_type": "markdown",
   "id": "0622f0f1",
   "metadata": {},
   "source": [
    "### Checking the types of data"
   ]
  },
  {
   "cell_type": "code",
   "execution_count": 13,
   "id": "3b821d08",
   "metadata": {},
   "outputs": [
    {
     "data": {
      "text/plain": [
       "date      datetime64[ns]\n",
       "open             float64\n",
       "high             float64\n",
       "low              float64\n",
       "close            float64\n",
       "volume           float64\n",
       "Name              object\n",
       "dtype: object"
      ]
     },
     "execution_count": 13,
     "metadata": {},
     "output_type": "execute_result"
    }
   ],
   "source": [
    "df.dtypes"
   ]
  },
  {
   "cell_type": "markdown",
   "id": "25668cdf",
   "metadata": {},
   "source": [
    "## EDA"
   ]
  },
  {
   "cell_type": "code",
   "execution_count": 14,
   "id": "e90d334b",
   "metadata": {},
   "outputs": [
    {
     "data": {
      "text/plain": [
       "array(['AAL', 'AAPL', 'AAP', 'ABBV', 'ABC', 'ABT', 'ACN', 'ADBE', 'ADI',\n",
       "       'ADM', 'ADP', 'ADSK', 'ADS', 'AEE', 'AEP', 'AES', 'AET', 'AFL',\n",
       "       'AGN', 'AIG', 'AIV', 'AIZ', 'AJG', 'AKAM', 'ALB', 'ALGN', 'ALK',\n",
       "       'ALLE', 'ALL', 'ALXN', 'AMAT', 'AMD', 'AME', 'AMGN', 'AMG', 'AMP',\n",
       "       'AMT', 'AMZN', 'ANDV', 'ANSS', 'ANTM', 'AON', 'AOS', 'APA', 'APC',\n",
       "       'APD', 'APH', 'APTV', 'ARE', 'ARNC', 'ATVI', 'AVB', 'AVGO', 'AVY',\n",
       "       'AWK', 'AXP', 'AYI', 'AZO', 'A', 'BAC', 'BAX', 'BA', 'BBT', 'BBY',\n",
       "       'BDX', 'BEN', 'BF.B', 'BHF', 'BHGE', 'BIIB', 'BK', 'BLK', 'BLL',\n",
       "       'BMY', 'BRK.B', 'BSX', 'BWA', 'BXP', 'CAG', 'CAH', 'CAT', 'CA',\n",
       "       'CBG', 'CBOE', 'CBS', 'CB', 'CCI', 'CCL', 'CDNS', 'CELG', 'CERN',\n",
       "       'CFG', 'CF', 'CHD', 'CHK', 'CHRW', 'CHTR', 'CINF', 'CI', 'CLX',\n",
       "       'CL', 'CMA', 'CMCSA', 'CME', 'CMG', 'CMI', 'CMS', 'CNC', 'CNP',\n",
       "       'COF', 'COG', 'COL', 'COO', 'COP', 'COST', 'COTY', 'CPB', 'CRM',\n",
       "       'CSCO', 'CSRA', 'CSX', 'CTAS', 'CTL', 'CTSH', 'CTXS', 'CVS', 'CVX',\n",
       "       'CXO', 'C', 'DAL', 'DE', 'DFS', 'DGX', 'DG', 'DHI', 'DHR', 'DISCA',\n",
       "       'DISCK', 'DISH', 'DIS', 'DLR', 'DLTR', 'DOV', 'DPS', 'DRE', 'DRI',\n",
       "       'DTE', 'DUK', 'DVA', 'DVN', 'DWDP', 'DXC', 'D', 'EA', 'EBAY',\n",
       "       'ECL', 'ED', 'EFX', 'EIX', 'EL', 'EMN', 'EMR', 'EOG', 'EQIX',\n",
       "       'EQR', 'EQT', 'ESRX', 'ESS', 'ES', 'ETFC', 'ETN', 'ETR', 'EVHC',\n",
       "       'EW', 'EXC', 'EXPD', 'EXPE', 'EXR', 'FAST', 'FBHS', 'FB', 'FCX',\n",
       "       'FDX', 'FE', 'FFIV', 'FISV', 'FIS', 'FITB', 'FLIR', 'FLR', 'FLS',\n",
       "       'FL', 'FMC', 'FOXA', 'FOX', 'FRT', 'FTI', 'FTV', 'F', 'GD', 'GE',\n",
       "       'GGP', 'GILD', 'GIS', 'GLW', 'GM', 'GOOGL', 'GOOG', 'GPC', 'GPN',\n",
       "       'GPS', 'GRMN', 'GS', 'GT', 'GWW', 'HAL', 'HAS', 'HBAN', 'HBI',\n",
       "       'HCA', 'HCN', 'HCP', 'HD', 'HES', 'HIG', 'HII', 'HLT', 'HOG',\n",
       "       'HOLX', 'HON', 'HPE', 'HPQ', 'HP', 'HRB', 'HRL', 'HRS', 'HSIC',\n",
       "       'HST', 'HSY', 'HUM', 'IBM', 'ICE', 'IDXX', 'IFF', 'ILMN', 'INCY',\n",
       "       'INFO', 'INTC', 'INTU', 'IPG', 'IP', 'IQV', 'IRM', 'IR', 'ISRG',\n",
       "       'ITW', 'IT', 'IVZ', 'JBHT', 'JCI', 'JEC', 'JNJ', 'JNPR', 'JPM',\n",
       "       'JWN', 'KEY', 'KHC', 'KIM', 'KLAC', 'KMB', 'KMI', 'KMX', 'KORS',\n",
       "       'KO', 'KR', 'KSS', 'KSU', 'K', 'LB', 'LEG', 'LEN', 'LH', 'LKQ',\n",
       "       'LLL', 'LLY', 'LMT', 'LNC', 'LNT', 'LOW', 'LRCX', 'LUK', 'LUV',\n",
       "       'LYB', 'L', 'MAA', 'MAC', 'MAR', 'MAS', 'MAT', 'MA', 'MCD', 'MCHP',\n",
       "       'MCK', 'MCO', 'MDLZ', 'MDT', 'MET', 'MGM', 'MHK', 'MKC', 'MLM',\n",
       "       'MMC', 'MMM', 'MNST', 'MON', 'MOS', 'MO', 'MPC', 'MRK', 'MRO',\n",
       "       'MSFT', 'MSI', 'MS', 'MTB', 'MTD', 'MU', 'MYL', 'M', 'NAVI', 'NBL',\n",
       "       'NCLH', 'NDAQ', 'NEE', 'NEM', 'NFLX', 'NFX', 'NI', 'NKE', 'NLSN',\n",
       "       'NOC', 'NOV', 'NRG', 'NSC', 'NTAP', 'NTRS', 'NUE', 'NVDA', 'NWL',\n",
       "       'NWSA', 'NWS', 'OKE', 'OMC', 'ORCL', 'ORLY', 'OXY', 'O', 'PAYX',\n",
       "       'PBCT', 'PCAR', 'PCG', 'PCLN', 'PDCO', 'PEG', 'PEP', 'PFE', 'PFG',\n",
       "       'PGR', 'PG', 'PHM', 'PH', 'PKG', 'PKI', 'PLD', 'PM', 'PNC', 'PNR',\n",
       "       'PNW', 'PPG', 'PPL', 'PRGO', 'PRU', 'PSA', 'PSX', 'PVH', 'PWR',\n",
       "       'PXD', 'PX', 'PYPL', 'QCOM', 'QRVO', 'RCL', 'REGN', 'REG', 'RE',\n",
       "       'RF', 'RHI', 'RHT', 'RJF', 'RL', 'RMD', 'ROK', 'ROP', 'ROST',\n",
       "       'RRC', 'RSG', 'RTN', 'SBAC', 'SBUX', 'SCG', 'SCHW', 'SEE', 'SHW',\n",
       "       'SIG', 'SJM', 'SLB', 'SLG', 'SNA', 'SNI', 'SNPS', 'SO', 'SPGI',\n",
       "       'SPG', 'SRCL', 'SRE', 'STI', 'STT', 'STX', 'STZ', 'SWKS', 'SWK',\n",
       "       'SYF', 'SYK', 'SYMC', 'SYY', 'TAP', 'TDG', 'TEL', 'TGT', 'TIF',\n",
       "       'TJX', 'TMK', 'TMO', 'TPR', 'TRIP', 'TROW', 'TRV', 'TSCO', 'TSN',\n",
       "       'TSS', 'TWX', 'TXN', 'TXT', 'T', 'UAA', 'UAL', 'UA', 'UDR', 'UHS',\n",
       "       'ULTA', 'UNH', 'UNM', 'UNP', 'UPS', 'URI', 'USB', 'UTX', 'VAR',\n",
       "       'VFC', 'VIAB', 'VLO', 'VMC', 'VNO', 'VRSK', 'VRSN', 'VRTX', 'VTR',\n",
       "       'VZ', 'V', 'WAT', 'WBA', 'WDC', 'WEC', 'WFC', 'WHR', 'WLTW', 'WMB',\n",
       "       'WMT', 'WM', 'WRK', 'WU', 'WYNN', 'WYN', 'WY', 'XEC', 'XEL',\n",
       "       'XLNX', 'XL', 'XOM', 'XRAY', 'XRX', 'XYL', 'YUM', 'ZBH', 'ZION',\n",
       "       'ZTS'], dtype=object)"
      ]
     },
     "execution_count": 14,
     "metadata": {},
     "output_type": "execute_result"
    }
   ],
   "source": [
    "df.Name.unique()"
   ]
  },
  {
   "cell_type": "code",
   "execution_count": 15,
   "id": "05996c4d",
   "metadata": {},
   "outputs": [
    {
     "data": {
      "text/plain": [
       "505"
      ]
     },
     "execution_count": 15,
     "metadata": {},
     "output_type": "execute_result"
    }
   ],
   "source": [
    "df.Name.nunique()"
   ]
  },
  {
   "cell_type": "code",
   "execution_count": 16,
   "id": "483deb64",
   "metadata": {},
   "outputs": [
    {
     "data": {
      "text/plain": [
       "date        1259\n",
       "open       49715\n",
       "high       81499\n",
       "low        82354\n",
       "close      51151\n",
       "volume    586441\n",
       "Name         505\n",
       "dtype: int64"
      ]
     },
     "execution_count": 16,
     "metadata": {},
     "output_type": "execute_result"
    }
   ],
   "source": [
    "df.nunique()"
   ]
  },
  {
   "cell_type": "code",
   "execution_count": 17,
   "id": "c61b0415",
   "metadata": {},
   "outputs": [
    {
     "data": {
      "text/plain": [
       "Name\n",
       "A       1259\n",
       "NRG     1259\n",
       "NOC     1259\n",
       "NLSN    1259\n",
       "NKE     1259\n",
       "        ... \n",
       "DXC      215\n",
       "BHGE     152\n",
       "BHF      143\n",
       "DWDP     109\n",
       "APTV      44\n",
       "Name: date, Length: 505, dtype: int64"
      ]
     },
     "execution_count": 17,
     "metadata": {},
     "output_type": "execute_result"
    }
   ],
   "source": [
    "df.groupby('Name').count().sort_values('date', ascending=False)['date']"
   ]
  },
  {
   "cell_type": "code",
   "execution_count": 18,
   "id": "ab44ce78",
   "metadata": {},
   "outputs": [
    {
     "data": {
      "text/plain": [
       "date\n",
       "2013-02-08    476\n",
       "2013-02-11    476\n",
       "2013-02-12    476\n",
       "2013-02-13    476\n",
       "2013-02-14    476\n",
       "             ... \n",
       "2018-02-01    505\n",
       "2018-02-02    505\n",
       "2018-02-05    505\n",
       "2018-02-06    505\n",
       "2018-02-07    505\n",
       "Name: Name, Length: 1259, dtype: int64"
      ]
     },
     "execution_count": 18,
     "metadata": {},
     "output_type": "execute_result"
    }
   ],
   "source": [
    "df.groupby('date').Name.unique().apply(len)"
   ]
  },
  {
   "cell_type": "code",
   "execution_count": 19,
   "id": "36209137",
   "metadata": {},
   "outputs": [
    {
     "data": {
      "text/html": [
       "<div>\n",
       "<style scoped>\n",
       "    .dataframe tbody tr th:only-of-type {\n",
       "        vertical-align: middle;\n",
       "    }\n",
       "\n",
       "    .dataframe tbody tr th {\n",
       "        vertical-align: top;\n",
       "    }\n",
       "\n",
       "    .dataframe thead th {\n",
       "        text-align: right;\n",
       "    }\n",
       "</style>\n",
       "<table border=\"1\" class=\"dataframe\">\n",
       "  <thead>\n",
       "    <tr style=\"text-align: right;\">\n",
       "      <th></th>\n",
       "      <th>open</th>\n",
       "      <th>high</th>\n",
       "      <th>low</th>\n",
       "      <th>close</th>\n",
       "      <th>volume</th>\n",
       "    </tr>\n",
       "    <tr>\n",
       "      <th>Name</th>\n",
       "      <th></th>\n",
       "      <th></th>\n",
       "      <th></th>\n",
       "      <th></th>\n",
       "      <th></th>\n",
       "    </tr>\n",
       "  </thead>\n",
       "  <tbody>\n",
       "    <tr>\n",
       "      <th>A</th>\n",
       "      <td>49.187863</td>\n",
       "      <td>49.600059</td>\n",
       "      <td>48.782026</td>\n",
       "      <td>49.202025</td>\n",
       "      <td>2.338039e+06</td>\n",
       "    </tr>\n",
       "    <tr>\n",
       "      <th>AAL</th>\n",
       "      <td>38.390495</td>\n",
       "      <td>38.955554</td>\n",
       "      <td>37.825605</td>\n",
       "      <td>38.393252</td>\n",
       "      <td>9.390321e+06</td>\n",
       "    </tr>\n",
       "    <tr>\n",
       "      <th>AAP</th>\n",
       "      <td>132.439631</td>\n",
       "      <td>133.818297</td>\n",
       "      <td>131.036025</td>\n",
       "      <td>132.433463</td>\n",
       "      <td>1.078043e+06</td>\n",
       "    </tr>\n",
       "    <tr>\n",
       "      <th>AAPL</th>\n",
       "      <td>109.055429</td>\n",
       "      <td>109.951118</td>\n",
       "      <td>108.141589</td>\n",
       "      <td>109.066698</td>\n",
       "      <td>5.404790e+07</td>\n",
       "    </tr>\n",
       "    <tr>\n",
       "      <th>ABBV</th>\n",
       "      <td>60.802801</td>\n",
       "      <td>61.474133</td>\n",
       "      <td>60.177275</td>\n",
       "      <td>60.864440</td>\n",
       "      <td>7.870683e+06</td>\n",
       "    </tr>\n",
       "    <tr>\n",
       "      <th>...</th>\n",
       "      <td>...</td>\n",
       "      <td>...</td>\n",
       "      <td>...</td>\n",
       "      <td>...</td>\n",
       "      <td>...</td>\n",
       "    </tr>\n",
       "    <tr>\n",
       "      <th>XYL</th>\n",
       "      <td>41.415473</td>\n",
       "      <td>41.763885</td>\n",
       "      <td>41.076026</td>\n",
       "      <td>41.434095</td>\n",
       "      <td>1.183141e+06</td>\n",
       "    </tr>\n",
       "    <tr>\n",
       "      <th>YUM</th>\n",
       "      <td>75.422099</td>\n",
       "      <td>76.027123</td>\n",
       "      <td>74.844914</td>\n",
       "      <td>75.451009</td>\n",
       "      <td>3.209032e+06</td>\n",
       "    </tr>\n",
       "    <tr>\n",
       "      <th>ZBH</th>\n",
       "      <td>105.542014</td>\n",
       "      <td>106.419854</td>\n",
       "      <td>104.698038</td>\n",
       "      <td>105.606291</td>\n",
       "      <td>1.297144e+06</td>\n",
       "    </tr>\n",
       "    <tr>\n",
       "      <th>ZION</th>\n",
       "      <td>32.161477</td>\n",
       "      <td>32.509290</td>\n",
       "      <td>31.802241</td>\n",
       "      <td>32.171790</td>\n",
       "      <td>2.621178e+06</td>\n",
       "    </tr>\n",
       "    <tr>\n",
       "      <th>ZTS</th>\n",
       "      <td>45.091389</td>\n",
       "      <td>45.488826</td>\n",
       "      <td>44.665588</td>\n",
       "      <td>45.098648</td>\n",
       "      <td>3.681878e+06</td>\n",
       "    </tr>\n",
       "  </tbody>\n",
       "</table>\n",
       "<p>505 rows × 5 columns</p>\n",
       "</div>"
      ],
      "text/plain": [
       "            open        high         low       close        volume\n",
       "Name                                                              \n",
       "A      49.187863   49.600059   48.782026   49.202025  2.338039e+06\n",
       "AAL    38.390495   38.955554   37.825605   38.393252  9.390321e+06\n",
       "AAP   132.439631  133.818297  131.036025  132.433463  1.078043e+06\n",
       "AAPL  109.055429  109.951118  108.141589  109.066698  5.404790e+07\n",
       "ABBV   60.802801   61.474133   60.177275   60.864440  7.870683e+06\n",
       "...          ...         ...         ...         ...           ...\n",
       "XYL    41.415473   41.763885   41.076026   41.434095  1.183141e+06\n",
       "YUM    75.422099   76.027123   74.844914   75.451009  3.209032e+06\n",
       "ZBH   105.542014  106.419854  104.698038  105.606291  1.297144e+06\n",
       "ZION   32.161477   32.509290   31.802241   32.171790  2.621178e+06\n",
       "ZTS    45.091389   45.488826   44.665588   45.098648  3.681878e+06\n",
       "\n",
       "[505 rows x 5 columns]"
      ]
     },
     "execution_count": 19,
     "metadata": {},
     "output_type": "execute_result"
    }
   ],
   "source": [
    "df.groupby('Name').mean()"
   ]
  },
  {
   "cell_type": "code",
   "execution_count": 20,
   "id": "f39b802d",
   "metadata": {},
   "outputs": [
    {
     "data": {
      "text/plain": [
       "DIS     1259\n",
       "NRG     1259\n",
       "SO      1259\n",
       "BDX     1259\n",
       "STZ     1259\n",
       "        ... \n",
       "DXC      215\n",
       "BHGE     152\n",
       "BHF      143\n",
       "DWDP     109\n",
       "APTV      44\n",
       "Name: Name, Length: 505, dtype: int64"
      ]
     },
     "execution_count": 20,
     "metadata": {},
     "output_type": "execute_result"
    }
   ],
   "source": [
    "df.Name.value_counts()"
   ]
  },
  {
   "cell_type": "code",
   "execution_count": 21,
   "id": "e5f14b8d",
   "metadata": {},
   "outputs": [
    {
     "data": {
      "text/plain": [
       "<AxesSubplot:xlabel='Name'>"
      ]
     },
     "execution_count": 21,
     "metadata": {},
     "output_type": "execute_result"
    },
    {
     "data": {
      "image/png": "[encoded data removed]",
      "text/plain": [
       "<Figure size 432x288 with 1 Axes>"
      ]
     },
     "metadata": {
      "needs_background": "light"
     },
     "output_type": "display_data"
    }
   ],
   "source": [
    "df.groupby('Name').mean()['close'].plot()"
   ]
  },
  {
   "cell_type": "code",
   "execution_count": 22,
   "id": "8e205893",
   "metadata": {},
   "outputs": [],
   "source": [
    "stock_pivot = df.pivot_table(values = 'close', columns = 'Name', index = 'date')"
   ]
  },
  {
   "cell_type": "code",
   "execution_count": 23,
   "id": "84c43669",
   "metadata": {},
   "outputs": [],
   "source": [
    "stock_pivot = stock_pivot.reset_index()"
   ]
  },
  {
   "cell_type": "code",
   "execution_count": 24,
   "id": "33e8bb6e",
   "metadata": {},
   "outputs": [],
   "source": [
    "stock_pivot['date'] = pd.to_datetime(stock_pivot['date'])"
   ]
  },
  {
   "cell_type": "code",
   "execution_count": 25,
   "id": "8b130e8e",
   "metadata": {},
   "outputs": [],
   "source": [
    "stock_pivot = stock_pivot.set_index('date')"
   ]
  },
  {
   "cell_type": "code",
   "execution_count": 26,
   "id": "32682d86",
   "metadata": {},
   "outputs": [
    {
     "data": {
      "text/html": [
       "<div>\n",
       "<style scoped>\n",
       "    .dataframe tbody tr th:only-of-type {\n",
       "        vertical-align: middle;\n",
       "    }\n",
       "\n",
       "    .dataframe tbody tr th {\n",
       "        vertical-align: top;\n",
       "    }\n",
       "\n",
       "    .dataframe thead th {\n",
       "        text-align: right;\n",
       "    }\n",
       "</style>\n",
       "<table border=\"1\" class=\"dataframe\">\n",
       "  <thead>\n",
       "    <tr style=\"text-align: right;\">\n",
       "      <th>Name</th>\n",
       "      <th>A</th>\n",
       "      <th>AAL</th>\n",
       "      <th>AAP</th>\n",
       "      <th>AAPL</th>\n",
       "      <th>ABBV</th>\n",
       "      <th>ABC</th>\n",
       "      <th>ABT</th>\n",
       "      <th>ACN</th>\n",
       "      <th>ADBE</th>\n",
       "      <th>ADI</th>\n",
       "      <th>...</th>\n",
       "      <th>XL</th>\n",
       "      <th>XLNX</th>\n",
       "      <th>XOM</th>\n",
       "      <th>XRAY</th>\n",
       "      <th>XRX</th>\n",
       "      <th>XYL</th>\n",
       "      <th>YUM</th>\n",
       "      <th>ZBH</th>\n",
       "      <th>ZION</th>\n",
       "      <th>ZTS</th>\n",
       "    </tr>\n",
       "    <tr>\n",
       "      <th>date</th>\n",
       "      <th></th>\n",
       "      <th></th>\n",
       "      <th></th>\n",
       "      <th></th>\n",
       "      <th></th>\n",
       "      <th></th>\n",
       "      <th></th>\n",
       "      <th></th>\n",
       "      <th></th>\n",
       "      <th></th>\n",
       "      <th></th>\n",
       "      <th></th>\n",
       "      <th></th>\n",
       "      <th></th>\n",
       "      <th></th>\n",
       "      <th></th>\n",
       "      <th></th>\n",
       "      <th></th>\n",
       "      <th></th>\n",
       "      <th></th>\n",
       "      <th></th>\n",
       "    </tr>\n",
       "  </thead>\n",
       "  <tbody>\n",
       "    <tr>\n",
       "      <th>2013-02-08</th>\n",
       "      <td>45.08</td>\n",
       "      <td>14.75</td>\n",
       "      <td>78.90</td>\n",
       "      <td>67.8542</td>\n",
       "      <td>36.25</td>\n",
       "      <td>46.89</td>\n",
       "      <td>34.41</td>\n",
       "      <td>73.31</td>\n",
       "      <td>39.12</td>\n",
       "      <td>45.70</td>\n",
       "      <td>...</td>\n",
       "      <td>28.24</td>\n",
       "      <td>37.51</td>\n",
       "      <td>88.61</td>\n",
       "      <td>42.87</td>\n",
       "      <td>31.84</td>\n",
       "      <td>27.09</td>\n",
       "      <td>65.30</td>\n",
       "      <td>75.85</td>\n",
       "      <td>24.14</td>\n",
       "      <td>33.05</td>\n",
       "    </tr>\n",
       "    <tr>\n",
       "      <th>2013-02-11</th>\n",
       "      <td>44.60</td>\n",
       "      <td>14.46</td>\n",
       "      <td>78.39</td>\n",
       "      <td>68.5614</td>\n",
       "      <td>35.85</td>\n",
       "      <td>46.76</td>\n",
       "      <td>34.26</td>\n",
       "      <td>73.07</td>\n",
       "      <td>38.64</td>\n",
       "      <td>46.08</td>\n",
       "      <td>...</td>\n",
       "      <td>28.31</td>\n",
       "      <td>37.46</td>\n",
       "      <td>88.28</td>\n",
       "      <td>42.84</td>\n",
       "      <td>31.96</td>\n",
       "      <td>27.46</td>\n",
       "      <td>64.55</td>\n",
       "      <td>75.65</td>\n",
       "      <td>24.21</td>\n",
       "      <td>33.26</td>\n",
       "    </tr>\n",
       "    <tr>\n",
       "      <th>2013-02-12</th>\n",
       "      <td>44.62</td>\n",
       "      <td>14.27</td>\n",
       "      <td>78.60</td>\n",
       "      <td>66.8428</td>\n",
       "      <td>35.42</td>\n",
       "      <td>46.96</td>\n",
       "      <td>34.30</td>\n",
       "      <td>73.37</td>\n",
       "      <td>38.89</td>\n",
       "      <td>46.27</td>\n",
       "      <td>...</td>\n",
       "      <td>28.41</td>\n",
       "      <td>37.58</td>\n",
       "      <td>88.46</td>\n",
       "      <td>42.87</td>\n",
       "      <td>31.84</td>\n",
       "      <td>27.95</td>\n",
       "      <td>64.75</td>\n",
       "      <td>75.44</td>\n",
       "      <td>24.49</td>\n",
       "      <td>33.74</td>\n",
       "    </tr>\n",
       "    <tr>\n",
       "      <th>2013-02-13</th>\n",
       "      <td>44.75</td>\n",
       "      <td>14.66</td>\n",
       "      <td>78.97</td>\n",
       "      <td>66.7156</td>\n",
       "      <td>35.27</td>\n",
       "      <td>46.64</td>\n",
       "      <td>34.46</td>\n",
       "      <td>73.56</td>\n",
       "      <td>38.81</td>\n",
       "      <td>46.26</td>\n",
       "      <td>...</td>\n",
       "      <td>28.42</td>\n",
       "      <td>37.80</td>\n",
       "      <td>88.67</td>\n",
       "      <td>43.08</td>\n",
       "      <td>32.00</td>\n",
       "      <td>28.26</td>\n",
       "      <td>64.41</td>\n",
       "      <td>76.00</td>\n",
       "      <td>24.74</td>\n",
       "      <td>33.55</td>\n",
       "    </tr>\n",
       "    <tr>\n",
       "      <th>2013-02-14</th>\n",
       "      <td>44.58</td>\n",
       "      <td>13.99</td>\n",
       "      <td>78.84</td>\n",
       "      <td>66.6556</td>\n",
       "      <td>36.57</td>\n",
       "      <td>46.77</td>\n",
       "      <td>34.70</td>\n",
       "      <td>73.13</td>\n",
       "      <td>38.61</td>\n",
       "      <td>46.54</td>\n",
       "      <td>...</td>\n",
       "      <td>28.22</td>\n",
       "      <td>38.44</td>\n",
       "      <td>88.52</td>\n",
       "      <td>42.91</td>\n",
       "      <td>32.12</td>\n",
       "      <td>28.47</td>\n",
       "      <td>63.89</td>\n",
       "      <td>76.34</td>\n",
       "      <td>24.63</td>\n",
       "      <td>33.27</td>\n",
       "    </tr>\n",
       "    <tr>\n",
       "      <th>...</th>\n",
       "      <td>...</td>\n",
       "      <td>...</td>\n",
       "      <td>...</td>\n",
       "      <td>...</td>\n",
       "      <td>...</td>\n",
       "      <td>...</td>\n",
       "      <td>...</td>\n",
       "      <td>...</td>\n",
       "      <td>...</td>\n",
       "      <td>...</td>\n",
       "      <td>...</td>\n",
       "      <td>...</td>\n",
       "      <td>...</td>\n",
       "      <td>...</td>\n",
       "      <td>...</td>\n",
       "      <td>...</td>\n",
       "      <td>...</td>\n",
       "      <td>...</td>\n",
       "      <td>...</td>\n",
       "      <td>...</td>\n",
       "      <td>...</td>\n",
       "    </tr>\n",
       "    <tr>\n",
       "      <th>2018-02-01</th>\n",
       "      <td>72.83</td>\n",
       "      <td>53.88</td>\n",
       "      <td>117.29</td>\n",
       "      <td>167.7800</td>\n",
       "      <td>116.34</td>\n",
       "      <td>99.29</td>\n",
       "      <td>62.18</td>\n",
       "      <td>160.46</td>\n",
       "      <td>199.38</td>\n",
       "      <td>91.65</td>\n",
       "      <td>...</td>\n",
       "      <td>36.79</td>\n",
       "      <td>72.49</td>\n",
       "      <td>89.07</td>\n",
       "      <td>60.73</td>\n",
       "      <td>32.75</td>\n",
       "      <td>74.84</td>\n",
       "      <td>83.98</td>\n",
       "      <td>128.19</td>\n",
       "      <td>54.98</td>\n",
       "      <td>77.82</td>\n",
       "    </tr>\n",
       "    <tr>\n",
       "      <th>2018-02-02</th>\n",
       "      <td>71.25</td>\n",
       "      <td>52.10</td>\n",
       "      <td>113.93</td>\n",
       "      <td>160.5000</td>\n",
       "      <td>115.17</td>\n",
       "      <td>96.02</td>\n",
       "      <td>61.69</td>\n",
       "      <td>156.90</td>\n",
       "      <td>195.64</td>\n",
       "      <td>89.11</td>\n",
       "      <td>...</td>\n",
       "      <td>38.25</td>\n",
       "      <td>70.64</td>\n",
       "      <td>84.53</td>\n",
       "      <td>60.06</td>\n",
       "      <td>31.63</td>\n",
       "      <td>75.66</td>\n",
       "      <td>82.63</td>\n",
       "      <td>125.79</td>\n",
       "      <td>54.15</td>\n",
       "      <td>76.78</td>\n",
       "    </tr>\n",
       "    <tr>\n",
       "      <th>2018-02-05</th>\n",
       "      <td>68.22</td>\n",
       "      <td>49.76</td>\n",
       "      <td>109.86</td>\n",
       "      <td>156.4900</td>\n",
       "      <td>109.51</td>\n",
       "      <td>91.90</td>\n",
       "      <td>58.73</td>\n",
       "      <td>151.83</td>\n",
       "      <td>190.27</td>\n",
       "      <td>85.40</td>\n",
       "      <td>...</td>\n",
       "      <td>37.68</td>\n",
       "      <td>66.97</td>\n",
       "      <td>79.72</td>\n",
       "      <td>58.54</td>\n",
       "      <td>31.38</td>\n",
       "      <td>72.66</td>\n",
       "      <td>79.80</td>\n",
       "      <td>123.18</td>\n",
       "      <td>51.65</td>\n",
       "      <td>73.83</td>\n",
       "    </tr>\n",
       "    <tr>\n",
       "      <th>2018-02-06</th>\n",
       "      <td>68.45</td>\n",
       "      <td>51.18</td>\n",
       "      <td>112.20</td>\n",
       "      <td>163.0300</td>\n",
       "      <td>111.20</td>\n",
       "      <td>91.54</td>\n",
       "      <td>58.86</td>\n",
       "      <td>154.69</td>\n",
       "      <td>194.47</td>\n",
       "      <td>88.54</td>\n",
       "      <td>...</td>\n",
       "      <td>37.34</td>\n",
       "      <td>68.99</td>\n",
       "      <td>78.35</td>\n",
       "      <td>58.46</td>\n",
       "      <td>30.85</td>\n",
       "      <td>71.33</td>\n",
       "      <td>80.58</td>\n",
       "      <td>122.30</td>\n",
       "      <td>52.52</td>\n",
       "      <td>73.27</td>\n",
       "    </tr>\n",
       "    <tr>\n",
       "      <th>2018-02-07</th>\n",
       "      <td>68.06</td>\n",
       "      <td>51.40</td>\n",
       "      <td>109.93</td>\n",
       "      <td>159.5400</td>\n",
       "      <td>113.62</td>\n",
       "      <td>94.22</td>\n",
       "      <td>58.67</td>\n",
       "      <td>155.15</td>\n",
       "      <td>192.34</td>\n",
       "      <td>85.35</td>\n",
       "      <td>...</td>\n",
       "      <td>42.00</td>\n",
       "      <td>66.97</td>\n",
       "      <td>76.94</td>\n",
       "      <td>58.30</td>\n",
       "      <td>31.18</td>\n",
       "      <td>71.79</td>\n",
       "      <td>80.13</td>\n",
       "      <td>120.78</td>\n",
       "      <td>54.02</td>\n",
       "      <td>73.86</td>\n",
       "    </tr>\n",
       "  </tbody>\n",
       "</table>\n",
       "<p>1259 rows × 505 columns</p>\n",
       "</div>"
      ],
      "text/plain": [
       "Name            A    AAL     AAP      AAPL    ABBV    ABC    ABT     ACN  \\\n",
       "date                                                                       \n",
       "2013-02-08  45.08  14.75   78.90   67.8542   36.25  46.89  34.41   73.31   \n",
       "2013-02-11  44.60  14.46   78.39   68.5614   35.85  46.76  34.26   73.07   \n",
       "2013-02-12  44.62  14.27   78.60   66.8428   35.42  46.96  34.30   73.37   \n",
       "2013-02-13  44.75  14.66   78.97   66.7156   35.27  46.64  34.46   73.56   \n",
       "2013-02-14  44.58  13.99   78.84   66.6556   36.57  46.77  34.70   73.13   \n",
       "...           ...    ...     ...       ...     ...    ...    ...     ...   \n",
       "2018-02-01  72.83  53.88  117.29  167.7800  116.34  99.29  62.18  160.46   \n",
       "2018-02-02  71.25  52.10  113.93  160.5000  115.17  96.02  61.69  156.90   \n",
       "2018-02-05  68.22  49.76  109.86  156.4900  109.51  91.90  58.73  151.83   \n",
       "2018-02-06  68.45  51.18  112.20  163.0300  111.20  91.54  58.86  154.69   \n",
       "2018-02-07  68.06  51.40  109.93  159.5400  113.62  94.22  58.67  155.15   \n",
       "\n",
       "Name          ADBE    ADI  ...     XL   XLNX    XOM   XRAY    XRX    XYL  \\\n",
       "date                       ...                                             \n",
       "2013-02-08   39.12  45.70  ...  28.24  37.51  88.61  42.87  31.84  27.09   \n",
       "2013-02-11   38.64  46.08  ...  28.31  37.46  88.28  42.84  31.96  27.46   \n",
       "2013-02-12   38.89  46.27  ...  28.41  37.58  88.46  42.87  31.84  27.95   \n",
       "2013-02-13   38.81  46.26  ...  28.42  37.80  88.67  43.08  32.00  28.26   \n",
       "2013-02-14   38.61  46.54  ...  28.22  38.44  88.52  42.91  32.12  28.47   \n",
       "...            ...    ...  ...    ...    ...    ...    ...    ...    ...   \n",
       "2018-02-01  199.38  91.65  ...  36.79  72.49  89.07  60.73  32.75  74.84   \n",
       "2018-02-02  195.64  89.11  ...  38.25  70.64  84.53  60.06  31.63  75.66   \n",
       "2018-02-05  190.27  85.40  ...  37.68  66.97  79.72  58.54  31.38  72.66   \n",
       "2018-02-06  194.47  88.54  ...  37.34  68.99  78.35  58.46  30.85  71.33   \n",
       "2018-02-07  192.34  85.35  ...  42.00  66.97  76.94  58.30  31.18  71.79   \n",
       "\n",
       "Name          YUM     ZBH   ZION    ZTS  \n",
       "date                                     \n",
       "2013-02-08  65.30   75.85  24.14  33.05  \n",
       "2013-02-11  64.55   75.65  24.21  33.26  \n",
       "2013-02-12  64.75   75.44  24.49  33.74  \n",
       "2013-02-13  64.41   76.00  24.74  33.55  \n",
       "2013-02-14  63.89   76.34  24.63  33.27  \n",
       "...           ...     ...    ...    ...  \n",
       "2018-02-01  83.98  128.19  54.98  77.82  \n",
       "2018-02-02  82.63  125.79  54.15  76.78  \n",
       "2018-02-05  79.80  123.18  51.65  73.83  \n",
       "2018-02-06  80.58  122.30  52.52  73.27  \n",
       "2018-02-07  80.13  120.78  54.02  73.86  \n",
       "\n",
       "[1259 rows x 505 columns]"
      ]
     },
     "execution_count": 26,
     "metadata": {},
     "output_type": "execute_result"
    }
   ],
   "source": [
    "stock_pivot"
   ]
  },
  {
   "cell_type": "markdown",
   "id": "005d1ab9",
   "metadata": {},
   "source": [
    "## Data Cleaning"
   ]
  },
  {
   "cell_type": "code",
   "execution_count": 27,
   "id": "cf95505d",
   "metadata": {},
   "outputs": [
    {
     "data": {
      "text/plain": [
       "date       0\n",
       "open      11\n",
       "high       8\n",
       "low        8\n",
       "close      0\n",
       "volume     0\n",
       "Name       0\n",
       "dtype: int64"
      ]
     },
     "execution_count": 27,
     "metadata": {},
     "output_type": "execute_result"
    }
   ],
   "source": [
    "df.isnull().sum()"
   ]
  },
  {
   "cell_type": "code",
   "execution_count": 28,
   "id": "46df81f1",
   "metadata": {},
   "outputs": [
    {
     "data": {
      "text/html": [
       "<div>\n",
       "<style scoped>\n",
       "    .dataframe tbody tr th:only-of-type {\n",
       "        vertical-align: middle;\n",
       "    }\n",
       "\n",
       "    .dataframe tbody tr th {\n",
       "        vertical-align: top;\n",
       "    }\n",
       "\n",
       "    .dataframe thead th {\n",
       "        text-align: right;\n",
       "    }\n",
       "</style>\n",
       "<table border=\"1\" class=\"dataframe\">\n",
       "  <thead>\n",
       "    <tr style=\"text-align: right;\">\n",
       "      <th></th>\n",
       "      <th>date</th>\n",
       "      <th>open</th>\n",
       "      <th>high</th>\n",
       "      <th>low</th>\n",
       "      <th>close</th>\n",
       "      <th>volume</th>\n",
       "      <th>Name</th>\n",
       "    </tr>\n",
       "  </thead>\n",
       "  <tbody>\n",
       "    <tr>\n",
       "      <th>82949</th>\n",
       "      <td>2017-07-26</td>\n",
       "      <td>NaN</td>\n",
       "      <td>NaN</td>\n",
       "      <td>NaN</td>\n",
       "      <td>69.0842</td>\n",
       "      <td>3.0</td>\n",
       "      <td>BHF</td>\n",
       "    </tr>\n",
       "    <tr>\n",
       "      <th>165734</th>\n",
       "      <td>2015-07-17</td>\n",
       "      <td>NaN</td>\n",
       "      <td>88.76</td>\n",
       "      <td>88.24</td>\n",
       "      <td>88.7200</td>\n",
       "      <td>2056819.0</td>\n",
       "      <td>DHR</td>\n",
       "    </tr>\n",
       "    <tr>\n",
       "      <th>165857</th>\n",
       "      <td>2016-01-12</td>\n",
       "      <td>NaN</td>\n",
       "      <td>NaN</td>\n",
       "      <td>NaN</td>\n",
       "      <td>88.5500</td>\n",
       "      <td>0.0</td>\n",
       "      <td>DHR</td>\n",
       "    </tr>\n",
       "    <tr>\n",
       "      <th>205076</th>\n",
       "      <td>2015-07-17</td>\n",
       "      <td>NaN</td>\n",
       "      <td>48.49</td>\n",
       "      <td>47.85</td>\n",
       "      <td>47.9200</td>\n",
       "      <td>1246786.0</td>\n",
       "      <td>ES</td>\n",
       "    </tr>\n",
       "    <tr>\n",
       "      <th>239832</th>\n",
       "      <td>2016-07-01</td>\n",
       "      <td>NaN</td>\n",
       "      <td>NaN</td>\n",
       "      <td>NaN</td>\n",
       "      <td>49.5400</td>\n",
       "      <td>0.0</td>\n",
       "      <td>FTV</td>\n",
       "    </tr>\n",
       "    <tr>\n",
       "      <th>434379</th>\n",
       "      <td>2015-07-17</td>\n",
       "      <td>NaN</td>\n",
       "      <td>47.31</td>\n",
       "      <td>46.83</td>\n",
       "      <td>46.9900</td>\n",
       "      <td>1229513.0</td>\n",
       "      <td>O</td>\n",
       "    </tr>\n",
       "    <tr>\n",
       "      <th>434502</th>\n",
       "      <td>2016-01-12</td>\n",
       "      <td>NaN</td>\n",
       "      <td>NaN</td>\n",
       "      <td>NaN</td>\n",
       "      <td>52.4300</td>\n",
       "      <td>0.0</td>\n",
       "      <td>O</td>\n",
       "    </tr>\n",
       "    <tr>\n",
       "      <th>478594</th>\n",
       "      <td>2015-06-09</td>\n",
       "      <td>NaN</td>\n",
       "      <td>NaN</td>\n",
       "      <td>NaN</td>\n",
       "      <td>526.0900</td>\n",
       "      <td>12135.0</td>\n",
       "      <td>REGN</td>\n",
       "    </tr>\n",
       "    <tr>\n",
       "      <th>558213</th>\n",
       "      <td>2016-04-07</td>\n",
       "      <td>NaN</td>\n",
       "      <td>NaN</td>\n",
       "      <td>NaN</td>\n",
       "      <td>41.5600</td>\n",
       "      <td>0.0</td>\n",
       "      <td>UA</td>\n",
       "    </tr>\n",
       "    <tr>\n",
       "      <th>581906</th>\n",
       "      <td>2015-05-12</td>\n",
       "      <td>NaN</td>\n",
       "      <td>NaN</td>\n",
       "      <td>NaN</td>\n",
       "      <td>124.0800</td>\n",
       "      <td>569747.0</td>\n",
       "      <td>VRTX</td>\n",
       "    </tr>\n",
       "    <tr>\n",
       "      <th>598236</th>\n",
       "      <td>2015-06-26</td>\n",
       "      <td>NaN</td>\n",
       "      <td>NaN</td>\n",
       "      <td>NaN</td>\n",
       "      <td>61.9000</td>\n",
       "      <td>100.0</td>\n",
       "      <td>WRK</td>\n",
       "    </tr>\n",
       "  </tbody>\n",
       "</table>\n",
       "</div>"
      ],
      "text/plain": [
       "             date  open   high    low     close     volume  Name\n",
       "82949  2017-07-26   NaN    NaN    NaN   69.0842        3.0   BHF\n",
       "165734 2015-07-17   NaN  88.76  88.24   88.7200  2056819.0   DHR\n",
       "165857 2016-01-12   NaN    NaN    NaN   88.5500        0.0   DHR\n",
       "205076 2015-07-17   NaN  48.49  47.85   47.9200  1246786.0    ES\n",
       "239832 2016-07-01   NaN    NaN    NaN   49.5400        0.0   FTV\n",
       "434379 2015-07-17   NaN  47.31  46.83   46.9900  1229513.0     O\n",
       "434502 2016-01-12   NaN    NaN    NaN   52.4300        0.0     O\n",
       "478594 2015-06-09   NaN    NaN    NaN  526.0900    12135.0  REGN\n",
       "558213 2016-04-07   NaN    NaN    NaN   41.5600        0.0    UA\n",
       "581906 2015-05-12   NaN    NaN    NaN  124.0800   569747.0  VRTX\n",
       "598236 2015-06-26   NaN    NaN    NaN   61.9000      100.0   WRK"
      ]
     },
     "execution_count": 28,
     "metadata": {},
     "output_type": "execute_result"
    }
   ],
   "source": [
    "df[df.open.isnull()]"
   ]
  },
  {
   "cell_type": "code",
   "execution_count": 29,
   "id": "9aa608bd",
   "metadata": {},
   "outputs": [
    {
     "name": "stdout",
     "output_type": "stream",
     "text": [
      "open    83.023334\n",
      "high    83.778311\n",
      "low     82.256096\n",
      "dtype: float64\n"
     ]
    }
   ],
   "source": [
    "mean_values = df[['open','high','low']].mean()\n",
    "print(mean_values)"
   ]
  },
  {
   "cell_type": "code",
   "execution_count": 30,
   "id": "6eb4025c",
   "metadata": {},
   "outputs": [
    {
     "name": "stdout",
     "output_type": "stream",
     "text": [
      "Updated Dataframe:\n",
      "             date   open   high    low  close      volume Name\n",
      "0      2013-02-08  15.07  15.12  14.63  14.75   8407500.0  AAL\n",
      "1      2013-02-11  14.89  15.01  14.26  14.46   8882000.0  AAL\n",
      "2      2013-02-12  14.45  14.51  14.10  14.27   8126000.0  AAL\n",
      "3      2013-02-13  14.30  14.94  14.25  14.66  10259500.0  AAL\n",
      "4      2013-02-14  14.94  14.96  13.16  13.99  31879900.0  AAL\n",
      "...           ...    ...    ...    ...    ...         ...  ...\n",
      "619035 2018-02-01  76.84  78.27  76.69  77.82   2982259.0  ZTS\n",
      "619036 2018-02-02  77.53  78.12  76.73  76.78   2595187.0  ZTS\n",
      "619037 2018-02-05  76.64  76.92  73.18  73.83   2962031.0  ZTS\n",
      "619038 2018-02-06  72.74  74.56  72.13  73.27   4924323.0  ZTS\n",
      "619039 2018-02-07  72.70  75.00  72.69  73.86   4534912.0  ZTS\n",
      "\n",
      "[619040 rows x 7 columns]\n"
     ]
    }
   ],
   "source": [
    "df[['open','high','low']] = df[['open','high','low']].fillna(value=df[['open','high','low']].mean())\n",
    "print('Updated Dataframe:')\n",
    "print(df)"
   ]
  },
  {
   "cell_type": "code",
   "execution_count": 31,
   "id": "97b5a726",
   "metadata": {},
   "outputs": [
    {
     "data": {
      "text/plain": [
       "date      0\n",
       "open      0\n",
       "high      0\n",
       "low       0\n",
       "close     0\n",
       "volume    0\n",
       "Name      0\n",
       "dtype: int64"
      ]
     },
     "execution_count": 31,
     "metadata": {},
     "output_type": "execute_result"
    }
   ],
   "source": [
    "df.isna().sum()"
   ]
  },
  {
   "cell_type": "markdown",
   "id": "deb203f5",
   "metadata": {},
   "source": [
    "### Plot"
   ]
  },
  {
   "cell_type": "code",
   "execution_count": 32,
   "id": "acdfe1e3",
   "metadata": {},
   "outputs": [
    {
     "data": {
      "text/plain": [
       "<seaborn.axisgrid.PairGrid at 0x27e77bd4400>"
      ]
     },
     "execution_count": 32,
     "metadata": {},
     "output_type": "execute_result"
    },
    {
     "data": {
      "image/png": "[encoded data removed]",
      "text/plain": [
       "<Figure size 900x900 with 30 Axes>"
      ]
     },
     "metadata": {
      "needs_background": "light"
     },
     "output_type": "display_data"
    }
   ],
   "source": [
    "sns.pairplot(df)"
   ]
  },
  {
   "cell_type": "code",
   "execution_count": 33,
   "id": "7b07d985",
   "metadata": {
    "scrolled": true
   },
   "outputs": [
    {
     "data": {
      "text/plain": [
       "<seaborn.axisgrid.FacetGrid at 0x27e09d37ca0>"
      ]
     },
     "execution_count": 33,
     "metadata": {},
     "output_type": "execute_result"
    },
    {
     "data": {
      "image/png": "[encoded data removed]",
      "text/plain": [
       "<Figure size 412x360 with 1 Axes>"
      ]
     },
     "metadata": {
      "needs_background": "light"
     },
     "output_type": "display_data"
    }
   ],
   "source": [
    "sns.relplot(x = \"open\", y = \"close\", hue = \"volume\", data = df)"
   ]
  },
  {
   "cell_type": "markdown",
   "id": "d00ffa2f",
   "metadata": {},
   "source": [
    "### Heat Maps"
   ]
  },
  {
   "cell_type": "code",
   "execution_count": 34,
   "id": "ccbb0716",
   "metadata": {},
   "outputs": [
    {
     "data": {
      "text/html": [
       "<div>\n",
       "<style scoped>\n",
       "    .dataframe tbody tr th:only-of-type {\n",
       "        vertical-align: middle;\n",
       "    }\n",
       "\n",
       "    .dataframe tbody tr th {\n",
       "        vertical-align: top;\n",
       "    }\n",
       "\n",
       "    .dataframe thead th {\n",
       "        text-align: right;\n",
       "    }\n",
       "</style>\n",
       "<table border=\"1\" class=\"dataframe\">\n",
       "  <thead>\n",
       "    <tr style=\"text-align: right;\">\n",
       "      <th></th>\n",
       "      <th>open</th>\n",
       "      <th>high</th>\n",
       "      <th>low</th>\n",
       "      <th>close</th>\n",
       "      <th>volume</th>\n",
       "    </tr>\n",
       "  </thead>\n",
       "  <tbody>\n",
       "    <tr>\n",
       "      <th>open</th>\n",
       "      <td>1.000000</td>\n",
       "      <td>0.999939</td>\n",
       "      <td>0.999927</td>\n",
       "      <td>0.999854</td>\n",
       "      <td>-0.142705</td>\n",
       "    </tr>\n",
       "    <tr>\n",
       "      <th>high</th>\n",
       "      <td>0.999939</td>\n",
       "      <td>1.000000</td>\n",
       "      <td>0.999903</td>\n",
       "      <td>0.999919</td>\n",
       "      <td>-0.142315</td>\n",
       "    </tr>\n",
       "    <tr>\n",
       "      <th>low</th>\n",
       "      <td>0.999927</td>\n",
       "      <td>0.999903</td>\n",
       "      <td>1.000000</td>\n",
       "      <td>0.999922</td>\n",
       "      <td>-0.143239</td>\n",
       "    </tr>\n",
       "    <tr>\n",
       "      <th>close</th>\n",
       "      <td>0.999854</td>\n",
       "      <td>0.999919</td>\n",
       "      <td>0.999922</td>\n",
       "      <td>1.000000</td>\n",
       "      <td>-0.142802</td>\n",
       "    </tr>\n",
       "    <tr>\n",
       "      <th>volume</th>\n",
       "      <td>-0.142705</td>\n",
       "      <td>-0.142315</td>\n",
       "      <td>-0.143239</td>\n",
       "      <td>-0.142802</td>\n",
       "      <td>1.000000</td>\n",
       "    </tr>\n",
       "  </tbody>\n",
       "</table>\n",
       "</div>"
      ],
      "text/plain": [
       "            open      high       low     close    volume\n",
       "open    1.000000  0.999939  0.999927  0.999854 -0.142705\n",
       "high    0.999939  1.000000  0.999903  0.999919 -0.142315\n",
       "low     0.999927  0.999903  1.000000  0.999922 -0.143239\n",
       "close   0.999854  0.999919  0.999922  1.000000 -0.142802\n",
       "volume -0.142705 -0.142315 -0.143239 -0.142802  1.000000"
      ]
     },
     "execution_count": 34,
     "metadata": {},
     "output_type": "execute_result"
    }
   ],
   "source": [
    "corrmat = df.corr()\n",
    "corrmat"
   ]
  },
  {
   "cell_type": "code",
   "execution_count": 35,
   "id": "c59753db",
   "metadata": {},
   "outputs": [
    {
     "data": {
      "text/html": [
       "<div>\n",
       "<style scoped>\n",
       "    .dataframe tbody tr th:only-of-type {\n",
       "        vertical-align: middle;\n",
       "    }\n",
       "\n",
       "    .dataframe tbody tr th {\n",
       "        vertical-align: top;\n",
       "    }\n",
       "\n",
       "    .dataframe thead th {\n",
       "        text-align: right;\n",
       "    }\n",
       "</style>\n",
       "<table border=\"1\" class=\"dataframe\">\n",
       "  <thead>\n",
       "    <tr style=\"text-align: right;\">\n",
       "      <th></th>\n",
       "      <th>open</th>\n",
       "      <th>high</th>\n",
       "      <th>low</th>\n",
       "      <th>close</th>\n",
       "      <th>volume</th>\n",
       "    </tr>\n",
       "  </thead>\n",
       "  <tbody>\n",
       "    <tr>\n",
       "      <th>open</th>\n",
       "      <td>1.000000</td>\n",
       "      <td>0.999939</td>\n",
       "      <td>0.999927</td>\n",
       "      <td>0.999854</td>\n",
       "      <td>-0.142705</td>\n",
       "    </tr>\n",
       "    <tr>\n",
       "      <th>high</th>\n",
       "      <td>0.999939</td>\n",
       "      <td>1.000000</td>\n",
       "      <td>0.999903</td>\n",
       "      <td>0.999919</td>\n",
       "      <td>-0.142315</td>\n",
       "    </tr>\n",
       "    <tr>\n",
       "      <th>low</th>\n",
       "      <td>0.999927</td>\n",
       "      <td>0.999903</td>\n",
       "      <td>1.000000</td>\n",
       "      <td>0.999922</td>\n",
       "      <td>-0.143239</td>\n",
       "    </tr>\n",
       "    <tr>\n",
       "      <th>close</th>\n",
       "      <td>0.999854</td>\n",
       "      <td>0.999919</td>\n",
       "      <td>0.999922</td>\n",
       "      <td>1.000000</td>\n",
       "      <td>-0.142802</td>\n",
       "    </tr>\n",
       "    <tr>\n",
       "      <th>volume</th>\n",
       "      <td>-0.142705</td>\n",
       "      <td>-0.142315</td>\n",
       "      <td>-0.143239</td>\n",
       "      <td>-0.142802</td>\n",
       "      <td>1.000000</td>\n",
       "    </tr>\n",
       "  </tbody>\n",
       "</table>\n",
       "</div>"
      ],
      "text/plain": [
       "            open      high       low     close    volume\n",
       "open    1.000000  0.999939  0.999927  0.999854 -0.142705\n",
       "high    0.999939  1.000000  0.999903  0.999919 -0.142315\n",
       "low     0.999927  0.999903  1.000000  0.999922 -0.143239\n",
       "close   0.999854  0.999919  0.999922  1.000000 -0.142802\n",
       "volume -0.142705 -0.142315 -0.143239 -0.142802  1.000000"
      ]
     },
     "execution_count": 35,
     "metadata": {},
     "output_type": "execute_result"
    },
    {
     "data": {
      "image/png": "[encoded data removed]",
      "text/plain": [
       "<Figure size 720x360 with 2 Axes>"
      ]
     },
     "metadata": {
      "needs_background": "light"
     },
     "output_type": "display_data"
    }
   ],
   "source": [
    "plt.figure(figsize=(10,5))\n",
    "c= df.corr()\n",
    "sns.heatmap(c,cmap=\"BrBG\",annot=True)\n",
    "c"
   ]
  },
  {
   "cell_type": "code",
   "execution_count": 36,
   "id": "0b66b726",
   "metadata": {},
   "outputs": [
    {
     "data": {
      "text/html": [
       "<div>\n",
       "<style scoped>\n",
       "    .dataframe tbody tr th:only-of-type {\n",
       "        vertical-align: middle;\n",
       "    }\n",
       "\n",
       "    .dataframe tbody tr th {\n",
       "        vertical-align: top;\n",
       "    }\n",
       "\n",
       "    .dataframe thead th {\n",
       "        text-align: right;\n",
       "    }\n",
       "</style>\n",
       "<table border=\"1\" class=\"dataframe\">\n",
       "  <thead>\n",
       "    <tr style=\"text-align: right;\">\n",
       "      <th></th>\n",
       "      <th>open</th>\n",
       "      <th>high</th>\n",
       "      <th>low</th>\n",
       "      <th>close</th>\n",
       "      <th>volume</th>\n",
       "    </tr>\n",
       "    <tr>\n",
       "      <th>Name</th>\n",
       "      <th></th>\n",
       "      <th></th>\n",
       "      <th></th>\n",
       "      <th></th>\n",
       "      <th></th>\n",
       "    </tr>\n",
       "  </thead>\n",
       "  <tbody>\n",
       "    <tr>\n",
       "      <th>A</th>\n",
       "      <td>49.187863</td>\n",
       "      <td>49.600059</td>\n",
       "      <td>48.782026</td>\n",
       "      <td>49.202025</td>\n",
       "      <td>2.338039e+06</td>\n",
       "    </tr>\n",
       "    <tr>\n",
       "      <th>AAL</th>\n",
       "      <td>38.390495</td>\n",
       "      <td>38.955554</td>\n",
       "      <td>37.825605</td>\n",
       "      <td>38.393252</td>\n",
       "      <td>9.390321e+06</td>\n",
       "    </tr>\n",
       "    <tr>\n",
       "      <th>AAP</th>\n",
       "      <td>132.439631</td>\n",
       "      <td>133.818297</td>\n",
       "      <td>131.036025</td>\n",
       "      <td>132.433463</td>\n",
       "      <td>1.078043e+06</td>\n",
       "    </tr>\n",
       "    <tr>\n",
       "      <th>AAPL</th>\n",
       "      <td>109.055429</td>\n",
       "      <td>109.951118</td>\n",
       "      <td>108.141589</td>\n",
       "      <td>109.066698</td>\n",
       "      <td>5.404790e+07</td>\n",
       "    </tr>\n",
       "    <tr>\n",
       "      <th>ABBV</th>\n",
       "      <td>60.802801</td>\n",
       "      <td>61.474133</td>\n",
       "      <td>60.177275</td>\n",
       "      <td>60.864440</td>\n",
       "      <td>7.870683e+06</td>\n",
       "    </tr>\n",
       "    <tr>\n",
       "      <th>...</th>\n",
       "      <td>...</td>\n",
       "      <td>...</td>\n",
       "      <td>...</td>\n",
       "      <td>...</td>\n",
       "      <td>...</td>\n",
       "    </tr>\n",
       "    <tr>\n",
       "      <th>XYL</th>\n",
       "      <td>41.415473</td>\n",
       "      <td>41.763885</td>\n",
       "      <td>41.076026</td>\n",
       "      <td>41.434095</td>\n",
       "      <td>1.183141e+06</td>\n",
       "    </tr>\n",
       "    <tr>\n",
       "      <th>YUM</th>\n",
       "      <td>75.422099</td>\n",
       "      <td>76.027123</td>\n",
       "      <td>74.844914</td>\n",
       "      <td>75.451009</td>\n",
       "      <td>3.209032e+06</td>\n",
       "    </tr>\n",
       "    <tr>\n",
       "      <th>ZBH</th>\n",
       "      <td>105.542014</td>\n",
       "      <td>106.419854</td>\n",
       "      <td>104.698038</td>\n",
       "      <td>105.606291</td>\n",
       "      <td>1.297144e+06</td>\n",
       "    </tr>\n",
       "    <tr>\n",
       "      <th>ZION</th>\n",
       "      <td>32.161477</td>\n",
       "      <td>32.509290</td>\n",
       "      <td>31.802241</td>\n",
       "      <td>32.171790</td>\n",
       "      <td>2.621178e+06</td>\n",
       "    </tr>\n",
       "    <tr>\n",
       "      <th>ZTS</th>\n",
       "      <td>45.091389</td>\n",
       "      <td>45.488826</td>\n",
       "      <td>44.665588</td>\n",
       "      <td>45.098648</td>\n",
       "      <td>3.681878e+06</td>\n",
       "    </tr>\n",
       "  </tbody>\n",
       "</table>\n",
       "<p>505 rows × 5 columns</p>\n",
       "</div>"
      ],
      "text/plain": [
       "            open        high         low       close        volume\n",
       "Name                                                              \n",
       "A      49.187863   49.600059   48.782026   49.202025  2.338039e+06\n",
       "AAL    38.390495   38.955554   37.825605   38.393252  9.390321e+06\n",
       "AAP   132.439631  133.818297  131.036025  132.433463  1.078043e+06\n",
       "AAPL  109.055429  109.951118  108.141589  109.066698  5.404790e+07\n",
       "ABBV   60.802801   61.474133   60.177275   60.864440  7.870683e+06\n",
       "...          ...         ...         ...         ...           ...\n",
       "XYL    41.415473   41.763885   41.076026   41.434095  1.183141e+06\n",
       "YUM    75.422099   76.027123   74.844914   75.451009  3.209032e+06\n",
       "ZBH   105.542014  106.419854  104.698038  105.606291  1.297144e+06\n",
       "ZION   32.161477   32.509290   31.802241   32.171790  2.621178e+06\n",
       "ZTS    45.091389   45.488826   44.665588   45.098648  3.681878e+06\n",
       "\n",
       "[505 rows x 5 columns]"
      ]
     },
     "execution_count": 36,
     "metadata": {},
     "output_type": "execute_result"
    }
   ],
   "source": [
    "df.groupby('Name').mean()"
   ]
  },
  {
   "cell_type": "code",
   "execution_count": 37,
   "id": "87980197",
   "metadata": {},
   "outputs": [
    {
     "data": {
      "text/plain": [
       "DIS     1259\n",
       "NRG     1259\n",
       "SO      1259\n",
       "BDX     1259\n",
       "STZ     1259\n",
       "        ... \n",
       "DXC      215\n",
       "BHGE     152\n",
       "BHF      143\n",
       "DWDP     109\n",
       "APTV      44\n",
       "Name: Name, Length: 505, dtype: int64"
      ]
     },
     "execution_count": 37,
     "metadata": {},
     "output_type": "execute_result"
    }
   ],
   "source": [
    "df['Name'].value_counts()"
   ]
  },
  {
   "cell_type": "markdown",
   "id": "73161df4",
   "metadata": {},
   "source": [
    "## Detecting Outliers"
   ]
  },
  {
   "cell_type": "code",
   "execution_count": 38,
   "id": "dc3059ef",
   "metadata": {},
   "outputs": [
    {
     "name": "stdout",
     "output_type": "stream",
     "text": [
      "Outliers from Z-scores method:  [376.64, 381.37, 386.71, 393.62, 392.3, 384.66, 385.96, 384.49, 386.95, 384.89, 387.78, 382.19, 381.25, 384.24, 388.97, 387.65, 395.96, 395.19, 402.2, 402.92, 399.2, 404.39, 398.08, 393.37, 398.79, 397.97, 396.44, 393.63, 398.03, 401.92, 401.01, 397.66, 390.98, 397.54, 395.87, 395.8, 399.61, 407.05, 404.54, 399.87, 387.6, 386.28, 394.43, 384.2, 403.01, 378.77, 377.17, 381.83, 375.43, 378.995, 383.66, 380.14, 378.59, 385.37, 384.8, 380.16, 385.655, 384.61, 382.72, 387.83, 380.09, 378.56, 378.49, 377.04, 381.2, 383.54, 382.65, 382.36, 385.11, 383.45, 386.04, 375.56, 389.51, 391.18, 389.8, 389.99, 445.1, 438.56, 429.31, 429.37, 421.78, 422.87, 423.04, 421.19, 419.1, 426.88, 433.69, 432.85, 431.02, 426.87, 432.28, 426.0, 425.24, 421.71, 423.86, 431.63, 427.63, 425.47, 431.42, 426.57, 429.23, 430.92, 430.99, 436.59, 430.78, 426.95, 423.5, 425.48, 430.77, 432.97, 429.92, 423.67, 427.26, 427.81, 439.39, 434.92, 436.29, 445.99, 440.84, 440.1, 438.1, 429.86, 434.09, 437.39, 437.71, 436.04, 436.72, 429.7, 434.39, 443.51, 455.57, 465.57, 461.19, 475.48, 483.01, 488.1, 488.0, 488.27, 482.18, 529.42, 531.41, 526.03, 529.0, 536.76, 536.15, 535.03, 531.9, 537.01, 529.46, 522.62, 524.0, 527.46, 525.91, 529.66, 531.52, 535.22, 535.02, 532.92, 515.78, 494.47, 463.37, 466.37, 500.77, 518.37, 518.01, 512.89, 496.54, 510.55, 504.72, 499.0, 517.54, 516.89, 522.24, 529.44, 521.38, 522.37, 527.39, 538.87, 540.26, 548.39, 538.4, 536.07, 533.75, 524.25, 504.06, 496.07, 511.89, 520.72, 532.54, 543.68, 537.48, 541.94, 533.16, 539.8, 550.19, 548.9, 544.83, 562.44, 570.76, 573.15, 560.88, 555.77, 563.91, 599.03, 608.61, 611.01, 617.1, 626.55, 625.9, 628.35, 625.31, 640.95, 655.65, 659.37, 655.49, 659.68, 673.25, 665.6, 642.35, 647.81, 643.3, 663.54, 661.27, 668.45, 678.99, 671.15, 675.34, 673.26, 664.8, 679.06, 676.01, 666.25, 672.64, 669.83, 677.33, 664.79, 662.32, 640.15, 657.91, 658.64, 675.77, 670.65, 664.14, 664.51, 663.15, 663.7, 662.79, 675.2, 693.97, 689.07, 675.89, 636.99, 633.79, 632.65, 607.94, 607.05, 617.74, 617.89, 581.81, 593.0, 570.18, 574.48, 571.77, 575.02, 596.38, 596.53, 601.25, 583.35, 635.35, 587.0, 574.81, 552.1, 531.07, 536.26, 502.13, 488.1, 482.07, 490.48, 503.82, 507.08, 521.1, 534.1, 525.0, 534.9, 559.5, 552.94, 554.04, 555.15, 555.23, 552.52, 579.04, 580.21, 577.49, 575.14, 562.8, 560.26, 559.47, 558.93, 569.61, 573.37, 577.02, 574.27, 559.44, 552.08, 553.98, 560.48, 569.63, 582.95, 579.87, 593.86, 598.69, 593.64, 598.5, 593.19, 586.14, 602.08, 591.43, 594.6, 595.93, 603.17, 614.82, 620.75, 625.89, 635.35, 627.9, 632.99, 631.0, 620.5, 626.2, 616.88, 606.57, 602.0, 659.59, 683.85, 671.32, 670.9, 659.09, 673.95, 679.75, 703.07, 713.23, 717.93, 709.92, 710.66, 695.27, 697.45, 698.52, 702.8, 696.75, 704.2, 708.35, 714.91, 712.24, 722.79, 719.44, 728.24, 725.54, 726.73, 723.74, 726.64, 727.65, 717.91, 715.24, 719.3, 714.26, 717.51, 706.39, 714.01, 715.82, 710.6, 722.08, 698.96, 691.36, 707.95, 715.6, 715.62, 725.68, 728.1, 737.61, 736.57, 745.81, 753.78, 748.21, 742.63, 741.2, 735.44, 736.07, 739.95, 745.72, 744.43, 744.86, 739.61, 735.59, 736.67, 752.61, 758.81, 767.74, 760.58, 754.64, 760.77, 765.98, 766.56, 768.31, 768.56, 771.24, 772.56, 768.49, 764.04, 764.63, 764.46, 757.31, 759.48, 762.45, 757.25, 759.22, 769.0, 771.29, 767.58, 769.16, 770.62, 772.44, 788.87, 784.48, 784.06, 760.14, 771.49, 761.01, 761.09, 769.69, 778.52, 775.1, 780.22, 789.74, 804.7, 805.75, 799.16, 816.11, 828.72, 829.05, 837.31, 836.74, 834.03, 844.36, 841.66, 839.43, 841.71, 831.0, 834.09, 829.28, 822.96, 812.95, 817.65, 817.69, 810.32, 818.99, 838.09, 835.18, 822.59, 818.36, 776.32, 789.82, 785.41, 765.56, 767.03, 755.05, 784.93, 787.75, 771.88, 742.38, 739.01, 719.07, 743.24, 746.49, 756.4, 760.16, 780.0, 785.33, 780.12, 780.37, 766.77, 762.52, 750.57, 743.65, 740.34, 759.36, 764.72, 770.42, 767.33, 768.66, 760.12, 774.34, 768.82, 761.0, 757.77, 766.0, 771.22, 770.6, 766.34, 760.59, 771.4, 772.13, 765.15, 749.87, 753.67, 757.18, 780.45, 795.99, 796.92, 795.9, 799.02, 813.64, 817.14, 809.72, 807.48, 809.04, 808.33, 817.88, 822.44, 836.52, 839.15, 835.77, 830.38, 823.48, 832.35, 839.95, 810.2, 807.64, 812.5, 819.71, 821.36, 827.46, 836.53, 836.39, 842.7, 844.14, 845.07, 856.44, 855.61, 852.19, 845.24, 848.64, 845.04, 853.08, 848.91, 849.88, 846.61, 846.02, 850.5, 853.0, 852.46, 854.59, 852.53, 852.97, 853.42, 852.31, 856.97, 843.2, 848.06, 847.38, 845.61, 846.82, 856.0, 874.32, 876.34, 886.54, 891.51, 906.83, 909.28, 898.28, 894.88, 907.04, 902.36, 896.23, 884.67, 901.99, 903.78, 899.2, 902.06, 898.53, 907.41, 907.62, 909.29, 918.38, 924.99, 948.23, 946.94, 941.03, 937.53, 934.15, 949.04, 952.82, 948.95, 947.62, 961.35, 957.97, 966.07, 944.76, 958.49, 959.84, 970.67, 971.54, 980.35, 993.38, 995.78, 996.7, 994.62, 995.95, 1006.73, 1011.34, 1003.0, 1010.07, 1010.27, 978.31, 964.91, 980.79, 976.47, 964.17, 987.71, 995.17, 992.59, 1002.23, 1001.3, 1003.74, 993.98, 976.78, 990.33, 975.93, 968.0, 953.66, 971.4, 965.14, 978.76, 996.47, 994.13, 1006.51, 1000.63, 1001.81, 1010.04, 1024.45, 1026.87, 1028.7, 1025.67, 1038.95, 1039.87, 1052.8, 1046.0, 1020.04, 987.78, 992.27, 995.89, 986.92, 987.58, 992.27, 989.84, 982.01, 956.92, 967.99, 983.3, 982.74, 978.18, 960.57, 958.47, 953.29, 966.9, 958.0, 952.45, 945.26, 946.02, 954.06, 967.59, 980.6, 978.25, 965.27, 967.8, 979.47, 965.9, 977.96, 982.58, 999.6, 992.21, 986.79, 974.19, 969.86, 973.21, 964.65, 955.1, 939.79, 938.6, 950.87, 956.4, 961.35, 959.19, 957.1, 965.45, 980.85, 989.58, 990.99, 987.2, 995.0, 1000.93, 1002.94, 1006.34, 1009.13, 997.0, 986.61, 982.91, 966.3, 975.9, 972.91, 972.43, 1100.95, 1110.85, 1105.28, 1103.68, 1094.22, 1111.6, 1120.66, 1123.17, 1132.88, 1129.13, 1125.35, 1129.17, 1136.84, 1126.69, 1137.29, 1129.88, 1126.31, 1139.49, 1156.16, 1186.0, 1195.83, 1193.6, 1161.27, 1176.75, 1162.35, 1133.95, 1141.57, 1152.35, 1159.79, 1162.0, 1168.92, 1165.08, 1164.13, 1174.26, 1179.14, 1190.58, 1187.38, 1177.62, 1174.76, 1168.36, 1176.76, 1182.26, 1186.1, 1169.47, 1189.01, 1204.2, 1209.59, 1229.14, 1246.87, 1252.7, 1254.33, 1276.68, 1305.2, 1304.86, 1295.0, 1293.32, 1294.58, 1327.31, 1362.54, 1357.51, 1377.95, 1402.05, 1417.68, 1437.82, 1450.89, 1390.0, 1429.95, 1390.0, 1442.84, 1416.78, 385.89, 385.23, 382.09, 379.73, 379.96, 377.56, 385.2, 378.54, 376.15, 376.79, 380.15, 378.14, 380.66, 382.32, 376.55, 381.52, 385.25, 388.33, 388.87, 392.04, 389.65, 391.89, 391.47, 390.41, 396.0, 393.26, 395.72, 393.33, 394.04, 393.94, 396.77, 393.19, 400.99, 393.98, 401.83, 397.2, 395.36, 384.03, 389.98, 392.83, 393.57, 384.87, 384.59, 381.93, 379.01, 378.43, 378.76, 383.62, 383.95, 398.26, 406.73, 403.87, 409.09, 410.28, 407.58, 411.11, 413.49, 418.95, 419.27, 415.33, 420.95, 415.76, 417.56, 418.28, 413.5, 411.29, 409.05, 427.84, 417.72, 418.9, 415.81, 418.95, 416.75, 417.94, 408.83, 411.21, 407.8, 405.31, 415.39, 416.68, 418.75, 415.0, 416.0, 419.5, 423.34, 424.83, 425.33, 420.75, 412.65, 411.98, 414.99, 421.48, 413.99, 422.87, 423.69, 425.27, 424.2, 423.88, 428.52, 434.91, 434.56, 433.48, 441.0, 439.3, 438.0, 433.71, 430.0, 435.32, 435.97, 437.72, 438.45, 436.35, 438.02, 439.66, 440.73, 444.69, 448.58, 447.99, 448.04, 448.25, 445.01, 435.04, 429.02, 429.59, 425.6, 433.8, 428.55, 420.06, 416.52, 420.4, 424.83, 419.96, 421.11, 422.35, 421.42, 419.12, 420.02, 421.52, 419.94, 419.76, 422.81, 420.1, 417.53, 416.5, 419.92, 420.83, 417.06, 415.7, 411.89, 418.51, 420.62, 422.79, 420.0, 417.81, 414.31, 425.07, 421.68, 422.57, 422.73, 425.11, 423.0, 418.26, 421.89, 419.83, 415.71, 415.27, 420.77, 424.61, 426.04, 420.23, 424.63, 429.13, 432.11, 434.73, 435.6, 432.59, 427.18, 429.47, 429.84, 429.83, 429.94, 434.69, 434.83, 436.51, 442.06, 447.42, 443.49, 448.55, 447.79, 451.55, 456.88, 458.34, 464.08, 459.56, 463.84, 461.3, 469.34, 467.69, 465.7, 457.28, 458.8, 461.6, 459.62, 460.51, 456.02, 460.0, 459.6, 457.34, 471.86, 467.79, 465.9, 465.18, 464.0, 461.76, 470.56, 470.84, 473.19, 472.32, 475.57, 476.85, 476.83, 479.33, 477.94, 474.11, 475.5, 478.77, 483.59, 489.07, 492.45, 490.0, 486.38, 495.78, 495.08, 495.47, 505.86, 502.24, 503.38, 499.29, 499.25, 503.6, 501.03, 492.94, 498.92, 495.06, 483.06, 486.19, 487.32, 517.16, 534.4, 526.43, 536.12, 542.07, 540.8, 539.08, 542.0, 536.34, 538.59, 538.96, 542.21, 539.3, 535.04, 538.46, 538.44, 541.23, 538.56, 543.84, 541.5, 541.99, 541.63, 539.98, 540.91, 528.74, 533.25, 539.45, 538.35, 533.36, 533.0, 536.86, 530.39, 528.9, 522.75, 525.71, 527.44, 537.1, 536.54, 535.47, 535.61, 526.12, 519.0, 525.48, 527.46, 514.59, 511.28, 515.28, 519.7, 522.14, 516.16, 519.4, 521.55, 526.25, 525.88, 522.32, 531.45, 529.62, 533.89, 526.79, 529.54, 530.06, 526.73, 524.6, 530.86, 535.92, 543.38, 533.11, 529.4, 524.28, 527.02, 532.76, 528.74, 534.87, 541.66, 540.9, 520.25, 533.34, 527.47, 532.5, 531.43, 528.11, 541.15, 537.94, 540.78, 532.57, 532.48, 529.1, 524.37, 523.1, 524.81, 524.34, 526.98, 527.99, 530.79, 532.94, 530.67, 532.0, 532.4, 535.32, 536.24, 536.82, 535.31, 539.46, 538.24, 535.11, 538.66, 534.02, 533.45, 533.66, 533.51, 531.82, 524.69, 520.56, 515.17, 511.92, 507.72, 514.82, 514.57, 513.22, 510.04, 521.84, 517.03, 519.49, 519.49, 518.07, 519.6, 517.26, 525.99, 525.47, 524.58, 524.03, 530.67, 529.03, 533.9, 536.84, 537.96, 537.78, 537.46, 540.93, 535.95, 538.48, 538.77, 538.84, 536.56, 537.13, 534.97, 538.04, 536.0, 528.13, 527.36, 530.33, 530.0, 530.57, 540.85, 536.72, 532.31, 526.44, 505.38, 507.79, 508.63, 504.62, 508.38, 507.84, 509.66, 508.01, 513.3, 518.11, 512.94, 511.72, 517.8, 508.32, 509.1, 501.78, 506.35, 505.99, 504.58, 507.59, 517.03, 526.94, 521.94, 531.57, 536.05, 539.57, 549.72, 550.04, 551.46, 553.52, 552.18, 554.36, 559.15, 566.05, 562.23, 566.39, 570.87, 568.8, 573.72, 567.11, 568.06, 568.59, 568.51, 567.5, 569.21, 571.38, 568.98, 568.55, 577.71, 575.72, 585.49, 590.55, 588.07, 587.95, 581.05, 605.81, 598.37, 602.39, 604.73, 605.84, 597.93, 602.46, 615.48, 618.6, 616.64, 621.3, 617.43, 618.76, 624.49, 622.45, 619.11, 616.79, 608.49, 607.82, 607.24, 606.0, 606.02, 597.36, 588.95, 582.78, 575.28, 580.85, 584.33, 586.06, 600.1, 604.0, 612.14, 608.59, 610.57, 611.13, 596.96, 593.75, 607.84, 601.63, 614.88, 611.34, 613.05, 616.66, 620.51, 617.51, 618.5, 615.15, 617.92, 618.34, 623.31, 636.77, 637.79, 637.12, 644.97, 642.68, 649.53, 651.9, 652.48, 650.97, 645.2, 650.89, 643.05, 643.81, 652.76, 654.66, 665.41, 662.18, 667.42, 667.39, 662.43, 671.27, 667.45, 660.72, 662.04, 681.34, 689.38, 682.16, 692.93, 689.11, 695.45, 693.11, 698.24, 695.77, 701.73, 699.05, 695.81, 694.17, 692.4, 683.43, 689.36, 690.73, 693.41, 702.33, 702.0, 692.38, 693.05, 682.39, 672.66, 679.25, 684.74, 672.91, 675.03, 677.48, 686.13, 678.83, 678.97, 680.36, 682.13, 689.85, 693.52, 694.58, 687.81, 691.91, 689.18, 688.43, 680.73, 679.51, 673.62, 673.36, 675.74, 681.79, 678.18, 675.5, 678.45, 676.04, 681.58, 684.84, 682.08, 674.0, 675.78, 673.33, 684.23, 681.67, 681.5, 685.54, 679.64, 680.31, 677.47, 663.16, 666.9, 673.14, 671.69, 675.07, 680.74, 668.19, 670.36, 682.3, 685.32, 676.46, 680.78, 680.72, 677.13, 676.05, 671.7, 677.32, 681.29, 675.25, 674.37, 687.14, 692.68, 695.03, 700.94, 696.96, 702.78, 711.69, 697.11, 704.4, 709.47, 714.21, 721.14, 739.07, 741.27, 743.18, 746.2, 750.13, 738.29, 700.92, 684.99, 687.93, 706.25, 724.78, 726.39, 715.99, 714.37, 730.72, 729.81, 717.7, 732.91, 721.0, 720.93, 727.44, 719.93, 729.44, 732.72, 734.62, 724.99, 728.4, 728.0, 746.23, 746.53, 753.48, 730.8, 724.72, 723.83, 736.35, 740.78, 747.28, 744.62, 736.0, 735.31, 736.92, 744.06, 740.0, 729.38, 737.43, 739.82, 744.02, 745.94, 745.29, 761.59, 762.24, 768.07, 763.26, 778.06, 783.23, 784.41, 785.26, 791.49, 788.75, 795.39, 797.29, 783.48, 789.65, 787.28, 775.21, 755.25, 775.54, 773.0, 783.35, 779.06, 783.82, 781.45, 779.66, 786.09, 785.96, 783.77, 779.24, 769.13, 757.37, 760.99, 752.17, 796.09, 783.81, 777.69, 755.88, 760.5, 761.3, 764.69, 755.31, 741.88, 742.95, 744.82, 744.35, 740.56, 741.87, 749.18, 750.17, 741.91, 735.48, 738.86, 729.2, 735.96, 712.06, 718.69, 728.99, 704.2, 712.61, 704.74, 715.71, 713.66, 717.73, 728.32, 728.52, 743.59, 744.29, 747.55, 767.39, 768.55, 763.6, 751.9, 747.87, 727.35, 695.46, 697.58, 697.17, 712.75, 729.62, 757.69, 754.18, 748.51, 759.91, 764.9, 764.28, 777.83, 785.15, 781.64, 774.57, 790.56, 780.89, 782.49, 777.62, 770.95, 765.05, 776.29, 788.36, 797.02, 796.61, 793.87, 792.52, 784.71, 780.21, 786.58, 785.99, 805.29, 803.06, 799.79, 798.04, 802.52, 796.69, 805.4, 792.95, 787.6, 788.74, 785.13, 783.93, 773.88, 777.04, 777.45, 778.14, 779.78, 783.22, 777.43, 777.05, 766.55, 771.07, 774.65, 778.79, 780.27, 767.47, 765.23, 774.98, 784.58, 785.42, 774.04, 776.21, 783.72, 788.8, 769.29, 780.81, 769.44, 779.13, 761.38, 760.86, 756.52, 761.56, 742.08, 760.42, 767.63, 767.38, 765.75, 762.2, 760.75, 768.59, 761.31, 756.12, 760.84, 760.58, 760.07, 754.15, 751.14, 748.38, 747.69, 751.31, 745.83, 752.06, 748.74, 756.3, 762.77, 769.92, 767.65, 790.46, 792.82, 793.84, 798.72, 803.36, 805.56, 799.66, 815.02, 809.72, 801.08, 801.31, 805.18, 799.14, 796.38, 795.66, 800.04, 792.63, 794.53, 798.46, 800.44, 790.32, 815.98, 813.97, 811.78, 802.53, 804.91, 808.24, 806.29, 801.26, 798.0, 803.45, 801.24, 795.86, 794.36, 789.54, 786.26, 788.36, 793.9, 790.67, 788.88, 777.12, 773.05, 753.47, 750.85, 741.86, 741.8, 744.77, 739.73, 737.26, 732.12, 729.38, 722.44, 740.38, 744.15, 739.21, 739.11, 735.52, 746.35, 744.06, 751.45, 748.23, 744.85, 758.88, 779.61, 767.15, 765.76, 768.34, 760.71, 758.54, 759.44, 761.93, 760.34, 764.44, 760.61, 762.22, 767.86, 763.51, 754.95, 753.8, 750.44, 746.27, 746.98, 752.94, 750.39, 751.56, 726.37, 735.37, 742.16, 734.45, 738.03, 738.87, 731.65, 732.87, 731.88, 740.85, 746.28, 750.35, 729.36, 744.8, 751.95, 773.12, 755.24, 777.9, 793.79, 798.05, 797.96, 793.9, 790.24, 783.18, 780.76, 783.74, 776.42, 779.81, 809.87, 807.71, 803.1, 802.37, 803.0, 788.96, 795.57, 794.72, 798.69, 807.32, 803.62, 799.61, 795.82, 803.57, 795.89, 798.49, 789.79, 791.46, 793.04, 792.0, 792.91, 790.34, 793.68, 792.0, 790.27, 779.81, 782.29, 778.3, 769.9, 770.02, 739.35, 738.43, 735.0, 729.89, 730.0, 724.41, 724.98, 714.99, 725.43, 724.72, 720.49, 721.66, 741.06, 745.94, 740.65, 736.09, 735.79, 739.5, 737.36, 741.05, 740.66, 735.33, 727.22, 732.75, 740.85, 736.55, 738.97, 733.53, 725.24, 723.91, 712.72, 717.67, 715.93, 717.03, 728.55, 728.99, 716.29, 721.85, 730.77, 729.79, 725.21, 725.35, 725.5, 721.16, 714.16, 716.99, 722.46, 719.08, 723.05, 700.69, 696.67, 703.03, 702.29, 700.44, 703.64, 700.59, 693.34, 688.46, 687.61, 689.07, 697.57, 706.3, 707.79, 722.45, 712.06, 715.12, 703.9, 692.19, 682.99, 688.94, 697.18, 704.58, 705.31, 709.98, 707.05, 698.03, 693.85, 680.72, 681.01, 669.83, 664.05, 673.79, 673.65, 659.49, 581.4, 590.99, 607.34, 615.62, 612.98, 605.92, 623.98, 621.7, 617.07, 603.88, 606.77, 598.96, 606.36, 612.02, 612.08, 608.38, 613.01, 593.81, 596.86, 585.2, 574.01, 579.63, 574.98, 579.61, 578.77, 569.02, 559.67, 570.46, 571.71, 516.83, 507.48, 501.39, 507.54, 499.57, 493.15, 506.81, 506.31, 503.66, 495.69, 493.44, 502.56, 511.46, 498.25, 511.01, 515.97, 529.01, 526.92, 539.82, 547.86, 542.89, 529.29, 536.82, 541.66, 530.97, 533.16, 525.52, 533.94, 525.32, 516.13, 524.59, 515.56, 510.19, 517.51, 519.13, 513.34, 511.63, 528.95, 525.4, 522.38, 529.53, 528.44, 538.77, 540.0, 540.65, 541.16, 540.51, 540.32, 551.55, 569.34, 563.56, 569.89, 563.4, 535.19, 543.58, 553.49, 574.03, 583.48, 587.13, 588.28, 587.29, 595.11, 597.62, 599.55, 595.24, 599.83, 601.49, 592.04, 587.57, 588.56, 589.75, 599.16, 598.55, 607.87, 606.31, 595.27, 590.06, 589.0, 585.83, 587.84, 590.89, 583.17, 590.15, 589.5, 584.88, 602.7, 606.41, 607.0, 603.56, 596.03, 605.97, 598.06, 595.26, 607.63, 609.14, 618.59, 629.43, 634.65, 632.4, 638.24, 632.98, 637.95, 664.22, 688.92, 686.76, 678.4, 709.77, 712.76, 698.65, 702.34, 721.89, 708.61, 711.05, 708.21, 701.23, 697.06, 704.4, 701.01, 700.9, 705.91, 710.09, 714.48, 707.0, 718.38, 711.37, 736.54, 749.43, 761.26, 775.5, 766.48, 770.95, 767.78, 773.31, 787.93, 781.02, 788.06, 784.79, 793.8, 788.7, 786.37, 793.36, 786.3, 796.95, 786.71, 776.67, 765.44, 764.38, 750.58, 731.59, 745.07, 728.33, 389.16, 390.0, 393.89, 391.12, 401.79, 402.0, 396.88, 395.13, 390.0, 392.11, 391.66, 397.91, 401.12, 406.73, 408.05, 408.58, 404.89, 408.94, 410.1, 409.59, 415.79, 412.79, 414.13, 425.61, 417.63, 415.51, 414.2, 408.11, 407.64, 413.35, 421.32, 426.12, 427.93, 433.65, 475.98, 463.73, 452.71, 431.63, 428.93, 429.87, 431.62, 422.24, 413.81, 412.44, 413.42, 418.09, 425.36, 426.63, 425.65, 423.36, 423.57, 430.96, 428.65, 419.44, 422.92, 422.11, 423.57, 430.28, 401.71, 389.27, 383.78, 386.22, 386.22, 385.8, 383.56, 383.29, 398.43, 396.91, 395.3, 390.04, 394.35, 391.24, 395.42, 395.17, 401.0, 401.15, 398.68, 392.88, 402.92, 400.1, 396.99, 393.35, 387.62, 387.48, 384.34, 387.86, 386.37, 382.0, 388.5, 393.54, 388.77, 388.28, 388.28, 390.86, 401.55, 411.05, 417.57, 416.26, 410.65, 411.29, 408.73, 396.21, 403.94, 405.41, 404.28, 404.63, 408.06, 397.68, 399.29, 388.23, 391.23, 400.2, 400.55, 403.73, 404.66, 408.93, 409.5, 391.74, 385.05, 376.04, 380.33, 377.86, 377.61, 376.64, 376.43, 378.11, 375.92, 376.42, 377.76, 378.64, 376.66, 377.85, 376.01, 377.2, 379.81, 390.33, 388.54, 390.28, 392.64, 390.0, 393.75, 392.62, 389.77, 398.45, 393.53, 387.12, 385.74, 387.49, 381.03, 379.0, 380.54, 386.43, 386.66, 382.54, 384.3, 380.42, 380.31, 380.95, 378.29, 379.35, 378.0, 377.35, 381.4, 378.06, 381.38, 388.33, 379.42, 378.0, 377.42, 376.89, 378.57, 382.89, 385.83, 384.98, 393.04, 391.97, 388.76, 390.1, 390.71, 390.61, 389.16, 391.0, 387.46, 397.81, 391.65, 390.17, 387.66, 385.35, 384.55, 384.27, 384.58, 384.89, 383.29, 388.22, 390.0, 382.85, 380.45, 375.47, 375.4, 380.63, 379.41, 383.04, 383.51, 382.09, 380.8, 380.91, 384.1, 386.02, 385.89, 384.05, 381.44, 379.0, 383.8, 383.61, 377.1, 381.59, 378.06, 386.65, 388.19, 388.87, 390.71, 384.57, 383.0, 384.5, 384.29, 383.31, 383.76, 382.38, 380.5, 382.27, 382.87, 385.12, 389.36, 391.3, 383.67, 388.48, 393.32, 396.28, 395.97, 396.31, 406.36, 407.02, 406.82, 409.24, 413.38, 414.71, 414.22, 413.83, 413.8, 415.23, 418.5, 418.31, 419.31, 421.49, 422.37, 420.51, 428.38, 424.69, 420.74, 423.17, 421.62, 424.69, 422.13, 426.85, 423.24, 422.41, 428.82, 428.77, 425.19, 432.38, 436.24, 431.91, 435.29, 437.88, 438.34, 424.63, 426.88, 426.46, 427.28, 428.65, 428.32, 431.35, 432.71, 425.51, 424.0, 426.53, 426.51, 425.55, 426.01, 426.51, 427.87, 428.82, 431.34, 422.69, 424.16, 428.06, 428.25, 427.07, 419.94, 416.55, 415.37, 421.37, 418.07, 415.94, 416.37, 414.34, 414.13, 416.2, 419.01, 421.78, 413.65, 412.19, 414.25, 415.95, 424.04, 428.57, 425.52, 425.69, 428.72, 429.44, 432.39, 434.07, 433.63, 435.49, 437.63, 434.4, 438.4, 446.11, 447.09, 449.95, 450.79, 457.91, 464.43, 463.22, 462.45, 465.49, 473.93, 480.59, 475.49, 477.96, 475.55, 477.5, 476.79, 476.62, 474.39, 473.72, 469.11, 473.48, 475.13, 472.29, 470.83, 469.29, 474.92, 479.11, 475.61, 473.37, 472.2, 466.6, 465.83, 465.11, 470.45, 470.5, 474.02, 473.99, 474.77, 481.36, 478.94, 479.74, 481.96, 493.06, 500.82, 501.19, 502.08, 513.5, 512.12, 511.82, 512.41, 515.49, 512.13, 517.73, 512.55, 506.75, 511.87, 518.86, 515.82, 514.55, 513.59, 512.12, 513.72, 514.32, 517.98, 513.71, 508.97, 514.34, 521.13, 525.57, 529.49, 533.94, 531.57, 537.92, 555.53, 563.0, 576.51, 579.22, 590.26, 593.26, 589.68, 587.67, 575.5, 586.8, 574.42, 562.29, 561.8, 565.19, 548.32, 524.97, 535.22, 532.26, 391.91, 387.42, 385.54, 384.3, 384.63, 381.02, 389.75, 400.9, 398.68, 394.49, 401.08, 397.73, 400.78, 393.36, 392.97, 396.45, 397.05, 390.33, 389.23, 388.79, 389.23, 388.82, 393.37, 398.54, 392.48, 393.32, 402.5, 395.64, 392.9, 381.01, 381.57, 385.13, 376.0, 376.18, 377.0, 376.57, 377.25, 387.5, 375.65, 376.87, 377.43, 384.47, 386.33, 386.03, 386.33, 382.03, 383.13, 386.27, 384.19, 379.13, 375.77, 376.75, 408.97, 401.8, 397.41, 400.12, 404.25, 405.87, 404.44, 407.38, 412.27, 413.81, 412.09, 412.3, 405.89, 404.49, 407.9, 405.74, 402.97, 406.34, 404.64, 401.48, 401.94, 403.6, 407.55, 403.0, 407.05, 402.79, 402.09, 400.08, 403.05, 406.78, 408.17, 404.9, 409.71, 408.72, 408.52, 411.7, 418.64, 423.48, 421.64, 425.34, 423.46, 425.41, 426.23, 421.7, 415.08, 415.24, 418.76, 415.59, 420.34, 419.0, 428.804, 425.67, 427.14, 426.5, 434.12, 433.4, 427.72, 428.67, 435.87, 443.61, 442.02, 433.61, 438.07, 439.07, 509.74, 509.25, 520.0, 520.79, 522.97, 527.5, 527.85, 527.93, 524.35, 526.97, 527.6, 535.18, 543.05, 539.63, 525.02, 535.2, 536.44, 535.42, 537.58, 543.92, 546.97, 537.51, 538.16, 531.66, 539.22, 537.48, 532.31, 525.0, 525.0, 523.86, 524.5, 522.64, 518.11, 521.01, 525.81, 527.32, 521.53, 517.57, 515.02, 512.85, 515.38, 512.64, 516.89, 514.58, 533.14, 531.03, 533.11, 535.43, 530.75, 532.04, 532.78, 523.43, 531.31, 527.32, 533.06, 535.85, 541.03, 538.57, 529.8, 530.28, 532.25, 529.51, 527.61, 525.57, 515.95, 503.45, 492.48, 489.31, 491.87, 484.5, 493.96, 551.96, 543.2, 540.59, 542.43, 544.47, 549.29, 548.09, 544.86, 545.74, 557.65, 554.11, 552.86, 552.18, 550.28, 549.49, 554.38, 554.62, 555.12, 561.14, 565.21, 554.6, 584.83, 581.25, 593.27, 593.41, 587.96, 584.27, 588.7, 579.5, 575.96, 576.26, 592.54, 596.5, 611.58, 611.12, 588.54, 570.68, 563.88, 559.18, 567.17, 568.05, 578.97, 576.21, 570.89, 555.16, 535.59, 550.73, 556.4, 534.01, 534.87, 540.98, 540.54, 552.4, 519.61, 506.54, 512.67, 504.05, 507.6, 502.31, 476.28, 491.57, 498.5, 500.15, 501.77, 512.68, 501.91, 500.83, 500.35, 507.68, 510.21, 504.16, 504.32, 495.92, 500.52, 501.29, 495.65, 504.18, 520.48, 522.32, 536.04, 538.26, 545.42, 547.09, 551.56, 550.59, 558.84, 561.03, 569.17, 568.5, 564.76, 570.34, 581.85, 588.26, 594.01, 593.52, 594.91, 594.54, 592.43, 599.59, 595.62, 599.5, 600.32, 596.14, 592.51, 603.26, 599.32, 603.6, 593.83, 586.59, 604.17, 600.61, 598.49, 604.92, 597.45, 590.47, 581.65, 592.42, 589.93, 659.77, 661.27, 660.2, 673.58, 678.01, 674.36, 681.83, 672.5, 675.14, 682.98, 674.71, 673.0, 671.84, 669.7, 680.54, 676.23, 683.68, 679.29, 678.18, 684.83, 681.08, 678.41, 681.07, 676.95, 676.24, 683.89, 677.03, 677.84, 678.65, 682.9, 680.1, 680.54, 677.95, 678.37, 669.95, 671.36, 672.73, 664.81, 655.85, 654.2, 653.24, 664.32, 664.09, 656.1, 654.58, 664.71, 653.39, 660.77, 662.94, 666.59, 662.23, 662.57, 674.5, 671.13, 662.82, 672.1, 660.61, 655.58, 639.53, 651.17, 647.38, 645.98, 641.72, 653.03, 607.55, 608.99, 610.0, 615.78, 630.11, 645.85, 639.86, 639.68, 638.0, 638.53, 647.68, 642.59, 647.12, 649.03, 648.86, 656.65, 664.25, 670.75, 669.8, 658.32, 658.09, 658.56, 662.83, 657.88, 659.54, 654.9, 660.21, 663.62, 660.88, 660.04, 651.27, 663.97, 660.57, 657.03, 657.09, 650.04, 654.39, 657.67, 648.83, 633.52, 649.15, 655.6, 651.42, 667.66, 669.21, 672.79, 678.06, 692.69, 684.91, 684.51, 678.4, 667.69, 664.38, 694.26, 719.99, 714.27, 711.7, 714.06, 709.74, 700.78, 711.11, 705.78, 703.89, 713.44, 713.69, 723.43, 721.33, 711.99, 714.53, 709.84, 712.55, 726.63, 676.0, 670.91, 659.92, 648.01, 665.03, 669.64, 670.29, 674.89, 670.93, 674.57, 673.28, 674.0, 671.17, 667.91, 675.52, 670.29, 664.97, 670.86, 668.43, 664.16, 670.49, 658.68, 660.34, 654.74, 660.77, 670.39, 674.51, 678.88, 672.0, 673.28, 680.67, 686.65, 687.34, 680.81, 665.97, 658.82, 662.72, 655.36, 650.54, 652.53, 652.39, 660.02, 658.46, 654.55, 651.72, 683.02, 683.73, 677.85, 677.6, 681.55, 683.95, 686.93, 692.52, 641.23, 635.6, 637.5, 643.75, 639.58, 630.07, 621.34, 634.0, 633.57, 625.67, 627.23, 628.82, 633.82, 635.67, 635.55, 635.32, 634.53, 632.37, 636.1, 636.75, 628.24, 633.36, 626.44, 622.16, 612.5, 629.42, 615.52, 614.9, 610.57, 610.89, 611.57, 613.8, 608.12, 605.79, 608.67, 605.86, 609.76, 604.17, 600.62, 606.84, 606.2, 615.31, 619.25, 615.4, 610.53, 607.38, 609.46, 600.05, 604.99, 606.57, 609.56, 607.17, 620.56, 612.85, 627.16, 639.42, 658.0, 655.46, 661.19, 658.46, 661.95, 678.0, 673.07, 725.82, 725.94, 728.79, 731.44, 730.78, 738.42, 744.16, 742.23, 743.04, 748.09, 757.77, 749.6, 749.12, 744.24, 745.66, 745.98, 743.6, 748.34, 754.03, 745.92, 745.28, 735.15, 720.01, 704.25, 695.39, 707.64, 727.17, 721.2, 710.01, 706.71, 723.87, 724.99, 719.23, 732.14, 718.83, 723.19, 729.06, 726.8, 732.08, 730.01, 730.2, 729.48, 731.19, 726.97, 731.57, 731.17, 730.28, 708.03, 708.54, 720.25, 724.43, 724.45, 728.08, 713.25, 720.16, 734.77, 732.93, 747.82, 750.42, 718.56, 723.81, 722.7, 718.64, 705.63, 665.67, 650.62, 649.72, 659.69, 656.55, 654.89, 648.2, 640.23, 624.0, 623.16, 614.98, 617.23, 612.4, 609.29, 628.88, 621.84, 614.68, 592.89, 588.74, 583.58, 594.0, 611.51, 536.19, 559.29, 577.79, 580.83, 576.62, 579.55, 580.74, 574.66, 565.31, 561.2, 551.75, 542.24, 548.01, 575.43, 565.0, 558.16, 554.86, 567.83, 554.89, 541.08, 522.01, 494.61, 497.48, 495.1, 493.52, 489.94, 485.79, 479.85, 448.81, 449.03, 426.67, 416.0, 413.29, 411.1, 404.26, 428.28, 454.3, 475.94, 469.47, 465.5, 461.2, 450.76, 442.17, 448.15, 442.64, 453.08, 452.97, 472.64, 475.67, 461.74, 470.9, 460.14, 445.0, 440.93, 448.81, 461.39, 480.57, 492.94, 514.01, 515.93, 511.58, 525.9, 525.06, 514.86, 505.33, 506.01, 509.16, 509.97, 525.69, 524.29, 529.0, 533.69, 524.69, 506.63, 503.68, 507.85, 515.73, 503.0, 500.35, 471.59, 455.37, 462.48, 471.76, 474.46, 471.37, 475.31, 460.0, 466.15, 470.97, 464.81, 465.0, 463.42, 455.25, 450.6, 451.25, 444.21, 444.62, 444.66, 456.01, 469.29, 460.12, 455.18, 458.0, 448.14, 442.73, 443.1, 445.92, 417.22, 423.4, 420.97, 433.5, 437.95, 433.3, 435.0, 433.81, 453.17, 455.59, 454.0, 457.01, 458.35, 444.56, 446.08, 448.61, 450.64, 449.92, 456.44, 457.33, 458.04, 452.03, 445.41, 441.96, 432.59, 443.49, 433.94, 445.27, 433.39, 429.2, 415.79, 405.26, 394.0, 395.27, 390.31, 393.55, 397.27, 396.94, 391.96, 392.99, 408.89, 400.73, 388.78, 391.67, 409.49, 402.76, 393.91, 396.38, 401.05, 390.78, 399.71, 403.18, 408.34, 416.63, 417.98, 404.86, 408.9, 415.31, 419.68, 418.07, 442.48, 441.52, 430.85, 426.06, 430.55, 423.99, 414.08, 402.64, 402.56, 397.2, 401.13, 401.4, 395.1, 395.07, 398.22, 397.33, 397.48, 400.86, 399.18, 394.91, 388.5, 396.04, 397.0, 403.75, 413.34, 418.75, 423.02, 415.15, 413.73, 414.68, 408.41, 414.07, 438.45, 436.31, 426.55, 428.9, 421.36, 414.9, 413.96, 409.32, 402.76, 400.42, 399.75, 410.16, 413.81, 419.88, 418.95, 418.31, 420.73, 423.5, 430.87, 427.27, 427.84, 424.49, 429.91, 437.88, 423.02, 418.52, 409.81, 404.14, 394.35, 393.96, 405.25, 405.1, 411.94, 413.35, 405.67, 382.49, 378.54, 391.83, 397.08, 414.18, 400.0, 402.9, 402.9, 411.8, 412.38, 405.99, 410.41, 410.28, 399.39, 395.11, 396.33, 402.38, 400.03, 396.27, 382.48, 377.22, 375.7, 382.35, 392.07, 389.5, 389.47, 393.5, 391.16, 389.77, 388.75, 385.37, 376.61, 377.32, 381.86, 391.89, 398.44, 395.06, 414.48, 413.93, 409.35, 410.75, 405.87, 409.74, 405.2, 405.2, 407.72, 417.88, 419.54, 418.73, 416.6, 417.95, 421.44, 420.23, 423.3, 404.08, 395.59, 398.64, 402.94, 415.31, 413.36, 414.14, 419.54, 423.34, 424.76, 427.61, 432.36, 427.61, 422.38, 420.9, 421.67, 418.74, 419.15, 416.29, 416.09, 411.68, 404.9, 406.5, 410.48, 407.75, 405.87, 403.1, 400.96, 400.95, 402.58, 396.37, 407.52, 416.31, 414.88, 414.02, 414.96, 426.23, 434.34, 443.92, 445.52, 452.75, 449.41, 452.44, 450.29, 447.34, 454.28, 453.0, 458.35, 463.62, 469.89, 468.51, 476.96, 478.39, 479.09, 468.79, 471.76, 482.99, 482.0, 474.47, 477.58, 486.86, 479.97, 472.4, 475.3, 471.15, 479.13, 486.42, 488.52, 489.33, 495.31, 496.14, 479.83, 484.74, 484.99, 482.79, 475.0, 478.8, 481.39, 480.15, 475.7, 477.35, 483.6, 478.07, 472.6, 470.48, 462.23, 459.69, 460.85, 461.55, 464.22, 459.69, 455.67, 451.09, 458.91, 425.6, 417.6, 420.92, 415.28, 413.99, 413.98, 416.87, 419.18, 416.1, 417.33, 413.25, 412.76, 413.89, 407.55, 396.08, 396.95, 400.04, 395.83, 392.0, 377.46, 379.51, 379.65, 385.43, 375.95, 377.03, 386.02, 387.73, 386.88, 386.14, 387.44, 382.68, 389.45, 388.75, 387.2, 386.71, 383.81, 379.97, 380.4, 380.01, 379.45, 376.86, 376.33, 377.44, 380.17, 378.97, 377.97, 378.2, 376.13, 376.73, 381.15, 383.27, 385.35, 389.66, 384.43, 384.21, 382.96, 386.37, 384.98, 381.3, 383.08, 384.82, 381.67, 380.64, 383.97, 385.8, 386.45, 386.69, 382.64, 380.76, 379.64, 377.24, 376.07, 377.99, 375.69, 377.55, 375.24, 376.01, 379.16, 380.32, 381.38, 383.78, 378.17, 375.64, 383.57, 383.41, 387.47, 388.05, 388.09, 384.0, 384.86, 394.0, 397.14, 400.37, 402.47, 399.98, 400.04, 402.18, 401.74, 400.93, 399.84, 399.76, 399.11, 403.01, 402.95, 403.96, 405.13, 401.84, 404.03, 406.55, 407.33, 410.94, 417.7, 420.18, 422.86, 423.18, 424.28, 426.25, 426.64, 425.91, 425.05, 428.77, 431.07, 429.81, 427.64, 426.97, 425.76, 426.74, 434.68, 435.79, 440.43, 444.97, 441.22, 439.91, 441.01, 436.93, 444.32, 444.21, 442.31, 440.69, 440.39, 439.21, 425.01, 430.54, 432.1, 433.96, 427.28, 432.22, 433.94, 436.49, 440.29, 434.07, 438.49, 433.65, 430.76, 421.28, 429.16, 422.76, 424.08, 418.43, 423.3, 427.085, 431.04, 437.11, 436.24, 437.7, 435.48, 438.28, 440.5, 441.21, 441.44, 441.6, 436.96, 440.04, 442.87, 447.9, 450.73, 453.08, 455.47, 449.36, 445.58, 444.23, 441.53, 447.81, 439.48, 438.39, 449.49, 448.33, 454.79, 451.55, 450.0, 450.29, 456.29, 461.8, 463.53, 466.19, 462.91, 466.24, 465.67, 468.41, 465.96, 463.49, 463.52, 464.82, 462.0, 474.42, 468.38, 458.87, 454.91, 455.31, 450.15, 453.04, 449.24, 446.57, 441.66, 437.21, 434.42, 441.93, 441.72, 446.3, 444.48, 442.36, 442.97, 445.42, 448.83, 451.32, 451.89, 458.97, 464.7, 462.82, 461.35, 461.58, 471.23, 470.55, 468.76, 458.81, 462.97, 457.93, 454.2, 456.51, 459.73, 463.5, 467.06, 488.68, 486.65, 491.62, 488.06, 492.98, 484.86, 482.21, 484.12, 481.05, 474.42, 475.09, 472.8, 471.89, 474.26, 472.37, 474.07, 478.92, 477.95, 468.32, 464.49, 469.16, 442.28, 445.59, 450.24, 455.77, 452.39, 449.58, 450.21, 451.28, 460.35, 457.85, 455.82, 448.52, 447.2, 445.89, 446.6, 446.7, 451.69, 455.11, 453.22, 446.92, 448.98, 447.95, 449.49, 458.2, 455.98, 443.0, 435.39, 435.95, 448.1, 441.9, 437.45, 437.89, 436.05, 442.0, 441.3, 439.17, 441.59, 435.16, 439.56, 455.19, 444.54, 437.35, 429.81, 430.85, 426.08, 393.0777, 391.6012, 390.7403, 391.8214, 394.3039, 396.8414, 403.8284, 396.6262, 398.1628, 400.2549, 395.7804, 395.4601, 400.2899, 401.0006, 403.4981, 411.1628, 419.7213, 416.1057, 416.7143, 416.1758, 417.8274, 414.2188, 413.0677, 411.1808, 407.5582, 404.2989, 406.0657, 407.7614, 406.0356, 405.5602, 405.2248, 406.6162, 401.7313, 397.4911, 400.9956, 406.9265, 403.5041, 397.9325, 391.9165, 387.8124, 389.2138, 395.4851, 395.5902, 395.42, 391.356, 397.0817, 391.6713, 383.34, 400.3349, 400.4571, 404.3539, 407.1337, 404.9545, 401.1107, 409.9395, 412.6973, 410.6252, 415.2198, 423.2829, 431.2058, 429.0436, 437.2518, 436.1757, 440.5551, 439.2038, 443.9936, 458.4029, 452.3869, 455.0446, 454.7193, 453.9385, 445.1547, 441.8364, 437.0967, 441.0756, 434.5892, 435.8154, 436.0446, 434.2488, 429.9796, 430.2799, 432.7523, 440.3049, 445.5551, 440.3449, 436.426, 438.9385, 437.9575, 443.5681, 450.7603, 450.7903, 442.8124, 440.9055, 435.3299, 433.5331, 437.2618, 438.9735, 440.6252, 444.3839, 441.5962, 443.6582, 447.1917, 452.9975, 453.0726, 453.448, 460.5801, 461.9615, 462.8073, 460.2638, 459.7343, 455.7953, 448.7473, 455.8053, 452.3519, 451.9015, 444.2939, 443.1177, 441.5761, 445.9055, 444.3189, 452.5621, 453.7383, 452.9525, 448.7333, 445.7703, 446.7763, 445.6502, 443.1978, 441.0656, 435.3399, 430.2598, 428.8825, 433.2578, 433.1427, 435.0997, 437.2919, 435.5401, 433.6282, 425.5001, 424.6993, 428.1427, 423.8734, 430.6202, 436.2528, 440.2198, 440.2298, 444.471, 444.7793, 448.5431, 446.9785, 444.9785, 444.3239, 443.4981, 452.1117, 449.6442, 452.0066, 443.6932, 443.8634, 439.0536, 439.5241, 438.6332, 438.393, 443.9455, 444.439, 438.483, 436.6112, 433.3029, 427.2618, 428.3579, 434.5541, 436.431, 438.4931, 441.446, 449.4635, 444.8414, 506.2097, 502.1517, 504.0035, 516.2192, 513.2878, 508.1076, 508.0075, 518.6381, 515.7252, 515.8053, 514.0335, 513.5661, 511.2708, 511.8864, 504.479, 508.523, 505.8003, 506.3959, 516.7512, 518.1326, 517.2968, 516.2908, 513.1146, 511.6662, 517.552, 516.4609, 523.488, 529.7342, 532.0866, 530.3248, 527.7672, 527.1566, 529.6191, 529.1987, 535.4699, 539.6091, 542.8723, 539.1836, 535.515, 530.9254, 537.0265, 535.4649, 542.9174, 543.6531, 550.8603, 558.1075, 556.4759, 559.2887, 559.7592, 555.2847, 560.9154, 557.1166, 553.0525, 559.2187, 569.9982, 571.1856, 565.6851, 565.6551, 562.0515, 575.2747, 574.8843, 578.6881, 575.8403, 582.4319, 583.0925, 580.63, 562.4769, 551.1656, 562.0665, 554.0135, 568.2647, 591.0755, 567.2817, 569.6491, 572.1716, 580.56, 589.3087, 587.0515, 595.6851, 593.9383, 600.5499, 602.0014, 606.0454, 601.7712, 602.6571, 602.4969, 606.8613, 610.61, 610.6951, 610.2146, 608.4328, 601.9463, 608.0625, 609.7391, 610.4148, 608.0024, 606.3908, 600.595, 604.2536, 595.1245, 586.9864, 596.646, 606.2356, 600.2246, 599.1786, 592.1115, 579.544, 579.9394, 566.551, 557.6971, 560.6351, 557.8123, 568.0124, 568.1176, 571.5, 545.25, 540.63, 557.51, 567.04, 546.69, 537.76, 545.2, 548.7, 563.9, 543.34, 539.37, 545.5, 537.51, 534.44, 523.1, 522.98, 536.33, 534.88, 538.53, 533.87, 535.33, 522.57, 518.0, 520.17, 526.62, 538.43, 541.54, 534.41, 529.12, 528.3, 538.83, 540.39, 549.7, 555.45, 563.8, 574.87, 570.45, 570.56, 571.65, 564.34, 554.51, 553.76, 564.93, 566.03, 570.73, 568.3, 567.5, 559.5, 560.35, 552.3, 550.615, 560.66, 564.99, 566.52, 574.29, 572.54, 585.93, 584.77, 585.69, 584.67, 591.49, 590.78, 593.08, 590.76, 578.4, 583.36, 580.04, 586.65, 594.26, 593.06, 590.62, 580.82, 605.11, 598.44, 603.57, 605.19, 603.01, 598.08, 599.02, 593.95, 595.44, 579.55, 573.6, 582.27, 573.14, 574.49, 571.81, 577.94, 577.25, 572.12, 584.56, 584.65, 583.71, 592.7, 597.11, 595.41, 592.42, 592.54, 590.57, 588.12, 583.0, 580.32, 582.36, 588.63, 589.52, 593.14, 597.78, 601.63, 591.97, 593.42, 591.11, 584.9, 581.64, 588.78, 593.29, 597.27, 605.4, 597.27, 591.18, 598.42, 585.25, 587.9, 587.81, 588.41, 579.63, 580.88, 586.25, 587.78, 574.1, 583.74, 570.81, 555.19, 544.75, 548.69, 540.73, 536.92, 522.97, 532.38, 538.03, 542.69, 553.65, 548.9, 549.88, 558.94, 558.45, 560.27, 567.87, 563.77, 564.19, 555.95, 551.69, 551.82, 558.23, 561.29, 558.25, 556.44, 555.19, 546.64, 544.51, 547.2, 543.76, 545.89, 547.48, 549.23, 547.73, 549.08, 539.65, 538.59, 536.97, 542.58, 528.08, 530.73, 536.11, 528.04, 532.11, 521.51, 515.84, 498.16, 506.45, 514.62, 520.04, 532.3, 538.77, 536.93, 541.52, 537.31, 535.28, 530.66, 529.55, 519.46, 506.64, 505.15, 506.91, 500.72, 497.06, 501.8, 505.93, 504.01, 510.455, 509.94, 520.39, 537.3, 541.95, 536.72, 521.19, 512.43, 513.23, 537.55, 532.2, 533.3, 526.1, 529.83, 533.875, 529.28, 540.16, 538.0, 546.01, 551.16, 545.01, 542.65, 546.45, 541.8, 535.0, 538.65, 547.33, 559.29, 562.63, 575.02, 578.795, 578.33, 581.435, 572.9, 574.1, 559.85, 555.69, 561.17, 553.0, 561.64, 557.61, 566.16, 563.67, 564.95, 565.37, 577.54, 567.0, 563.64, 557.55, 561.135, 554.7, 549.49, 541.31, 543.95, 544.86, 548.84, 548.02, 548.54, 548.64, 539.78, 541.04, 543.52, 532.74, 544.53, 542.925, 549.18, 557.46, 573.66, 566.12, 564.37, 561.39, 548.77, 551.16, 552.84, 543.045, 535.08, 542.04, 548.95, 545.78, 538.73, 539.49, 549.2, 546.49, 546.67, 549.28, 552.51, 556.81, 554.52, 547.19, 554.25, 554.18, 545.32, 549.21, 553.95, 555.29, 551.69, 549.53, 543.48, 542.16, 552.6, 550.04, 547.47, 543.0, 544.87, 546.6, 556.18, 557.52, 559.68, 563.39, 558.57, 557.95, 553.06, 541.25, 540.04, 543.3, 547.34, 545.62, 550.03, 541.7, 544.65, 556.11, 571.73, 584.18, 583.96, 601.78, 699.62, 692.84, 695.35, 695.1, 674.73, 654.77, 658.27, 659.66, 661.43, 664.56, 657.5, 664.72, 661.28, 673.29, 670.15, 664.39, 663.14, 690.3, 691.47, 686.51, 689.37, 694.11, 688.73, 694.04, 679.48, 644.03, 618.11, 612.47, 659.74, 667.96, 659.69, 647.82, 629.56, 644.91, 637.05, 628.96, 643.88, 643.41, 651.08, 655.3, 652.47, 665.07, 665.52, 671.67, 660.92, 666.98, 653.2, 653.29, 654.91, 640.15, 624.25, 622.61, 638.37, 642.0, 656.99, 671.68, 671.64, 670.0, 667.0, 671.24, 676.43, 683.17, 680.41, 693.02, 695.32, 699.95, 680.0, 671.8, 681.14, 719.33, 731.12, 732.82, 736.92, 744.85, 737.39, 747.74, 748.82, 755.31, 760.67, 761.6, 754.77, 758.26, 765.25, 756.53, 740.07, 750.42, 745.98, 760.01, 759.94, 777.0, 776.7, 769.63, 769.26, 771.97, 762.85, 783.79, 777.85, 768.2, 779.21, 772.99, 775.14, 762.55, 760.04, 750.42, 762.54, 760.09, 776.59, 769.83, 756.85, 760.8, 767.13, 768.51, 765.84, 782.24, 793.96, 790.3, 778.01, 759.44, 761.53, 759.33, 741.0, 730.91, 733.07, 745.34, 719.57, 731.39, 710.49, 719.08, 718.56, 726.67, 745.46, 733.62, 733.79, 717.58, 748.3, 761.35, 770.77, 780.91, 749.38, 730.03, 703.76, 704.16, 701.02, 706.85, 706.36, 706.89, 717.64, 731.97, 717.51, 722.11, 729.05, 717.29, 720.9, 729.12, 724.86, 717.22, 742.17, 739.48, 731.59, 730.22, 712.8, 713.53, 725.41, 732.17, 744.87, 750.24, 750.57, 757.36, 758.48, 755.41, 762.16, 760.05, 757.56, 754.84, 753.28, 765.89, 768.34, 762.9, 769.67, 765.12, 758.57, 768.07, 760.12, 759.47, 757.54, 764.32, 771.91, 775.39, 780.0, 787.68, 776.25, 774.92, 780.0, 737.77, 742.21, 725.37, 721.46, 705.06, 707.88, 714.41, 708.44, 711.37, 714.71, 725.18, 729.13, 739.38, 730.55, 728.07, 724.83, 730.3, 720.19, 721.78, 715.31, 721.71, 717.25, 733.03, 738.1, 736.93, 747.6, 748.85, 748.46, 744.27, 735.86, 730.06, 731.09, 742.93, 742.52, 733.19, 731.88, 733.25, 732.19, 724.25, 704.25, 706.13, 708.88, 710.47, 714.87, 685.2, 681.14, 691.26, 695.19, 703.53, 710.25, 704.89, 708.97, 707.26, 717.78, 727.2, 732.51, 729.48, 735.8, 735.63, 753.2, 753.41, 757.08, 754.41, 759.28, 757.52, 757.65, 761.97, 765.84, 791.34, 800.94, 800.12, 798.92, 797.25, 806.93, 805.23, 807.48, 808.49, 808.2, 807.05, 805.96, 801.19, 805.42, 802.75, 799.65, 796.95, 796.59, 793.6, 791.3, 793.22, 795.82, 791.92, 789.85, 791.4, 796.87, 808.02, 807.99, 802.84, 788.48, 798.82, 788.72, 790.46, 801.23, 797.97, 795.39, 799.78, 805.03, 815.95, 814.96, 802.65, 810.73, 810.06, 802.64, 804.06, 800.38, 802.79, 801.23, 803.08, 800.71, 814.17, 809.57, 811.77, 804.08, 804.6, 806.84, 821.49, 827.09, 821.63, 824.06, 835.74, 828.55, 822.1, 817.35, 819.56, 809.9, 805.48, 788.42, 782.19, 781.1, 802.03, 811.98, 805.59, 780.29, 771.75, 753.22, 775.16, 779.98, 786.16, 775.97, 784.8, 785.0, 779.0, 780.23, 785.79, 789.44, 775.88, 764.33, 764.46, 778.22, 776.18, 791.47, 795.17, 809.45, 807.9, 815.34, 817.89, 815.65, 809.84, 812.5, 815.2, 812.2, 809.68, 807.8, 809.93, 804.57, 802.88, 792.45, 808.01, 807.77, 813.02, 825.21, 827.18, 826.01, 829.86, 829.53, 830.94, 827.46, 829.02, 824.37, 828.17, 844.43, 849.53, 858.45, 856.98, 845.03, 823.83, 820.19, 815.24, 818.26, 820.13, 821.62, 829.23, 829.88, 830.06, 834.85, 838.96, 840.03, 837.32, 842.17, 846.55, 849.27, 851.36, 851.0, 847.81, 849.67, 844.93, 856.75, 849.85, 849.08, 847.27, 851.15, 853.64, 857.84, 861.405, 864.58, 865.91, 868.39, 870.0, 872.37, 867.91, 850.14, 849.8, 839.65, 835.14, 838.51, 840.63, 849.87, 849.48, 847.8, 856.75, 852.57, 848.91, 845.095, 842.1, 841.7, 839.88, 841.46, 840.18, 855.13, 853.99, 856.51, 860.08, 858.95, 878.93, 888.84, 889.14, 891.44, 924.52, 932.82, 937.09, 948.45, 954.72, 950.28, 958.69, 956.71, 954.84, 955.89, 955.14, 959.22, 964.61, 942.17, 950.5, 954.65, 964.07, 970.55, 977.61, 991.86, 993.27, 996.17, 987.09, 988.29, 996.12, 1003.88, 996.68, 1001.59, 1004.28, 970.12, 961.81, 970.5, 967.93, 960.18, 958.62, 975.22, 968.99, 978.59, 976.62, 986.09, 972.09, 948.09, 961.01, 937.82, 929.68, 919.46, 932.26, 927.69, 940.81, 951.0, 953.53, 967.66, 968.85, 976.91, 975.96, 986.95, 992.77, 992.19, 993.84, 998.31, 969.03, 965.31, 952.51, 958.33, 945.5, 946.56, 947.64, 940.3, 945.79, 945.75, 944.19, 940.08, 923.59, 930.09, 938.93, 938.08, 944.27, 927.66, 926.18, 920.87, 940.4, 942.58, 936.89, 930.5, 928.13, 935.75, 943.63, 955.24, 951.99, 941.48, 942.02, 949.89, 941.41, 943.29, 946.65, 950.44, 940.13, 935.29, 929.75, 936.86, 947.54, 947.55, 943.26, 934.28, 937.43, 959.9, 964.81, 973.72, 967.47, 972.08, 966.78, 985.19, 993.64, 992.31, 987.8, 1005.65, 1005.65, 1007.87, 1009.35, 1011.0, 1012.74, 1001.84, 1005.07, 985.54, 988.49, 991.46, 991.42, 1033.67, 1033.13, 1033.04, 1042.6, 1042.97, 1049.99, 1042.68, 1052.39, 1058.29, 1047.72, 1044.15, 1041.2, 1041.64, 1036.41, 1048.47, 1035.89, 1034.66, 1050.3, 1051.92, 1056.52, 1072.01, 1063.29, 1037.38, 1036.17, 1025.07, 1011.87, 1019.6, 1032.72, 1044.57, 1049.38, 1051.97, 1048.77, 1051.39, 1057.47, 1072.0, 1085.09, 1079.78, 1073.56, 1070.85, 1068.86, 1065.85, 1060.2, 1055.95, 1053.4, 1073.21, 1091.52, 1095.76, 1110.29, 1114.21, 1112.79, 1110.14, 1112.05, 1130.65, 1130.7, 1139.1, 1135.97, 1143.5, 1164.16, 1176.17, 1171.29, 1182.14, 1187.56, 1186.48, 1177.37, 1182.22, 1181.59, 1119.2, 1062.39, 1084.43, 1055.41, 558.46, 559.99, 556.97, 567.16, 567.0, 569.74, 543.14, 538.15, 554.9, 564.14, 540.95, 530.6, 532.52, 536.44, 556.54, 536.1, 528.62, 534.81, 526.94, 525.16, 516.18, 517.15, 527.7, 526.66, 531.35, 527.93, 527.81, 515.14, 509.96, 511.0, 518.73, 529.92, 533.09, 526.65, 519.98, 520.63, 528.86, 529.77, 538.94, 545.06, 552.7, 565.95, 561.68, 560.08, 559.89, 553.93, 544.94, 544.66, 553.9, 556.33, 562.12, 560.55, 558.84, 551.35, 551.76, 544.28, 543.01, 553.37, 554.9, 556.36, 564.95, 564.62, 578.65, 576.0, 577.24, 575.28, 582.67, 582.335, 584.73, 582.25, 571.09, 576.08, 571.1, 579.18, 584.87, 584.78, 582.66, 573.7299, 595.08, 589.47, 594.74, 595.98, 593.35, 589.02, 590.6, 585.61, 587.42, 571.6, 566.07, 573.15, 565.07, 566.374, 563.36, 568.77, 567.88, 562.73, 574.78, 574.65, 573.48, 582.16, 586.86, 584.49, 583.37, 582.56, 580.2, 577.86, 571.0, 569.2, 571.6, 577.33, 577.94, 581.98, 586.08, 589.72, 581.01, 583.1, 581.35, 575.62, 573.1, 579.95, 584.77, 589.27, 596.08, 587.37, 581.13, 587.99, 575.06, 577.1, 576.36, 577.36, 568.27, 570.08, 575.28, 577.35, 563.74, 572.5, 560.88, 544.49, 533.21, 537.94, 530.03, 524.51, 511.17, 520.84, 526.54, 532.71, 543.98, 539.78, 540.77, 548.9, 549.33, 550.31, 559.08, 555.22, 554.11, 545.92, 542.04, 541.01, 547.49, 550.29, 547.31, 545.38, 544.4, 536.51, 535.03, 536.99, 534.83, 537.5, 539.27, 541.08, 540.37, 541.83, 533.8, 533.75, 531.32, 537.31, 525.26, 526.98, 533.37, 526.06, 528.34, 518.66, 513.8, 495.39, 504.89, 511.1, 516.35, 524.87, 530.59, 528.77, 534.03, 530.33, 530.42, 526.4, 524.81, 513.87, 501.96, 501.1, 502.68, 496.17, 492.55, 496.18, 500.87, 501.79, 508.08, 506.9, 518.04, 534.39, 539.95, 535.21, 518.63, 510.0, 510.66, 534.52, 528.48, 529.24, 522.76, 527.58, 531.0, 527.83, 536.94, 535.97, 542.93, 549.01, 542.84, 539.7, 542.87, 538.95, 531.91, 536.09, 543.87, 555.48, 558.4, 571.34, 573.64, 573.37, 575.33, 567.685, 568.85, 555.01, 551.18, 555.51, 547.32, 554.51, 550.84, 559.5, 557.99, 560.36, 558.81, 570.19, 558.785, 555.17, 548.34, 552.03, 548.0, 542.56, 535.53, 536.765, 537.02, 541.61, 540.78, 540.01, 539.17, 530.39, 532.53, 533.8, 524.05, 535.38, 533.97, 539.365, 547.0, 565.06, 555.37, 553.68, 549.08, 537.34, 537.9, 540.78, 530.8, 524.22, 530.7, 538.22, 535.7, 529.04, 529.62, 538.4, 533.85, 532.3, 537.36, 539.27, 542.51, 540.11, 532.32, 539.79, 539.78, 532.11, 533.99, 539.18, 540.31, 536.7, 533.33, 526.83, 526.69, 536.69, 534.61, 532.33, 527.2, 528.15, 529.26, 536.73, 536.69, 538.19, 540.48, 537.84, 535.23, 531.69, 521.52, 520.51, 521.84, 523.4, 522.86, 525.02, 516.83, 520.68, 530.13, 546.55, 561.1, 560.22, 579.85, 672.93, 663.02, 662.3, 662.1, 644.28, 623.56, 627.26, 628.0, 631.93, 632.59, 625.61, 631.21, 629.25, 643.78, 642.68, 635.3, 633.73, 660.78, 659.56, 656.45, 657.12, 660.87, 656.13, 660.9, 646.83, 612.48, 589.61, 582.06, 628.62, 637.61, 630.38, 618.25, 597.79, 614.34, 606.25, 600.7, 614.66, 612.72, 621.35, 625.77, 623.24, 635.14, 635.98, 642.9, 629.25, 635.44, 622.69, 622.36, 625.8, 611.97, 594.89, 594.97, 608.42, 611.29, 626.91, 641.47, 645.44, 642.36, 639.16, 643.61, 646.67, 652.3, 651.16, 661.74, 662.2, 666.1, 650.28, 642.61, 651.79, 702.0, 712.78, 708.49, 712.95, 716.92, 710.81, 721.11, 722.16, 728.11, 731.25, 733.76, 724.89, 728.32, 735.4, 731.23, 717.0, 728.96, 725.3, 740.0, 738.41, 756.6, 755.98, 748.28, 748.15, 750.26, 742.6, 767.04, 762.38, 752.54, 766.81, 763.25, 762.37, 751.61, 749.46, 738.87, 747.77, 743.4, 758.09, 749.43, 739.31, 747.77, 750.0, 750.31, 748.4, 762.51, 776.6, 771.0, 758.88, 741.84, 742.58, 743.62, 726.39, 714.47, 716.03, 726.07, 700.56, 714.72, 694.45, 701.79, 698.45, 706.59, 725.25, 711.67, 713.04, 699.99, 730.96, 742.95, 752.0, 764.65, 726.95, 708.01, 683.57, 682.74, 678.11, 684.12, 683.11, 682.4, 691.0, 708.4, 697.35, 700.91, 706.46, 695.85, 699.56, 705.75, 705.07, 697.77, 718.81, 718.85, 712.42, 710.89, 695.16, 693.97, 705.24, 712.82, 726.82, 730.49, 728.33, 736.09, 737.78, 737.6, 742.09, 740.75, 738.06, 735.3, 733.53, 744.77, 750.53, 744.95, 749.91, 745.29, 737.8, 745.69, 740.28, 739.15, 736.1, 743.09, 751.72, 753.2, 759.0, 766.61, 753.93, 752.67, 759.14, 718.77, 723.15, 708.14, 705.84, 691.02, 693.01, 698.21, 692.36, 695.7, 701.43, 711.12, 712.9, 723.18, 715.29, 713.31, 710.83, 716.49, 706.23, 706.63, 700.32, 709.74, 704.24, 720.09, 725.27, 724.12, 732.66, 735.72, 734.15, 730.4, 722.34, 716.55, 716.65, 728.28, 728.58, 719.41, 718.36, 718.27, 718.92, 710.36, 691.72, 693.71, 695.94, 697.46, 701.87, 675.22, 668.26, 680.04, 684.11, 692.1, 699.21, 694.49, 697.77, 695.36, 705.63, 715.09, 720.64, 716.98, 720.95, 719.85, 733.78, 736.96, 741.19, 738.63, 742.74, 739.77, 738.42, 741.77, 745.91, 768.79, 772.88, 771.07, 773.18, 771.61, 782.22, 781.76, 784.26, 784.68, 784.85, 783.22, 782.44, 777.14, 779.91, 777.5, 775.42, 772.15, 772.08, 769.64, 769.41, 769.54, 772.15, 769.09, 767.05, 768.78, 771.46, 780.08, 780.35, 775.32, 759.66, 769.02, 759.69, 762.49, 771.76, 768.88, 765.7, 771.41, 776.22, 787.21, 786.9, 774.21, 783.01, 781.56, 775.01, 777.29, 772.56, 776.43, 776.47, 776.86, 775.08, 785.94, 783.07, 786.14, 778.19, 778.53, 779.96, 795.26, 801.56, 796.97, 799.37, 813.11, 807.67, 799.07, 795.35, 795.37, 784.54, 783.61, 768.7, 762.13, 762.02, 782.52, 790.51, 785.31, 762.56, 754.02, 736.08, 758.49, 764.48, 771.23, 760.54, 769.2, 768.27, 760.99, 761.68, 768.24, 770.84, 758.04, 747.92, 750.5, 762.52, 759.11, 771.19, 776.42, 789.29, 789.27, 796.1, 797.07, 797.85, 790.8, 794.2, 796.42, 794.56, 791.26, 789.91, 791.55, 785.05, 782.79, 771.82, 786.14, 786.9, 794.02, 806.15, 806.65, 804.79, 807.91, 806.36, 807.88, 804.61, 806.07, 802.175, 805.02, 819.31, 823.87, 835.67, 832.15, 823.31, 802.32, 796.79, 795.695, 798.53, 801.49, 801.34, 806.97, 808.38, 809.56, 813.67, 819.24, 820.45, 818.98, 824.16, 828.07, 831.66, 830.76, 831.33, 828.64, 829.28, 823.21, 835.24, 830.63, 829.08, 827.78, 831.91, 835.37, 838.68, 843.25, 845.54, 845.62, 847.2, 848.78, 852.12, 848.4, 830.46, 829.59, 817.58, 814.43, 819.51, 820.92, 831.41, 831.5, 829.56, 838.55, 834.57, 831.41, 827.88, 824.67, 824.73, 823.35, 824.32, 823.56, 837.17, 836.82, 838.21, 841.65, 843.19, 862.76, 872.3, 871.73, 874.25, 905.96, 912.57, 916.44, 927.04, 931.66, 927.13, 934.3, 932.17, 928.78, 930.6, 932.22, 937.08, 943.0, 919.62, 930.24, 934.01, 941.86, 948.82, 954.96, 969.54, 971.47, 975.88, 964.86, 966.95, 975.6, 983.68, 976.57, 981.08, 983.41, 949.83, 942.9, 953.4, 950.76, 942.31, 939.78, 957.37, 950.63, 959.45, 957.09, 965.59, 952.27, 927.33, 940.49, 917.79, 908.73, 898.7, 911.71, 906.69, 918.59, 928.8, 930.09, 943.83, 947.16, 955.99, 953.42, 965.4, 970.89, 968.15, 972.92, 980.34, 950.7, 947.8, 934.09, 941.53, 930.5, 930.83, 930.39, 923.65, 927.96, 929.36, 926.79, 922.9, 907.24, 914.39, 922.67, 922.22, 926.96, 910.98, 910.67, 906.66, 924.69, 927.0, 921.28, 915.89, 913.81, 921.29, 929.57, 939.33, 937.34, 928.45, 927.81, 935.95, 926.5, 929.08, 932.07, 935.09, 925.11, 920.29, 915.0, 921.81, 931.58, 932.45, 928.53, 920.97, 924.86, 944.49, 949.5, 959.11, 953.27, 957.79, 951.68, 969.96, 978.89, 977.0, 972.6, 989.25, 987.83, 989.68, 992.0, 992.18, 992.81, 984.45, 988.2, 968.45, 970.54, 973.33, 972.56, 1019.27, 1017.11, 1016.64, 1025.5, 1025.58, 1032.48, 1025.9, 1033.33, 1039.85, 1031.26, 1028.07, 1025.75, 1026.0, 1020.91, 1032.5, 1019.09, 1018.38, 1034.49, 1035.96, 1040.61, 1054.21, 1047.41, 1021.66, 1021.41, 1010.17, 998.68, 1005.15, 1018.38, 1030.93, 1037.05, 1041.1, 1040.48, 1040.61, 1049.15, 1064.19, 1077.14, 1070.68, 1064.95, 1063.63, 1060.12, 1056.74, 1049.37, 1048.14, 1046.4, 1065.0, 1082.48, 1086.4, 1102.23, 1106.94, 1106.26, 1102.61, 1105.52, 1122.26, 1121.76, 1131.98, 1129.79, 1137.51, 1155.81, 1169.97, 1164.24, 1170.37, 1175.84, 1175.58, 1163.69, 1169.94, 1167.7, 1111.9, 1055.8, 1080.6, 1048.58, 376.09, 375.36, 376.04, 379.75, 384.25, 384.83, 391.04, 392.34, 390.0, 389.15, 392.12, 390.97, 389.69, 393.8, 392.48, 393.03, 398.49, 396.59, 398.15, 403.7, 402.23, 394.3, 399.78, 396.66, 379.04, 383.78, 379.61, 375.25, 383.82, 376.92, 379.01, 391.86, 397.6, 423.76, 421.37, 419.04, 420.07, 431.1, 432.07, 433.23, 433.94, 439.55, 437.48, 449.81, 440.24, 436.34, 427.84, 431.67, 425.92, 416.96, 399.01, 408.33, 399.53, 375.32, 375.94, 377.37, 377.99, 377.58, 384.05, 385.5, 377.69, 375.99, 377.94, 381.56, 375.32, 379.11, 379.43, 385.17, 385.09, 384.47, 385.04, 389.47, 385.26, 387.08, 383.64, 387.98, 391.02, 397.69, 411.21, 410.74, 400.32, 398.98, 396.14, 398.93, 398.45, 400.05, 401.87, 403.4, 399.93, 403.33, 399.86, 401.1, 405.49, 407.97, 408.72, 410.6, 402.94, 405.02, 409.45, 408.07, 404.33, 403.07, 404.72, 401.55, 404.81, 406.8, 402.54, 388.8, 395.56, 394.66, 395.35, 399.07, 399.78, 400.26, 400.88, 403.07, 411.17, 408.17, 409.78, 414.05, 414.38, 407.33, 419.83, 418.86, 415.84, 416.67, 418.82, 417.0, 423.46, 411.44, 410.28, 405.68, 406.61, 409.11, 410.07, 411.34, 410.63, 407.23, 414.29, 401.92, 399.63, 397.73, 400.67, 404.08, 402.6, 401.11, 397.95, 420.46, 429.26, 429.91, 426.04, 425.24, 422.3, 419.28, 426.57, 421.33, 418.48, 414.97, 417.12, 416.2, 419.85, 419.15, 415.81, 421.7, 412.02, 408.9, 410.83, 412.93, 418.59, 419.29, 418.7, 421.74, 423.08, 425.77, 419.56, 425.73, 421.96, 421.25, 425.4, 423.06, 423.07, 426.07, 427.33, 420.58, 420.32, 418.56, 422.35, 426.72, 422.52, 432.56, 426.38, 429.94, 425.74, 421.92, 424.45, 421.74, 421.73, 415.72, 415.0, 414.52, 417.5, 419.34, 421.22, 423.13, 422.06, 426.63, 435.5, 433.64, 462.67, 465.84, 463.23, 461.37, 465.43, 465.4, 463.85, 463.31, 465.23, 466.28, 471.55, 473.71, 473.47, 472.62, 475.46, 475.35, 476.22, 483.65, 481.49, 481.71, 479.59, 481.3, 481.91, 484.04, 486.9, 485.45, 481.37, 485.5, 480.16, 481.83, 481.07, 473.36, 477.38, 478.27, 478.59, 478.94, 479.54, 478.14, 478.69, 478.91, 477.87, 476.57, 476.88, 480.54, 482.89, 481.14, 480.04, 477.02, 473.87, 481.18, 477.88, 492.87, 489.79, 490.47, 498.73, 509.44, 512.99, 513.3, 513.42, 513.71, 516.66, 513.43, 519.31, 544.14, 542.59, 547.43, 552.54, 552.74, 556.11, 564.4, 565.82, 558.34, 561.5, 564.09, 569.8, 570.75, 573.85, 577.1, 578.4, 579.85, 582.81, 588.86, 597.12, 595.46, 593.5, 601.16, 601.15, 593.95, 577.63, 584.43, 581.77, 584.23, 587.38, 594.78, 592.9, 598.54, 595.76, 599.64, 596.14, 591.12, 594.67, 583.87, 588.54, 588.4, 588.0, 584.74, 588.18, 593.0, 592.58, 602.35, 603.01, 604.76, 609.72, 606.48, 608.76, 610.32, 613.49, 614.99, 600.9, 597.85, 595.21, 578.06, 573.08, 576.61, 577.0, 577.64, 576.61, 581.62, 575.19, 575.57, 571.25, 577.58, 582.08, 580.78, 584.96, 573.84, 574.64, 579.95, 592.68, 590.01, 591.83, 590.38, 594.06, 591.96, 598.4, 605.09, 602.94, 603.25, 605.47, 611.83, 612.7, 623.74, 629.42, 623.88, 624.8, 626.0, 633.28, 632.27, 635.17, 631.41, 632.86, 625.61, 625.39, 628.78, 624.48, 626.16, 635.8, 639.89, 643.32, 644.85, 645.76, 651.95, 652.97, 659.7, 660.07, 658.65, 666.98, 662.22, 655.66, 661.19, 668.72, 667.37, 669.36, 666.0, 667.74, 679.0, 675.22, 682.63, 689.11, 671.6, 646.0, 635.11, 624.58, 623.72, 626.82, 622.66, 630.84, 631.37, 625.19, 630.5, 630.92, 631.92, 627.62, 626.35, 635.02, 633.76, 634.14, 625.44, 629.21, 624.64, 606.8, 612.25, 615.98, 620.15, 623.19, 624.67, 625.01, 626.39, 629.93, 639.94, 642.99, 635.07, 626.66, 618.43, 614.77, 613.53, 615.93, 622.6, 619.52, 626.1, 631.54, 627.03, 637.35, 633.18, 649.99, 646.19, 639.26, 650.6, 649.42, 656.51, 653.75, 666.69, 670.88, 667.15, 672.69, 678.05, 692.3, 685.79, 677.14, 675.26, 684.11, 667.16, 635.5, 637.28, 641.96, 700.83, 696.11, 703.38, 704.17, 705.62, 702.26, 703.47, 688.2, 683.33, 684.7, 671.54, 678.49, 695.91, 689.114, 695.62, 714.01, 718.41, 718.9, 719.03, 720.92, 725.07, 722.04, 715.53, 713.15, 713.5, 696.81, 684.15, 687.584, 683.99, 697.91, 695.64, 694.59, 694.86, 688.162, 695.76, 705.91, 698.72, 701.35, 693.31, 696.53, 696.13, 718.94, 733.99, 743.11, 711.38, 720.7, 708.8, 690.01, 683.57, 690.87, 702.35, 700.8, 711.22, 701.19, 699.43, 695.99, 694.06, 707.95, 724.77, 726.71, 725.05, 735.27, 737.5, 765.41, 777.44, 791.139, 805.75, 800.08, 813.66, 842.5, 825.96, 798.03, 803.6, 801.12, 804.33, 792.27, 807.54, 803.93, 802.62, 798.69, 795.5, 805.9, 816.45, 823.45, 813.42, 807.9, 814.82, 815.75, 825.54, 834.82, 828.55, 815.69, 813.05, 805.01, 809.57, 819.56, 822.39, 826.67, 840.735, 841.06, 845.4, 855.16, 888.628, 897.06, 892.32, 910.35, 920.39, 911.66, 902.05, 906.68, 899.6, 896.29, 900.48, 895.79, 894.02, 912.0, 900.08, 888.11, 886.86, 875.67, 904.35, 908.36, 928.58, 935.38, 927.58, 933.75, 969.89, 958.02, 953.61, 940.0, 938.79, 940.07, 933.13, 932.77, 940.2, 952.15, 954.23, 949.54, 935.6, 934.61, 940.65, 938.53, 942.83, 952.45, 957.8, 959.15, 965.664, 977.5, 981.56, 969.79, 966.818, 967.74, 970.24, 995.09, 1000.62, 1003.01, 996.76, 1005.99, 997.32, 1011.61, 1014.97, 1010.95, 1038.27, 1067.38, 1049.31, 1062.17, 1041.68, 998.13, 989.03, 1013.19, 1010.63, 1017.63, 1021.51, 1035.2, 1032.15, 1048.25, 1087.09, 1075.63, 1065.97, 1080.4, 1070.85, 1060.15, 1069.52, 1068.55, 1053.83, 1052.5, 1070.57, 1082.23, 1058.04, 1022.89, 1073.2, 1096.5, 1099.49, 1124.2, 1137.44, 1139.53, 1127.93, 1118.42, 1147.09, 1159.11, 1158.99, 1159.17, 1177.98, 1187.19, 1192.33, 1188.5, 1176.48, 1181.67, 1174.39, 1180.4, 1178.68, 1188.92, 1178.11, 1175.24, 1171.27, 1174.25, 1160.9, 1187.99, 1191.57, 1190.95, 1187.25, 1179.9, 1189.85, 1170.31, 1152.89, 1162.4, 1145.44, 1132.68, 1139.53, 1163.07, 1157.5, 1153.69, 1148.84, 1139.72, 1159.21, 1172.86, 1184.65, 1178.04, 1205.95, 1213.29, 1208.86, 1179.93, 1143.24, 1162.53, 1133.79, 1160.0, 1144.89, 1113.49, 1126.12, 1124.01, 1138.34, 1195.39, 1207.82, 1213.93, 1246.64, 1276.07, 1279.98, 1301.64, 1273.76, 1283.0, 1315.65, 1313.67, 1353.49, 1356.94, 1357.79, 1348.84, 1338.24, 1368.32, 1370.43, 1364.4, 1358.04, 1343.44, 1326.3, 1332.58, 1299.73, 1267.93, 1287.96, 1304.43, 1287.23, 1292.39, 1268.84, 1227.93, 1223.7, 1188.77, 1182.25, 1192.01, 1191.89, 1251.37, 1266.66, 1237.45, 1178.08, 1169.73, 1187.54, 1234.63, 1177.3, 1156.21, 1167.21, 1169.75, 1212.25, 1208.36, 1221.04, 1230.0, 1219.95, 1217.03, 1157.24, 1139.72, 1154.84, 1157.75, 1180.6, 1179.93, 1191.61, 1168.36, 1131.74, 1108.0, 1135.91, 1163.32, 1159.91, 1145.81, 1136.25, 1137.16, 1158.79, 1150.28, 1177.44, 1178.06, 1197.12, 1259.11, 1270.02, 1291.73, 1278.63, 1278.8, 1265.51, 1245.97, 1247.96, 1238.08, 1229.92, 1222.88, 1248.72, 1226.0, 1189.3, 1202.48, 1196.51, 1216.88, 1206.83, 1203.17, 1205.6, 1204.73, 1221.45, 1217.7, 1205.47, 1203.0, 1246.77, 1237.84, 1243.12, 1252.4, 1225.23, 1236.37, 1216.13, 1214.92, 1228.49, 1231.0, 1223.65, 1201.37, 1212.78, 1215.92, 1230.66, 1238.68, 1236.73, 1227.78, 1239.29, 1246.61, 1255.95, 1242.45, 1245.9, 1299.92, 1281.21, 1280.57, 1285.11, 1281.56, 1309.28, 1294.36, 1293.75, 1284.81, 1270.12, 1276.18, 1271.78, 1273.37, 1265.05, 1277.5, 1277.01, 1277.52, 1260.77, 1250.71, 1244.31, 1254.9, 1234.4, 1220.76, 1195.02, 1198.86, 1177.08, 1188.64, 1176.85, 1163.94, 1153.59, 1172.92, 1173.8, 1197.2, 1186.12, 1165.79, 1166.35, 1182.02, 1164.03, 1174.44, 1161.05, 1158.58, 1137.66, 1139.91, 1141.46, 1119.82, 1109.15, 1126.92, 1102.19, 1063.66, 1040.7, 1050.45, 1058.75, 1073.19, 1077.27, 1103.07, 1132.97, 1114.45, 1130.98, 1138.43, 1134.26, 1156.62, 1144.22, 1146.59, 1206.21, 1198.52, 1097.7, 1095.34, 1097.75, 1094.61, 1120.02, 1167.36, 1161.0, 1168.01, 1172.96, 1166.41, 1166.83, 1156.65, 1153.88, 1151.46, 1160.14, 1179.17, 1166.83, 1160.19, 1153.2, 1139.36, 1130.17, 1140.11, 1135.97, 1135.68, 1135.18, 1115.52, 1114.27, 1103.99, 1078.64, 1045.84, 1075.34, 1104.58, 1109.45, 1149.38, 1147.61, 1149.78, 1156.22, 1160.04, 1148.65, 1140.21, 1142.06, 1097.58, 1079.96, 1069.57, 1082.85, 1051.96, 1039.98, 1037.82, 1035.67, 998.25, 1008.22, 1024.95, 1045.53, 1049.68, 1037.99, 1041.86, 1013.86, 1003.25, 1014.74, 1009.48, 1013.03, 1037.55, 1028.28, 1044.6, 1022.42, 1033.15, 1057.62, 1060.06, 1091.95, 1103.37, 1120.99, 1122.99, 1218.05, 1216.23, 1207.58, 1219.79, 1250.86, 1241.25, 1237.48, 1249.4, 1242.03, 1225.67, 1231.9, 1215.99, 1217.0, 1191.09, 1177.55, 1186.6, 1157.77, 1158.44, 1153.57, 1181.69, 1176.32, 1179.17, 1181.18, 1169.72, 1152.7, 1140.36, 1135.19, 1149.83, 1164.15, 1149.6, 1160.44, 1185.01, 1184.98, 1192.25, 1186.0, 1189.5, 1199.75, 1204.71, 1200.95, 1206.09, 1187.53, 1191.42, 1194.26, 1212.9, 1221.1, 1233.09, 1253.2, 1242.12, 1248.51, 1237.81, 1260.43, 1267.46, 1263.32, 1264.15, 1213.49, 1204.76, 1186.38, 1183.47, 1177.75, 1190.09, 1198.8, 1216.84, 1213.66, 1208.18, 1212.63, 1208.5, 1195.78, 1197.76, 1190.55, 1172.04, 1166.66, 1196.02, 1193.71, 1185.74, 1178.16, 1164.05, 1163.27, 1179.94, 1181.93, 1174.17, 1175.36, 1176.2, 1163.57, 1173.96, 1158.46, 1150.39, 1155.95, 1154.92, 1149.19, 1140.9, 1107.73, 1151.37, 1150.35, 1143.07, 1141.43, 1145.01, 1116.94, 1126.07, 1143.19, 1171.39, 1171.43, 1167.54, 1182.99, 1216.0, 1247.91, 1235.2, 1233.97, 1228.96, 1197.42, 1186.08, 1208.09, 1219.43, 1222.06, 1243.57, 1240.48, 1283.99, 1351.21, 1351.8, 1317.35, 1323.75, 1307.87, 1294.71, 1285.47, 1283.8, 1306.56, 1291.83, 1291.35, 1257.54, 1216.92, 1174.12, 1178.81, 1223.46, 1252.01, 1259.39, 1248.64, 1215.36, 1242.87, 1240.37, 1245.25, 1280.4, 1276.72, 1287.74, 1290.41, 1286.83, 1318.8, 1320.48, 1318.0, 1294.47, 1307.48, 1288.95, 1275.99, 1281.13, 1252.76, 1199.14, 1200.32, 1236.86, 1247.08, 1265.68, 1274.86, 1275.45, 1291.58, 1304.32, 1313.29, 1347.19, 1345.0, 1311.08, 1327.29, 1336.57, 1376.13, 1372.51, 1364.29, 1354.47, 1366.49, 1416.32, 1403.28, 1404.52, 1425.65, 1454.24, 1467.19, 1464.9, 1469.56, 1462.64, 1449.9, 1311.15, 1323.54, 1329.58, 1314.01, 1297.75, 1266.87, 1258.79, 1278.5, 1284.65, 1281.53, 1264.32, 1240.18, 1245.75, 1244.99, 1248.85, 1282.5, 1275.44, 1280.08, 1300.48, 1302.42, 1303.97, 1294.99, 1306.5, 1285.33, 1297.88, 1323.73, 1332.31, 1313.74, 1285.67, 1275.71, 1277.49, 1279.05, 1273.07, 1272.96, 1302.4, 1289.16, 1274.95, 1245.37, 1210.69, 1196.71, 1167.19, 1136.96, 1136.28, 1148.92, 1098.9, 1121.38, 1086.74, 1094.5, 1081.33, 1089.14, 1118.11, 1097.93, 1111.54, 1043.7, 1043.13, 1064.97, 1084.87, 1066.79, 1049.16, 1069.1, 1015.55, 973.8, 991.29, 1032.77, 1055.24, 1058.01, 1110.68, 1235.56, 1251.95, 1283.74, 1288.42, 1261.89, 1264.21, 1263.41, 1254.27, 1265.21, 1295.92, 1301.37, 1303.04, 1297.71, 1291.43, 1282.77, 1291.89, 1293.77, 1326.87, 1325.73, 1332.13, 1350.99, 1346.86, 1344.22, 1350.51, 1319.41, 1306.11, 1301.19, 1287.03, 1307.89, 1317.03, 1288.96, 1299.7, 1281.76, 1279.08, 1293.01, 1276.5, 1274.15, 1264.63, 1300.28, 1317.76, 1336.39, 1331.9, 1353.37, 1345.78, 1350.0, 1340.0, 1338.5, 1335.27, 1333.95, 1353.74, 1317.59, 1343.66, 1356.69, 1354.64, 1253.04, 1240.85, 1250.1, 1244.92, 1268.27, 1267.31, 1282.25, 1278.64, 1283.47, 1278.02, 1267.27, 1250.31, 1249.29, 1237.49, 1256.63, 1270.18, 1269.02, 1273.0, 1264.33, 1278.0, 1290.0, 1301.71, 1349.1, 1360.0, 1354.83, 1340.07, 1318.9, 1315.47, 1304.1, 1305.42, 1323.89, 1309.24, 1341.96, 1343.05, 1360.1, 1390.2, 1232.14, 1186.05, 1204.25, 1239.41, 1248.41, 1267.37, 1275.03, 1292.04, 1297.26, 1329.46, 1351.03, 1345.43, 1338.65, 1346.18, 1330.57, 1341.36, 1327.0, 1352.83, 1332.5, 1327.4, 1321.67, 1324.53, 1324.48, 1326.1, 1350.81, 1356.08, 1345.38, 1371.14, 1359.99, 1414.22, 1405.0, 1407.01, 1406.28, 1406.92, 1407.98, 1399.16, 1408.66, 1427.2, 1443.07, 1432.0, 1423.99, 1422.47, 1410.18, 1415.55, 1419.79, 1425.19, 1416.55, 1416.73, 1418.59, 1422.85, 1436.96, 1444.01, 1445.83, 1413.9, 1436.21, 1415.95, 1429.38, 1457.22, 1460.05, 1448.06, 1449.0, 1464.0, 1465.87, 1456.76, 1447.15, 1453.49, 1458.03, 1472.98, 1471.49, 1486.72, 1489.02, 1497.58, 1490.44, 1479.82, 1475.18, 1459.02, 1454.84, 1442.52, 1439.57, 1437.65, 1454.97, 1469.2, 1468.29, 1467.39, 1471.8, 1479.03, 1469.16, 1463.02, 1474.82, 1474.23, 1467.0, 1445.33, 1438.1, 1424.28, 1480.33, 1578.13, 1570.26, 1554.32, 1540.65, 1489.18, 1497.45, 1503.23, 1512.9, 1507.35, 1524.18, 1535.42, 1520.99, 1521.68, 1525.07, 1520.27, 1503.68, 1479.66, 1473.0, 1499.76, 1504.82, 1527.04, 1548.67, 1557.98, 1536.78, 1540.11, 1528.45, 1501.2, 1484.28, 1488.83, 1502.25, 1505.76, 1481.34, 1486.2, 1493.42, 1480.46, 1480.16, 1466.06, 1477.57, 1487.29, 1503.7, 1520.57, 1529.64, 1535.25, 1536.11, 1538.59, 1545.82, 1540.13, 1541.86, 1539.02, 1545.01, 1554.99, 1563.33, 1578.82, 1581.44, 1602.92, 1602.31, 1575.13, 1575.31, 1574.09, 1583.38, 1587.18, 1598.7, 1601.19, 1611.83, 1646.51, 1646.18, 1637.29, 1648.96, 1648.88, 1637.4, 1647.0, 1651.74, 1637.26, 1631.62, 1632.01, 1724.13, 1733.18, 1734.37, 1735.1, 1730.21, 1736.46, 1743.49, 1749.42, 1754.24, 1767.12, 1769.0, 1767.98, 1773.98, 1772.63, 1765.44, 1747.14, 1751.99, 1748.33, 1753.11, 1772.0, 1788.45, 1785.05, 1789.2, 1779.97, 1773.99, 1767.38, 1761.77, 1773.52, 1769.56, 1775.97, 1768.4, 1750.01, 1738.77, 1770.61, 1763.31, 1763.2, 1760.8, 1752.01, 1798.62, 1799.09, 1804.12, 1835.87, 1846.82, 1869.92, 1880.52, 1876.79, 1910.41, 1903.65, 1903.91, 1911.13, 1824.77, 1813.56, 1818.18, 1813.81, 1829.8, 1795.69, 1796.03, 1808.28, 1828.42, 1827.94, 1848.74, 1860.43, 1863.9, 1857.45, 1877.09, 1890.82, 1895.96, 1891.58, 1889.86, 1890.37, 1892.38, 1842.12, 1812.99, 1843.52, 1831.61, 1809.2, 1802.61, 1851.6, 1850.64, 1867.78, 1862.93, 1874.28, 1876.34, 1858.25, 1890.21, 1876.99, 1870.52, 1843.13, 1866.01, 1872.3, 1918.5, 1921.82, 1929.15, 1946.18, 1940.7, 1950.87, 1945.46, 1976.24, 1992.1, 1999.22, 1994.89, 2002.01, 2016.91, 2033.21, 2025.09, 2024.06, 2028.5, 2024.59, 2021.37, 2027.98, 2032.77, 2042.64, 2049.0, 1906.8, 1849.62, 1854.17, 1873.95, 1860.84, 1855.72, 1812.97, 1810.0, 1801.54, 1818.2, 1813.02, 1815.51, 1793.48, 1789.91, 1807.06, 1813.0, 1852.08, 1850.82, 1842.89, 1842.45, 1845.37, 1838.57, 1868.86, 1868.64, 1871.17, 1845.29, 1843.2, 1854.18, 1859.78, 1866.21, 1866.35, 1862.13, 1829.55, 1825.92, 1818.99, 1811.69, 1830.82, 1857.47, 1867.65, 1888.7, 1909.61, 1918.0, 1926.93, 1916.65, 1920.2, 1918.95, 1929.06, 1935.55, 1934.53, 1941.87, 1927.86, 1942.11, 1934.55, 1932.29, 1928.81, 1939.29, 1890.92, 1879.73, 1911.96, 1913.06, 1911.14, 1894.49, 1903.0, 1645.72, 1661.11, 1703.14, 1697.25, 1722.15, 1719.5, 1726.78, 1731.65, 1747.22, 1754.02, 1766.67, 1759.19, 1758.42, 1763.4, 1752.02, 1734.45, 1739.71, 1735.3, 1723.24, 1724.88, 1719.04, 1719.62, 1719.84, 1715.52, 1723.72, 1742.61, 1760.92, 1760.0, 1781.35, 1780.62, 1774.0, 1778.79, 1775.26, 1755.32, 1757.88, 1764.09, 1737.74, 1784.75, 1824.16, 1807.25, 1823.54, 1851.81, 1865.29, 1872.91, 1893.1, 1919.4, 1919.47, 1949.9, 1926.71, 1910.21, 1915.77, 1962.94, 1955.24, 1949.67, 1950.48, 1929.23, 1921.53, 1912.05, 1903.69, 1859.1, 1825.93, 1858.66, 1882.68, 381.01, 384.46, 393.96, 402.5, 407.16, 397.89, 387.7, 392.8, 393.72, 395.26, 376.94, 377.84, 385.97, 398.36, 401.11, 402.63, 395.2, 399.65, 413.22, 415.25, 406.0, 405.25, 409.75, 413.0, 415.84, 416.11, 408.72, 421.24, 424.41, 423.21, 423.23, 434.95, 432.67, 422.93, 424.35, 416.44, 401.01, 396.13, 410.99, 423.79, 427.64, 412.97, 394.05, 400.12, 413.48, 413.87, 408.34, 410.25, 410.16, 412.47, 396.89, 407.72, 403.25, 411.04, 413.33, 406.49, 404.31, 397.12, 408.69, 421.11, 418.11, 420.81, 420.21, 423.77, 415.74, 408.0, 414.64, 416.66, 413.09, 409.2, 401.36, 413.87, 406.86, 399.72, 400.71, 398.99, 401.74, 402.4, 404.18, 405.8, 426.6, 423.78, 425.11, 420.64, 423.04, 419.87, 413.84, 418.44, 412.505, 413.04, 428.95, 422.13, 426.87, 422.84, 424.55, 425.16, 429.38, 451.77, 467.8, 472.11, 486.02, 488.87, 478.32, 473.74, 453.99, 448.375, 454.5, 459.78, 451.48, 441.18, 438.27, 440.23, 441.65, 453.19, 455.04, 461.39, 456.98, 455.07, 453.89, 457.42, 447.52, 452.42, 463.22, 472.63, 480.08, 480.09, 473.48, 466.34, 469.7, 457.46, 471.16, 474.17, 465.5, 470.01, 468.62, 481.29, 477.56, 479.4, 477.46, 491.43, 489.01, 496.74, 504.15, 512.77, 516.0, 513.88, 506.63, 515.37, 512.12, 512.56, 513.81, 508.9, 514.22, 518.62, 539.4, 526.09, 526.09, 512.32, 501.1, 492.29, 499.06, 501.76, 512.89, 527.97, 522.28, 520.71, 521.05, 516.59, 519.24, 520.63, 504.97, 510.13, 506.51, 511.08, 512.24, 517.61, 509.3, 509.03, 526.01, 536.21, 542.9, 543.38, 551.53, 551.98, 561.17, 560.0, 556.53, 556.61, 541.85, 540.03, 552.45, 546.27, 547.1, 553.66, 554.27, 580.94, 592.4, 582.47, 579.04, 581.0, 566.99, 579.25, 574.1, 576.3, 576.76, 569.67, 568.91, 546.65, 527.18, 504.58, 499.02, 535.47, 538.0, 536.7, 513.5, 496.42, 518.78, 508.51, 499.99, 542.76, 527.35, 531.22, 533.3, 531.4, 541.45, 540.99, 550.97, 550.36, 529.38, 530.18, 536.5, 522.0, 490.67, 453.98, 451.82, 465.14, 472.97, 479.07, 473.14, 459.82, 485.76, 491.21, 503.92, 526.83, 508.04, 509.28, 519.35, 514.59, 523.56, 514.67, 518.53, 525.11, 536.7, 545.87, 567.79, 571.14, 560.02, 557.39, 579.0, 578.0, 564.0, 564.16, 562.0, 558.52, 564.86, 566.41, 552.53, 548.9, 558.38, 570.91, 587.09, 581.35, 579.57, 570.85, 567.47, 561.69, 563.1, 544.5, 545.74, 546.88, 535.73, 558.66, 546.61, 556.33, 547.39, 548.17, 534.51, 539.94, 556.45, 559.67, 551.49, 544.23, 532.55, 528.34, 535.85, 537.63, 540.28, 550.21, 548.19, 542.87, 516.55, 508.98, 519.48, 501.96, 491.68, 480.82, 474.98, 459.57, 479.08, 462.95, 447.02, 461.95, 461.57, 482.99, 473.12, 463.56, 434.16, 415.11, 420.09, 418.27, 409.89, 421.01, 412.59, 396.61, 390.53, 379.01, 391.76, 397.26, 387.3, 394.98, 395.79, 386.83, 393.63, 393.99, 394.23, 384.02, 410.21, 407.81, 401.94, 403.82, 408.28, 394.81, 377.56, 377.12, 378.31, 405.25, 405.3, 403.65, 427.2, 418.48, 404.94, 396.14, 408.07, 410.52, 406.83, 406.73, 422.38, 413.78, 399.75, 409.57, 404.38, 406.92, 406.66, 390.28, 391.3, 376.71, 384.52, 377.73, 375.47, 385.87, 391.95, 386.38, 390.28, 383.3, 386.0, 392.64, 397.7, 394.49, 393.54, 396.22, 398.93, 404.31, 407.13, 400.75, 403.89, 394.47, 388.97, 381.08, 378.35, 375.74, 381.54, 377.15, 384.7, 389.52, 391.34, 394.9, 398.27, 415.09, 411.04, 425.12, 434.0, 434.9, 441.37, 433.4, 423.0, 421.04, 419.24, 415.48, 421.35, 421.54, 422.87, 413.64, 411.68, 410.87, 404.3, 418.65, 420.61, 405.25, 400.25, 402.97, 399.38, 395.22, 392.55, 393.4, 388.64, 398.31, 399.89, 401.83, 384.43, 399.51, 390.99, 397.56, 402.75, 408.63, 402.83, 406.24, 406.52, 408.01, 410.39, 404.12, 421.45, 419.1, 406.36, 402.02, 402.82, 397.2, 392.6, 388.6, 390.06, 393.86, 386.05, 375.79, 418.42, 423.0, 419.79, 444.52, 428.65, 420.08, 404.56, 397.48, 405.48, 398.97, 402.41, 398.16, 390.38, 387.26, 379.24, 375.56, 387.1, 382.0, 381.5, 378.01, 378.85, 381.78, 385.95, 378.75, 379.7, 383.11, 380.92, 375.66, 376.52, 384.0, 379.05, 375.86, 378.66, 381.93, 381.37, 390.14, 388.23, 388.88, 391.1, 397.8, 392.59, 380.29, 382.02, 383.68, 382.55, 394.14, 386.18, 387.51, 383.19, 382.92, 377.36, 379.48, 380.55, 376.4, 388.49, 396.17, 402.04, 407.03, 434.31, 429.0, 423.38, 427.18, 431.57, 440.43, 442.05, 450.41, 454.75, 446.72, 457.33, 450.01, 460.99, 461.37, 458.24, 455.7, 455.17, 448.67, 459.06, 466.02, 480.43, 480.26, 477.73, 482.0, 485.9, 475.79, 476.23, 473.67, 476.84, 469.5, 459.91, 471.67, 495.33, 522.02, 526.53, 517.33, 515.91, 502.12, 513.19, 509.93, 491.14, 487.73, 497.0, 490.19, 496.5, 499.91, 492.0, 496.99, 505.05, 504.9, 498.11, 497.63, 506.79, 521.13, 515.92, 521.22, 513.45, 515.63, 508.41, 508.71, 491.62, 472.0, 476.82, 467.11, 468.76, 470.1, 469.68, 474.09, 460.08, 466.59, 474.54, 472.57, 468.54, 464.02, 467.98, 469.74, 478.65, 477.15, 485.26, 477.8, 479.22, 479.03, 487.12, 496.9, 504.0, 494.36, 500.22, 471.92, 471.49, 445.11, 444.48, 437.74, 441.26, 433.45, 434.64, 431.38, 438.17, 433.45, 432.72, 438.15, 434.97, 435.43, 435.11, 447.12, 462.24, 455.63, 456.05, 463.4, 469.95, 469.56, 461.13, 452.97, 447.15, 442.96, 445.68, 442.56, 439.37, 440.94, 432.98, 432.76, 426.51, 421.93, 416.04, 409.22, 406.52, 402.62, 397.0, 397.45, 408.41, 406.63, 404.39, 415.17, 406.21, 404.54, 393.62, 384.8, 386.3, 394.69, 391.59, 385.22, 384.44, 387.54, 384.85, 378.37, 380.78, 381.32, 381.72, 386.67, 383.12, 388.95, 383.39, 385.72, 382.89, 384.14, 381.0, 387.43, 384.09, 382.82, 375.96, 382.6, 393.78, 382.95, 385.1, 375.86, 381.71, 383.32, 391.84, 382.88, 379.77, 379.9, 383.47, 382.0, 381.47, 383.04, 383.57, 385.84, 384.07, 382.68, 384.09, 387.57, 389.7, 386.58, 388.91, 392.69, 396.5, 397.29, 394.25, 395.15, 395.77, 392.11, 397.11, 393.94, 394.01, 395.51, 387.03, 389.46, 389.71, 389.13, 385.96, 388.03, 386.98, 387.69, 390.13, 390.56, 394.03, 390.21, 397.54, 393.96, 399.42, 395.07, 406.93, 405.55, 401.19, 406.47, 408.85, 407.76, 407.02, 405.45, 400.23, 403.82, 408.15, 411.87, 414.34, 411.53, 413.09, 411.39, 410.2, 413.07, 410.04, 413.7, 415.36, 413.1, 421.66, 424.0, 424.21, 419.53, 425.36, 432.84, 423.87, 426.94, 430.76, 430.8, 427.18, 429.21, 429.38, 424.66, 423.68, 420.79, 421.36, 417.11, 412.13, 403.13, 393.23, 405.0, 403.48]\n"
     ]
    }
   ],
   "source": [
    "import numpy as np\n",
    "outliers = []\n",
    "def detect_outliers_zscore(df):\n",
    "    thres = 3\n",
    "    mean = np.mean(df)\n",
    "    std = np.std(df)\n",
    "    # print(mean, std)\n",
    "    for i in df:\n",
    "        z_score = (i-mean)/std\n",
    "        if (np.abs(z_score) > thres):\n",
    "            outliers.append(i)\n",
    "    return outliers\n",
    "sample_outliers = detect_outliers_zscore(df['close'])\n",
    "print(\"Outliers from Z-scores method: \", sample_outliers)"
   ]
  },
  {
   "cell_type": "markdown",
   "id": "9aad211e",
   "metadata": {},
   "source": [
    "## Limits in which outliers exist"
   ]
  },
  {
   "cell_type": "code",
   "execution_count": 39,
   "id": "8267e7bd",
   "metadata": {},
   "outputs": [
    {
     "name": "stdout",
     "output_type": "stream",
     "text": [
      "40.245 67.71\n"
     ]
    },
    {
     "data": {
      "text/plain": [
       "27.464999999999996"
      ]
     },
     "execution_count": 39,
     "metadata": {},
     "output_type": "execute_result"
    }
   ],
   "source": [
    "Q1=df[\"close\"].quantile(0.25)\n",
    "Q3=df[\"close\"].quantile(0.55)\n",
    "print(Q1,Q3)\n",
    "iqr=Q3-Q1\n",
    "iqr"
   ]
  },
  {
   "cell_type": "code",
   "execution_count": 40,
   "id": "6c5457d1",
   "metadata": {},
   "outputs": [
    {
     "name": "stdout",
     "output_type": "stream",
     "text": [
      "108.90749999999998 81.4425\n"
     ]
    }
   ],
   "source": [
    "upper_limit = Q3 + 1.5 * iqr\n",
    "lower_limit = Q1 + 1.5 * iqr\n",
    "print(upper_limit, lower_limit)"
   ]
  },
  {
   "cell_type": "code",
   "execution_count": 41,
   "id": "ac15e942",
   "metadata": {},
   "outputs": [
    {
     "data": {
      "text/plain": [
       "(502035, 7)"
      ]
     },
     "execution_count": 41,
     "metadata": {},
     "output_type": "execute_result"
    }
   ],
   "source": [
    "df1 = df[df['close']<upper_limit]\n",
    "df1.shape"
   ]
  },
  {
   "cell_type": "code",
   "execution_count": 42,
   "id": "3477b156",
   "metadata": {},
   "outputs": [
    {
     "name": "stdout",
     "output_type": "stream",
     "text": [
      "40.245 67.71\n",
      "108.90749999999998 81.4425\n"
     ]
    },
    {
     "data": {
      "text/plain": [
       "(502035, 7)"
      ]
     },
     "execution_count": 42,
     "metadata": {},
     "output_type": "execute_result"
    }
   ],
   "source": [
    "Q1 = df['close'].quantile(0.25)\n",
    "Q3 = df['close'].quantile(0.55)\n",
    "print(Q1,Q3)\n",
    "iqr=Q3-Q1\n",
    "iqr\n",
    "\n",
    "upper = Q3+1.5*iqr\n",
    "lower = Q1+1.5*iqr\n",
    "print(upper,lower)\n",
    "\n",
    "df1 = df[df['close']<upper]\n",
    "df1.shape"
   ]
  },
  {
   "cell_type": "markdown",
   "id": "e9ef78d3",
   "metadata": {},
   "source": [
    "## Box plot visualization"
   ]
  },
  {
   "cell_type": "code",
   "execution_count": 43,
   "id": "44bc197b",
   "metadata": {},
   "outputs": [
    {
     "name": "stdout",
     "output_type": "stream",
     "text": [
      "40.245 94.41\n"
     ]
    },
    {
     "data": {
      "text/plain": [
       "<AxesSubplot:xlabel='close'>"
      ]
     },
     "execution_count": 43,
     "metadata": {},
     "output_type": "execute_result"
    },
    {
     "data": {
      "image/png": "[encoded data removed]",
      "text/plain": [
       "<Figure size 432x288 with 1 Axes>"
      ]
     },
     "metadata": {
      "needs_background": "light"
     },
     "output_type": "display_data"
    }
   ],
   "source": [
    "sns.boxplot(df['close'])\n",
    "\n",
    "Q1 = df['close'].quantile(0.25)\n",
    "Q3 = df['close'].quantile(0.75)\n",
    "print(Q1,Q3)\n",
    "iqr=Q3-Q1\n",
    "iqr\n",
    "\n",
    "df1 = df[df['close']<upper]\n",
    "df1.shape\n",
    "\n",
    "sns.boxplot(df1['close'])"
   ]
  },
  {
   "cell_type": "markdown",
   "id": "a2604598",
   "metadata": {},
   "source": [
    "## Removing Outliers"
   ]
  },
  {
   "cell_type": "code",
   "execution_count": 44,
   "id": "f27ee776",
   "metadata": {},
   "outputs": [
    {
     "data": {
      "text/html": [
       "<div>\n",
       "<style scoped>\n",
       "    .dataframe tbody tr th:only-of-type {\n",
       "        vertical-align: middle;\n",
       "    }\n",
       "\n",
       "    .dataframe tbody tr th {\n",
       "        vertical-align: top;\n",
       "    }\n",
       "\n",
       "    .dataframe thead th {\n",
       "        text-align: right;\n",
       "    }\n",
       "</style>\n",
       "<table border=\"1\" class=\"dataframe\">\n",
       "  <thead>\n",
       "    <tr style=\"text-align: right;\">\n",
       "      <th></th>\n",
       "      <th>date</th>\n",
       "      <th>open</th>\n",
       "      <th>high</th>\n",
       "      <th>low</th>\n",
       "      <th>close</th>\n",
       "      <th>volume</th>\n",
       "      <th>Name</th>\n",
       "    </tr>\n",
       "  </thead>\n",
       "  <tbody>\n",
       "    <tr>\n",
       "      <th>1563</th>\n",
       "      <td>2014-04-25</td>\n",
       "      <td>80.6471</td>\n",
       "      <td>81.7128</td>\n",
       "      <td>80.5656</td>\n",
       "      <td>81.7056</td>\n",
       "      <td>97568814.0</td>\n",
       "      <td>AAPL</td>\n",
       "    </tr>\n",
       "    <tr>\n",
       "      <th>1564</th>\n",
       "      <td>2014-04-28</td>\n",
       "      <td>81.8285</td>\n",
       "      <td>85.1071</td>\n",
       "      <td>81.7928</td>\n",
       "      <td>84.8699</td>\n",
       "      <td>167371680.0</td>\n",
       "      <td>AAPL</td>\n",
       "    </tr>\n",
       "    <tr>\n",
       "      <th>1565</th>\n",
       "      <td>2014-04-29</td>\n",
       "      <td>84.8199</td>\n",
       "      <td>85.1399</td>\n",
       "      <td>84.2156</td>\n",
       "      <td>84.6185</td>\n",
       "      <td>84344673.0</td>\n",
       "      <td>AAPL</td>\n",
       "    </tr>\n",
       "    <tr>\n",
       "      <th>1566</th>\n",
       "      <td>2014-04-30</td>\n",
       "      <td>84.6628</td>\n",
       "      <td>85.6328</td>\n",
       "      <td>84.2571</td>\n",
       "      <td>84.2985</td>\n",
       "      <td>114220883.0</td>\n",
       "      <td>AAPL</td>\n",
       "    </tr>\n",
       "    <tr>\n",
       "      <th>1567</th>\n",
       "      <td>2014-05-01</td>\n",
       "      <td>84.5713</td>\n",
       "      <td>84.9713</td>\n",
       "      <td>83.7656</td>\n",
       "      <td>84.4971</td>\n",
       "      <td>61052418.0</td>\n",
       "      <td>AAPL</td>\n",
       "    </tr>\n",
       "    <tr>\n",
       "      <th>...</th>\n",
       "      <td>...</td>\n",
       "      <td>...</td>\n",
       "      <td>...</td>\n",
       "      <td>...</td>\n",
       "      <td>...</td>\n",
       "      <td>...</td>\n",
       "      <td>...</td>\n",
       "    </tr>\n",
       "    <tr>\n",
       "      <th>616246</th>\n",
       "      <td>2017-01-04</td>\n",
       "      <td>103.8800</td>\n",
       "      <td>105.3450</td>\n",
       "      <td>103.3800</td>\n",
       "      <td>104.2800</td>\n",
       "      <td>1502751.0</td>\n",
       "      <td>ZBH</td>\n",
       "    </tr>\n",
       "    <tr>\n",
       "      <th>616247</th>\n",
       "      <td>2017-01-05</td>\n",
       "      <td>104.5800</td>\n",
       "      <td>105.2800</td>\n",
       "      <td>104.1100</td>\n",
       "      <td>104.9500</td>\n",
       "      <td>1453888.0</td>\n",
       "      <td>ZBH</td>\n",
       "    </tr>\n",
       "    <tr>\n",
       "      <th>616248</th>\n",
       "      <td>2017-01-06</td>\n",
       "      <td>105.1400</td>\n",
       "      <td>105.3099</td>\n",
       "      <td>103.6200</td>\n",
       "      <td>104.9600</td>\n",
       "      <td>1820999.0</td>\n",
       "      <td>ZBH</td>\n",
       "    </tr>\n",
       "    <tr>\n",
       "      <th>616249</th>\n",
       "      <td>2017-01-09</td>\n",
       "      <td>104.7700</td>\n",
       "      <td>107.1990</td>\n",
       "      <td>104.7700</td>\n",
       "      <td>107.0000</td>\n",
       "      <td>1163298.0</td>\n",
       "      <td>ZBH</td>\n",
       "    </tr>\n",
       "    <tr>\n",
       "      <th>616459</th>\n",
       "      <td>2017-11-07</td>\n",
       "      <td>109.9800</td>\n",
       "      <td>109.9800</td>\n",
       "      <td>108.1700</td>\n",
       "      <td>108.7200</td>\n",
       "      <td>1279257.0</td>\n",
       "      <td>ZBH</td>\n",
       "    </tr>\n",
       "  </tbody>\n",
       "</table>\n",
       "<p>86340 rows × 7 columns</p>\n",
       "</div>"
      ],
      "text/plain": [
       "             date      open      high       low     close       volume  Name\n",
       "1563   2014-04-25   80.6471   81.7128   80.5656   81.7056   97568814.0  AAPL\n",
       "1564   2014-04-28   81.8285   85.1071   81.7928   84.8699  167371680.0  AAPL\n",
       "1565   2014-04-29   84.8199   85.1399   84.2156   84.6185   84344673.0  AAPL\n",
       "1566   2014-04-30   84.6628   85.6328   84.2571   84.2985  114220883.0  AAPL\n",
       "1567   2014-05-01   84.5713   84.9713   83.7656   84.4971   61052418.0  AAPL\n",
       "...           ...       ...       ...       ...       ...          ...   ...\n",
       "616246 2017-01-04  103.8800  105.3450  103.3800  104.2800    1502751.0   ZBH\n",
       "616247 2017-01-05  104.5800  105.2800  104.1100  104.9500    1453888.0   ZBH\n",
       "616248 2017-01-06  105.1400  105.3099  103.6200  104.9600    1820999.0   ZBH\n",
       "616249 2017-01-09  104.7700  107.1990  104.7700  107.0000    1163298.0   ZBH\n",
       "616459 2017-11-07  109.9800  109.9800  108.1700  108.7200    1279257.0   ZBH\n",
       "\n",
       "[86340 rows x 7 columns]"
      ]
     },
     "execution_count": 44,
     "metadata": {},
     "output_type": "execute_result"
    }
   ],
   "source": [
    "df1 = df[(df.close>lower_limit) & (df.close<upper_limit)]\n",
    "df1"
   ]
  },
  {
   "cell_type": "code",
   "execution_count": 45,
   "id": "047c3b92",
   "metadata": {},
   "outputs": [
    {
     "data": {
      "text/plain": [
       "<AxesSubplot:xlabel='open'>"
      ]
     },
     "execution_count": 45,
     "metadata": {},
     "output_type": "execute_result"
    },
    {
     "data": {
      "image/png": "[encoded data removed]",
      "text/plain": [
       "<Figure size 432x288 with 1 Axes>"
      ]
     },
     "metadata": {
      "needs_background": "light"
     },
     "output_type": "display_data"
    }
   ],
   "source": [
    "sns.boxplot(x=df1['open'])"
   ]
  },
  {
   "cell_type": "code",
   "execution_count": 46,
   "id": "14faff84",
   "metadata": {},
   "outputs": [
    {
     "data": {
      "text/plain": [
       "<AxesSubplot:xlabel='close'>"
      ]
     },
     "execution_count": 46,
     "metadata": {},
     "output_type": "execute_result"
    },
    {
     "data": {
      "image/png": "[encoded data removed]",
      "text/plain": [
       "<Figure size 432x288 with 1 Axes>"
      ]
     },
     "metadata": {
      "needs_background": "light"
     },
     "output_type": "display_data"
    }
   ],
   "source": [
    "sns.boxplot(x=df1['close'])"
   ]
  },
  {
   "cell_type": "code",
   "execution_count": 47,
   "id": "0c78d405",
   "metadata": {},
   "outputs": [
    {
     "data": {
      "text/plain": [
       "<AxesSubplot:xlabel='high'>"
      ]
     },
     "execution_count": 47,
     "metadata": {},
     "output_type": "execute_result"
    },
    {
     "data": {
      "image/png": "[encoded data removed]",
      "text/plain": [
       "<Figure size 432x288 with 1 Axes>"
      ]
     },
     "metadata": {
      "needs_background": "light"
     },
     "output_type": "display_data"
    }
   ],
   "source": [
    "sns.boxplot(x=df1['high'])"
   ]
  },
  {
   "cell_type": "code",
   "execution_count": 48,
   "id": "2d3daa73",
   "metadata": {},
   "outputs": [
    {
     "data": {
      "text/plain": [
       "<AxesSubplot:xlabel='low'>"
      ]
     },
     "execution_count": 48,
     "metadata": {},
     "output_type": "execute_result"
    },
    {
     "data": {
      "image/png": "[encoded data removed]",
      "text/plain": [
       "<Figure size 432x288 with 1 Axes>"
      ]
     },
     "metadata": {
      "needs_background": "light"
     },
     "output_type": "display_data"
    }
   ],
   "source": [
    "sns.boxplot(x=df1['low'])"
   ]
  },
  {
   "cell_type": "code",
   "execution_count": 49,
   "id": "78409ce1",
   "metadata": {},
   "outputs": [
    {
     "data": {
      "text/plain": [
       "array([80.6471, 81.8285, 84.8199, ..., 86.3272, 83.145 , 93.115 ])"
      ]
     },
     "execution_count": 49,
     "metadata": {},
     "output_type": "execute_result"
    }
   ],
   "source": [
    "df1.open.unique()"
   ]
  },
  {
   "cell_type": "code",
   "execution_count": 50,
   "id": "047d5c86",
   "metadata": {},
   "outputs": [
    {
     "data": {
      "text/plain": [
       "array([81.7056, 84.8699, 84.6185, ..., 99.505 , 96.045 , 93.195 ])"
      ]
     },
     "execution_count": 50,
     "metadata": {},
     "output_type": "execute_result"
    }
   ],
   "source": [
    "df1.close.unique()"
   ]
  },
  {
   "cell_type": "code",
   "execution_count": 51,
   "id": "76f7a4c5",
   "metadata": {},
   "outputs": [
    {
     "data": {
      "text/plain": [
       "array([ 81.7128,  85.1071,  85.1399, ..., 105.345 , 105.3099, 107.199 ])"
      ]
     },
     "execution_count": 51,
     "metadata": {},
     "output_type": "execute_result"
    }
   ],
   "source": [
    "df1.high.unique()"
   ]
  },
  {
   "cell_type": "code",
   "execution_count": 52,
   "id": "0c8b4bbf",
   "metadata": {},
   "outputs": [
    {
     "data": {
      "text/plain": [
       "array([ 80.5656,  81.7928,  84.2156, ...,  94.085 , 100.1575, 100.8101])"
      ]
     },
     "execution_count": 52,
     "metadata": {},
     "output_type": "execute_result"
    }
   ],
   "source": [
    "df1.low.unique()"
   ]
  },
  {
   "cell_type": "code",
   "execution_count": 53,
   "id": "72b8dbe5",
   "metadata": {},
   "outputs": [
    {
     "data": {
      "text/plain": [
       "array([9.7568814e+07, 1.6737168e+08, 8.4344673e+07, ..., 1.8209990e+06,\n",
       "       1.1632980e+06, 1.2792570e+06])"
      ]
     },
     "execution_count": 53,
     "metadata": {},
     "output_type": "execute_result"
    }
   ],
   "source": [
    "df1.volume.unique()"
   ]
  },
  {
   "cell_type": "markdown",
   "id": "b841fd55",
   "metadata": {},
   "source": [
    "## Plotting a Scatter Plot"
   ]
  },
  {
   "cell_type": "code",
   "execution_count": 54,
   "id": "319184dd",
   "metadata": {},
   "outputs": [
    {
     "data": {
      "image/png": "[encoded data removed]",
      "text/plain": [
       "<Figure size 720x432 with 1 Axes>"
      ]
     },
     "metadata": {
      "needs_background": "light"
     },
     "output_type": "display_data"
    }
   ],
   "source": [
    "fig, ax = plt.subplots(figsize=(10,6))\n",
    "ax.scatter(df['close'], df['open'])\n",
    "ax.set_xlabel('close')\n",
    "ax.set_ylabel('open')\n",
    "plt.show()"
   ]
  },
  {
   "cell_type": "markdown",
   "id": "99246ace",
   "metadata": {},
   "source": [
    "## Checking Individual Stock data"
   ]
  },
  {
   "cell_type": "code",
   "execution_count": 55,
   "id": "82f5daf0",
   "metadata": {},
   "outputs": [
    {
     "data": {
      "text/plain": [
       "[<matplotlib.lines.Line2D at 0x27e0dae9a60>]"
      ]
     },
     "execution_count": 55,
     "metadata": {},
     "output_type": "execute_result"
    },
    {
     "data": {
      "image/png": "[encoded data removed]",
      "text/plain": [
       "<Figure size 432x288 with 1 Axes>"
      ]
     },
     "metadata": {
      "needs_background": "light"
     },
     "output_type": "display_data"
    }
   ],
   "source": [
    "plt.plot(df[df['Name']=='PXD']['open'])"
   ]
  },
  {
   "cell_type": "code",
   "execution_count": 56,
   "id": "b8cacf8e",
   "metadata": {},
   "outputs": [
    {
     "data": {
      "text/html": [
       "<div>\n",
       "<style scoped>\n",
       "    .dataframe tbody tr th:only-of-type {\n",
       "        vertical-align: middle;\n",
       "    }\n",
       "\n",
       "    .dataframe tbody tr th {\n",
       "        vertical-align: top;\n",
       "    }\n",
       "\n",
       "    .dataframe thead th {\n",
       "        text-align: right;\n",
       "    }\n",
       "</style>\n",
       "<table border=\"1\" class=\"dataframe\">\n",
       "  <thead>\n",
       "    <tr style=\"text-align: right;\">\n",
       "      <th></th>\n",
       "      <th>date</th>\n",
       "      <th>open</th>\n",
       "      <th>high</th>\n",
       "      <th>low</th>\n",
       "      <th>close</th>\n",
       "      <th>volume</th>\n",
       "      <th>Name</th>\n",
       "    </tr>\n",
       "  </thead>\n",
       "  <tbody>\n",
       "    <tr>\n",
       "      <th>0</th>\n",
       "      <td>2013-02-08</td>\n",
       "      <td>15.07</td>\n",
       "      <td>15.12</td>\n",
       "      <td>14.63</td>\n",
       "      <td>14.75</td>\n",
       "      <td>8407500.0</td>\n",
       "      <td>AAL</td>\n",
       "    </tr>\n",
       "    <tr>\n",
       "      <th>1</th>\n",
       "      <td>2013-02-11</td>\n",
       "      <td>14.89</td>\n",
       "      <td>15.01</td>\n",
       "      <td>14.26</td>\n",
       "      <td>14.46</td>\n",
       "      <td>8882000.0</td>\n",
       "      <td>AAL</td>\n",
       "    </tr>\n",
       "    <tr>\n",
       "      <th>2</th>\n",
       "      <td>2013-02-12</td>\n",
       "      <td>14.45</td>\n",
       "      <td>14.51</td>\n",
       "      <td>14.10</td>\n",
       "      <td>14.27</td>\n",
       "      <td>8126000.0</td>\n",
       "      <td>AAL</td>\n",
       "    </tr>\n",
       "    <tr>\n",
       "      <th>3</th>\n",
       "      <td>2013-02-13</td>\n",
       "      <td>14.30</td>\n",
       "      <td>14.94</td>\n",
       "      <td>14.25</td>\n",
       "      <td>14.66</td>\n",
       "      <td>10259500.0</td>\n",
       "      <td>AAL</td>\n",
       "    </tr>\n",
       "    <tr>\n",
       "      <th>4</th>\n",
       "      <td>2013-02-14</td>\n",
       "      <td>14.94</td>\n",
       "      <td>14.96</td>\n",
       "      <td>13.16</td>\n",
       "      <td>13.99</td>\n",
       "      <td>31879900.0</td>\n",
       "      <td>AAL</td>\n",
       "    </tr>\n",
       "    <tr>\n",
       "      <th>...</th>\n",
       "      <td>...</td>\n",
       "      <td>...</td>\n",
       "      <td>...</td>\n",
       "      <td>...</td>\n",
       "      <td>...</td>\n",
       "      <td>...</td>\n",
       "      <td>...</td>\n",
       "    </tr>\n",
       "    <tr>\n",
       "      <th>619035</th>\n",
       "      <td>2018-02-01</td>\n",
       "      <td>76.84</td>\n",
       "      <td>78.27</td>\n",
       "      <td>76.69</td>\n",
       "      <td>77.82</td>\n",
       "      <td>2982259.0</td>\n",
       "      <td>ZTS</td>\n",
       "    </tr>\n",
       "    <tr>\n",
       "      <th>619036</th>\n",
       "      <td>2018-02-02</td>\n",
       "      <td>77.53</td>\n",
       "      <td>78.12</td>\n",
       "      <td>76.73</td>\n",
       "      <td>76.78</td>\n",
       "      <td>2595187.0</td>\n",
       "      <td>ZTS</td>\n",
       "    </tr>\n",
       "    <tr>\n",
       "      <th>619037</th>\n",
       "      <td>2018-02-05</td>\n",
       "      <td>76.64</td>\n",
       "      <td>76.92</td>\n",
       "      <td>73.18</td>\n",
       "      <td>73.83</td>\n",
       "      <td>2962031.0</td>\n",
       "      <td>ZTS</td>\n",
       "    </tr>\n",
       "    <tr>\n",
       "      <th>619038</th>\n",
       "      <td>2018-02-06</td>\n",
       "      <td>72.74</td>\n",
       "      <td>74.56</td>\n",
       "      <td>72.13</td>\n",
       "      <td>73.27</td>\n",
       "      <td>4924323.0</td>\n",
       "      <td>ZTS</td>\n",
       "    </tr>\n",
       "    <tr>\n",
       "      <th>619039</th>\n",
       "      <td>2018-02-07</td>\n",
       "      <td>72.70</td>\n",
       "      <td>75.00</td>\n",
       "      <td>72.69</td>\n",
       "      <td>73.86</td>\n",
       "      <td>4534912.0</td>\n",
       "      <td>ZTS</td>\n",
       "    </tr>\n",
       "  </tbody>\n",
       "</table>\n",
       "<p>619040 rows × 7 columns</p>\n",
       "</div>"
      ],
      "text/plain": [
       "             date   open   high    low  close      volume Name\n",
       "0      2013-02-08  15.07  15.12  14.63  14.75   8407500.0  AAL\n",
       "1      2013-02-11  14.89  15.01  14.26  14.46   8882000.0  AAL\n",
       "2      2013-02-12  14.45  14.51  14.10  14.27   8126000.0  AAL\n",
       "3      2013-02-13  14.30  14.94  14.25  14.66  10259500.0  AAL\n",
       "4      2013-02-14  14.94  14.96  13.16  13.99  31879900.0  AAL\n",
       "...           ...    ...    ...    ...    ...         ...  ...\n",
       "619035 2018-02-01  76.84  78.27  76.69  77.82   2982259.0  ZTS\n",
       "619036 2018-02-02  77.53  78.12  76.73  76.78   2595187.0  ZTS\n",
       "619037 2018-02-05  76.64  76.92  73.18  73.83   2962031.0  ZTS\n",
       "619038 2018-02-06  72.74  74.56  72.13  73.27   4924323.0  ZTS\n",
       "619039 2018-02-07  72.70  75.00  72.69  73.86   4534912.0  ZTS\n",
       "\n",
       "[619040 rows x 7 columns]"
      ]
     },
     "execution_count": 56,
     "metadata": {},
     "output_type": "execute_result"
    }
   ],
   "source": [
    "df"
   ]
  },
  {
   "cell_type": "code",
   "execution_count": 57,
   "id": "eff0288b",
   "metadata": {},
   "outputs": [
    {
     "data": {
      "text/plain": [
       "[<matplotlib.lines.Line2D at 0x27e0c90b310>]"
      ]
     },
     "execution_count": 57,
     "metadata": {},
     "output_type": "execute_result"
    },
    {
     "data": {
      "image/png": "[encoded data removed]",
      "text/plain": [
       "<Figure size 432x288 with 1 Axes>"
      ]
     },
     "metadata": {
      "needs_background": "light"
     },
     "output_type": "display_data"
    }
   ],
   "source": [
    "plt.plot(df[df['Name']=='PXD']['high'])"
   ]
  },
  {
   "cell_type": "code",
   "execution_count": 58,
   "id": "6b82b79c",
   "metadata": {},
   "outputs": [
    {
     "data": {
      "text/plain": [
       "[<matplotlib.lines.Line2D at 0x27e0e262b80>]"
      ]
     },
     "execution_count": 58,
     "metadata": {},
     "output_type": "execute_result"
    },
    {
     "data": {
      "image/png": "[encoded data removed]",
      "text/plain": [
       "<Figure size 432x288 with 1 Axes>"
      ]
     },
     "metadata": {
      "needs_background": "light"
     },
     "output_type": "display_data"
    }
   ],
   "source": [
    "plt.plot(df[df['Name']=='PXD']['low'])"
   ]
  },
  {
   "cell_type": "code",
   "execution_count": 59,
   "id": "971cc3a0",
   "metadata": {},
   "outputs": [
    {
     "data": {
      "text/plain": [
       "[<matplotlib.lines.Line2D at 0x27e0e414730>]"
      ]
     },
     "execution_count": 59,
     "metadata": {},
     "output_type": "execute_result"
    },
    {
     "data": {
      "image/png": "[encoded data removed]",
      "text/plain": [
       "<Figure size 432x288 with 1 Axes>"
      ]
     },
     "metadata": {
      "needs_background": "light"
     },
     "output_type": "display_data"
    }
   ],
   "source": [
    "plt.plot(df[df['Name']=='PXD']['close'])"
   ]
  },
  {
   "cell_type": "code",
   "execution_count": 60,
   "id": "ba8654df",
   "metadata": {},
   "outputs": [
    {
     "data": {
      "text/plain": [
       "[<matplotlib.lines.Line2D at 0x27e0e601670>]"
      ]
     },
     "execution_count": 60,
     "metadata": {},
     "output_type": "execute_result"
    },
    {
     "data": {
      "image/png": "[encoded data removed]",
      "text/plain": [
       "<Figure size 432x288 with 1 Axes>"
      ]
     },
     "metadata": {
      "needs_background": "light"
     },
     "output_type": "display_data"
    }
   ],
   "source": [
    "plt.plot(df[df['Name']=='PXD']['volume'])"
   ]
  },
  {
   "cell_type": "code",
   "execution_count": 61,
   "id": "f584cbd0",
   "metadata": {},
   "outputs": [
    {
     "name": "stdout",
     "output_type": "stream",
     "text": [
      "Requirement already satisfied: dtale in c:\\users\\akash\\anaconda3\\lib\\site-packages (1.54.0)\n",
      "Requirement already satisfied: xlrd in c:\\users\\akash\\anaconda3\\lib\\site-packages (from dtale) (2.0.1)\n",
      "Requirement already satisfied: Flask in c:\\users\\akash\\anaconda3\\lib\\site-packages (from dtale) (1.1.2)\n",
      "Requirement already satisfied: kaleido in c:\\users\\akash\\anaconda3\\lib\\site-packages (from dtale) (0.2.1)\n",
      "Requirement already satisfied: strsimpy in c:\\users\\akash\\anaconda3\\lib\\site-packages (from dtale) (0.2.0)\n",
      "Requirement already satisfied: plotly>=5.0.0 in c:\\users\\akash\\anaconda3\\lib\\site-packages (from dtale) (5.1.0)\n",
      "Requirement already satisfied: Flask-Compress in c:\\users\\akash\\anaconda3\\lib\\site-packages (from dtale) (1.10.1)\n",
      "Requirement already satisfied: six in c:\\users\\akash\\anaconda3\\lib\\site-packages (from dtale) (1.15.0)\n",
      "Requirement already satisfied: ppscore in c:\\users\\akash\\anaconda3\\lib\\site-packages (from dtale) (1.2.0)\n",
      "Requirement already satisfied: scikit-learn in c:\\users\\akash\\anaconda3\\lib\\site-packages (from dtale) (0.24.1)\n",
      "Requirement already satisfied: lz4 in c:\\users\\akash\\anaconda3\\lib\\site-packages (from dtale) (3.1.3)\n",
      "Requirement already satisfied: openpyxl in c:\\users\\akash\\anaconda3\\lib\\site-packages (from dtale) (3.0.7)\n",
      "Requirement already satisfied: dash-daq in c:\\users\\akash\\anaconda3\\lib\\site-packages (from dtale) (0.5.0)\n",
      "Requirement already satisfied: dash>=1.5.0 in c:\\users\\akash\\anaconda3\\lib\\site-packages (from dtale) (1.21.0)\n",
      "Requirement already satisfied: future>=0.14.0 in c:\\users\\akash\\anaconda3\\lib\\site-packages (from dtale) (0.18.2)\n",
      "Requirement already satisfied: dash-bootstrap-components in c:\\users\\akash\\anaconda3\\lib\\site-packages (from dtale) (0.13.0)\n",
      "Requirement already satisfied: flask-ngrok in c:\\users\\akash\\anaconda3\\lib\\site-packages (from dtale) (0.0.25)\n",
      "Requirement already satisfied: networkx in c:\\users\\akash\\anaconda3\\lib\\site-packages (from dtale) (2.5)\n",
      "Requirement already satisfied: squarify in c:\\users\\akash\\anaconda3\\lib\\site-packages (from dtale) (0.4.3)\n",
      "Requirement already satisfied: numpy in c:\\users\\akash\\anaconda3\\lib\\site-packages (from dtale) (1.20.1)\n",
      "Requirement already satisfied: pandas in c:\\users\\akash\\anaconda3\\lib\\site-packages (from dtale) (1.2.4)\n",
      "Requirement already satisfied: itsdangerous in c:\\users\\akash\\anaconda3\\lib\\site-packages (from dtale) (1.1.0)\n",
      "Requirement already satisfied: dash-colorscales in c:\\users\\akash\\anaconda3\\lib\\site-packages (from dtale) (0.0.4)\n",
      "Requirement already satisfied: xarray in c:\\users\\akash\\anaconda3\\lib\\site-packages (from dtale) (0.19.0)\n",
      "Requirement already satisfied: seaborn in c:\\users\\akash\\anaconda3\\lib\\site-packages (from dtale) (0.11.1)\n",
      "Requirement already satisfied: et-xmlfile in c:\\users\\akash\\anaconda3\\lib\\site-packages (from dtale) (1.0.1)\n",
      "Requirement already satisfied: scipy in c:\\users\\akash\\anaconda3\\lib\\site-packages (from dtale) (1.6.2)\n",
      "Requirement already satisfied: matplotlib in c:\\users\\akash\\anaconda3\\lib\\site-packages (from dtale) (3.3.4)\n",
      "Requirement already satisfied: missingno<=0.4.2 in c:\\users\\akash\\anaconda3\\lib\\site-packages (from dtale) (0.4.2)\n",
      "Requirement already satisfied: requests in c:\\users\\akash\\anaconda3\\lib\\site-packages (from dtale) (2.25.1)\n",
      "Requirement already satisfied: statsmodels in c:\\users\\akash\\anaconda3\\lib\\site-packages (from dtale) (0.12.2)\n",
      "Requirement already satisfied: dash-html-components==1.1.4 in c:\\users\\akash\\anaconda3\\lib\\site-packages (from dash>=1.5.0->dtale) (1.1.4)\n",
      "Requirement already satisfied: dash-core-components==1.17.1 in c:\\users\\akash\\anaconda3\\lib\\site-packages (from dash>=1.5.0->dtale) (1.17.1)\n",
      "Requirement already satisfied: dash-table==4.12.0 in c:\\users\\akash\\anaconda3\\lib\\site-packages (from dash>=1.5.0->dtale) (4.12.0)\n",
      "Requirement already satisfied: click>=5.1 in c:\\users\\akash\\anaconda3\\lib\\site-packages (from Flask->dtale) (7.1.2)\n",
      "Requirement already satisfied: Jinja2>=2.10.1 in c:\\users\\akash\\anaconda3\\lib\\site-packages (from Flask->dtale) (2.11.3)\n",
      "Requirement already satisfied: Werkzeug>=0.15 in c:\\users\\akash\\anaconda3\\lib\\site-packages (from Flask->dtale) (1.0.1)\n",
      "Requirement already satisfied: MarkupSafe>=0.23 in c:\\users\\akash\\anaconda3\\lib\\site-packages (from Jinja2>=2.10.1->Flask->dtale) (1.1.1)\n",
      "Requirement already satisfied: tenacity>=6.2.0 in c:\\users\\akash\\anaconda3\\lib\\site-packages (from plotly>=5.0.0->dtale) (8.0.1)\n",
      "Requirement already satisfied: brotli in c:\\users\\akash\\anaconda3\\lib\\site-packages (from Flask-Compress->dtale) (1.0.9)\n",
      "Requirement already satisfied: python-dateutil>=2.1 in c:\\users\\akash\\anaconda3\\lib\\site-packages (from matplotlib->dtale) (2.8.1)\n",
      "Requirement already satisfied: cycler>=0.10 in c:\\users\\akash\\anaconda3\\lib\\site-packages (from matplotlib->dtale) (0.10.0)\n",
      "Requirement already satisfied: pyparsing!=2.0.4,!=2.1.2,!=2.1.6,>=2.0.3 in c:\\users\\akash\\anaconda3\\lib\\site-packages (from matplotlib->dtale) (2.4.7)\n",
      "Requirement already satisfied: pillow>=6.2.0 in c:\\users\\akash\\anaconda3\\lib\\site-packages (from matplotlib->dtale) (8.2.0)\n",
      "Requirement already satisfied: kiwisolver>=1.0.1 in c:\\users\\akash\\anaconda3\\lib\\site-packages (from matplotlib->dtale) (1.3.1)\n",
      "Requirement already satisfied: decorator>=4.3.0 in c:\\users\\akash\\anaconda3\\lib\\site-packages (from networkx->dtale) (5.0.6)\n",
      "Requirement already satisfied: pytz>=2017.3 in c:\\users\\akash\\anaconda3\\lib\\site-packages (from pandas->dtale) (2021.1)\n",
      "Requirement already satisfied: joblib>=0.11 in c:\\users\\akash\\anaconda3\\lib\\site-packages (from scikit-learn->dtale) (1.0.1)\n",
      "Requirement already satisfied: threadpoolctl>=2.0.0 in c:\\users\\akash\\anaconda3\\lib\\site-packages (from scikit-learn->dtale) (2.1.0)\n",
      "Requirement already satisfied: urllib3<1.27,>=1.21.1 in c:\\users\\akash\\anaconda3\\lib\\site-packages (from requests->dtale) (1.26.4)\n",
      "Requirement already satisfied: chardet<5,>=3.0.2 in c:\\users\\akash\\anaconda3\\lib\\site-packages (from requests->dtale) (4.0.0)\n",
      "Requirement already satisfied: idna<3,>=2.5 in c:\\users\\akash\\anaconda3\\lib\\site-packages (from requests->dtale) (2.10)\n",
      "Requirement already satisfied: certifi>=2017.4.17 in c:\\users\\akash\\anaconda3\\lib\\site-packages (from requests->dtale) (2020.12.5)\n",
      "Requirement already satisfied: patsy>=0.5 in c:\\users\\akash\\anaconda3\\lib\\site-packages (from statsmodels->dtale) (0.5.1)\n",
      "Requirement already satisfied: setuptools>=40.4 in c:\\users\\akash\\anaconda3\\lib\\site-packages (from xarray->dtale) (52.0.0.post20210125)\n"
     ]
    }
   ],
   "source": [
    "!pip install dtale"
   ]
  },
  {
   "cell_type": "code",
   "execution_count": 62,
   "id": "eadd2757",
   "metadata": {},
   "outputs": [
    {
     "data": {
      "text/html": [
       "\n",
       "        <iframe\n",
       "            width=\"100%\"\n",
       "            height=\"475\"\n",
       "            src=\"http://Akash:40000/dtale/iframe/1\"\n",
       "            frameborder=\"0\"\n",
       "            allowfullscreen\n",
       "        ></iframe>\n",
       "        "
      ],
      "text/plain": [
       "<IPython.lib.display.IFrame at 0x27e1c8a54f0>"
      ]
     },
     "metadata": {},
     "output_type": "display_data"
    },
    {
     "data": {
      "text/plain": []
     },
     "execution_count": 62,
     "metadata": {},
     "output_type": "execute_result"
    }
   ],
   "source": [
    "import dtale\n",
    "dtale.show(df)"
   ]
  },
  {
   "cell_type": "code",
   "execution_count": 63,
   "id": "213330fb",
   "metadata": {},
   "outputs": [
    {
     "name": "stdout",
     "output_type": "stream",
     "text": [
      "Requirement already satisfied: pandas-profiling in c:\\users\\akash\\anaconda3\\lib\\site-packages (3.0.0)\n",
      "Requirement already satisfied: jinja2>=2.11.1 in c:\\users\\akash\\anaconda3\\lib\\site-packages (from pandas-profiling) (2.11.3)\n",
      "Requirement already satisfied: htmlmin>=0.1.12 in c:\\users\\akash\\anaconda3\\lib\\site-packages (from pandas-profiling) (0.1.12)\n",
      "Requirement already satisfied: pydantic>=1.8.1 in c:\\users\\akash\\anaconda3\\lib\\site-packages (from pandas-profiling) (1.8.2)\n",
      "Requirement already satisfied: scipy>=1.4.1 in c:\\users\\akash\\anaconda3\\lib\\site-packages (from pandas-profiling) (1.6.2)\n",
      "Requirement already satisfied: matplotlib>=3.2.0 in c:\\users\\akash\\anaconda3\\lib\\site-packages (from pandas-profiling) (3.3.4)\n",
      "Requirement already satisfied: requests>=2.24.0 in c:\\users\\akash\\anaconda3\\lib\\site-packages (from pandas-profiling) (2.25.1)\n",
      "Requirement already satisfied: tqdm>=4.48.2 in c:\\users\\akash\\anaconda3\\lib\\site-packages (from pandas-profiling) (4.59.0)\n",
      "Requirement already satisfied: phik>=0.11.1 in c:\\users\\akash\\anaconda3\\lib\\site-packages (from pandas-profiling) (0.12.0)\n",
      "Requirement already satisfied: missingno>=0.4.2 in c:\\users\\akash\\anaconda3\\lib\\site-packages (from pandas-profiling) (0.4.2)\n",
      "Requirement already satisfied: pandas!=1.0.0,!=1.0.1,!=1.0.2,!=1.1.0,>=0.25.3 in c:\\users\\akash\\anaconda3\\lib\\site-packages (from pandas-profiling) (1.2.4)\n",
      "Requirement already satisfied: visions[type_image_path]==0.7.1 in c:\\users\\akash\\anaconda3\\lib\\site-packages (from pandas-profiling) (0.7.1)\n",
      "Requirement already satisfied: joblib in c:\\users\\akash\\anaconda3\\lib\\site-packages (from pandas-profiling) (1.0.1)\n",
      "Requirement already satisfied: numpy>=1.16.0 in c:\\users\\akash\\anaconda3\\lib\\site-packages (from pandas-profiling) (1.20.1)\n",
      "Requirement already satisfied: tangled-up-in-unicode==0.1.0 in c:\\users\\akash\\anaconda3\\lib\\site-packages (from pandas-profiling) (0.1.0)\n",
      "Requirement already satisfied: seaborn>=0.10.1 in c:\\users\\akash\\anaconda3\\lib\\site-packages (from pandas-profiling) (0.11.1)\n",
      "Requirement already satisfied: PyYAML>=5.0.0 in c:\\users\\akash\\anaconda3\\lib\\site-packages (from pandas-profiling) (5.4.1)\n",
      "Requirement already satisfied: multimethod==1.4 in c:\\users\\akash\\anaconda3\\lib\\site-packages (from visions[type_image_path]==0.7.1->pandas-profiling) (1.4)\n",
      "Requirement already satisfied: bottleneck in c:\\users\\akash\\anaconda3\\lib\\site-packages (from visions[type_image_path]==0.7.1->pandas-profiling) (1.3.2)\n",
      "Requirement already satisfied: attrs>=19.3.0 in c:\\users\\akash\\anaconda3\\lib\\site-packages (from visions[type_image_path]==0.7.1->pandas-profiling) (20.3.0)\n",
      "Requirement already satisfied: networkx>=2.4 in c:\\users\\akash\\anaconda3\\lib\\site-packages (from visions[type_image_path]==0.7.1->pandas-profiling) (2.5)\n",
      "Requirement already satisfied: imagehash in c:\\users\\akash\\anaconda3\\lib\\site-packages (from visions[type_image_path]==0.7.1->pandas-profiling) (4.2.1)\n",
      "Requirement already satisfied: Pillow in c:\\users\\akash\\anaconda3\\lib\\site-packages (from visions[type_image_path]==0.7.1->pandas-profiling) (8.2.0)\n",
      "Requirement already satisfied: MarkupSafe>=0.23 in c:\\users\\akash\\anaconda3\\lib\\site-packages (from jinja2>=2.11.1->pandas-profiling) (1.1.1)\n",
      "Requirement already satisfied: pyparsing!=2.0.4,!=2.1.2,!=2.1.6,>=2.0.3 in c:\\users\\akash\\anaconda3\\lib\\site-packages (from matplotlib>=3.2.0->pandas-profiling) (2.4.7)\n",
      "Requirement already satisfied: python-dateutil>=2.1 in c:\\users\\akash\\anaconda3\\lib\\site-packages (from matplotlib>=3.2.0->pandas-profiling) (2.8.1)\n",
      "Requirement already satisfied: cycler>=0.10 in c:\\users\\akash\\anaconda3\\lib\\site-packages (from matplotlib>=3.2.0->pandas-profiling) (0.10.0)\n",
      "Requirement already satisfied: kiwisolver>=1.0.1 in c:\\users\\akash\\anaconda3\\lib\\site-packages (from matplotlib>=3.2.0->pandas-profiling) (1.3.1)\n",
      "Requirement already satisfied: six in c:\\users\\akash\\anaconda3\\lib\\site-packages (from cycler>=0.10->matplotlib>=3.2.0->pandas-profiling) (1.15.0)\n",
      "Requirement already satisfied: decorator>=4.3.0 in c:\\users\\akash\\anaconda3\\lib\\site-packages (from networkx>=2.4->visions[type_image_path]==0.7.1->pandas-profiling) (5.0.6)\n",
      "Requirement already satisfied: pytz>=2017.3 in c:\\users\\akash\\anaconda3\\lib\\site-packages (from pandas!=1.0.0,!=1.0.1,!=1.0.2,!=1.1.0,>=0.25.3->pandas-profiling) (2021.1)\n",
      "Requirement already satisfied: typing-extensions>=3.7.4.3 in c:\\users\\akash\\anaconda3\\lib\\site-packages (from pydantic>=1.8.1->pandas-profiling) (3.7.4.3)\n",
      "Requirement already satisfied: idna<3,>=2.5 in c:\\users\\akash\\anaconda3\\lib\\site-packages (from requests>=2.24.0->pandas-profiling) (2.10)\n",
      "Requirement already satisfied: certifi>=2017.4.17 in c:\\users\\akash\\anaconda3\\lib\\site-packages (from requests>=2.24.0->pandas-profiling) (2020.12.5)\n",
      "Requirement already satisfied: urllib3<1.27,>=1.21.1 in c:\\users\\akash\\anaconda3\\lib\\site-packages (from requests>=2.24.0->pandas-profiling) (1.26.4)\n",
      "Requirement already satisfied: chardet<5,>=3.0.2 in c:\\users\\akash\\anaconda3\\lib\\site-packages (from requests>=2.24.0->pandas-profiling) (4.0.0)\n",
      "Requirement already satisfied: PyWavelets in c:\\users\\akash\\anaconda3\\lib\\site-packages (from imagehash->visions[type_image_path]==0.7.1->pandas-profiling) (1.1.1)\n"
     ]
    }
   ],
   "source": [
    "!pip install pandas-profiling"
   ]
  },
  {
   "cell_type": "code",
   "execution_count": 64,
   "id": "1390c74e",
   "metadata": {},
   "outputs": [],
   "source": [
    "from pandas_profiling import ProfileReport"
   ]
  },
  {
   "cell_type": "code",
   "execution_count": 65,
   "id": "8cbc9142",
   "metadata": {},
   "outputs": [
    {
     "data": {
      "application/vnd.jupyter.widget-view+json": {
       "model_id": "b1cd0c855b9347e0993e6b6b34f2b2fc",
       "version_major": 2,
       "version_minor": 0
      },
      "text/plain": [
       "Summarize dataset:   0%|          | 0/20 [00:00<?, ?it/s]"
      ]
     },
     "metadata": {},
     "output_type": "display_data"
    },
    {
     "data": {
      "application/vnd.jupyter.widget-view+json": {
       "model_id": "1151acf7d0af4d6c84fe54d1522fc65a",
       "version_major": 2,
       "version_minor": 0
      },
      "text/plain": [
       "Generate report structure:   0%|          | 0/1 [00:00<?, ?it/s]"
      ]
     },
     "metadata": {},
     "output_type": "display_data"
    },
    {
     "data": {
      "application/vnd.jupyter.widget-view+json": {
       "model_id": "1c74ee9e9d9045c1a24a574c73c61ad9",
       "version_major": 2,
       "version_minor": 0
      },
      "text/plain": [
       "Render HTML:   0%|          | 0/1 [00:00<?, ?it/s]"
      ]
     },
     "metadata": {},
     "output_type": "display_data"
    },
    {
     "data": {
      "application/vnd.jupyter.widget-view+json": {
       "model_id": "77853d7621eb4ea2ad9557ff9b12a7a0",
       "version_major": 2,
       "version_minor": 0
      },
      "text/plain": [
       "Export report to file:   0%|          | 0/1 [00:00<?, ?it/s]"
      ]
     },
     "metadata": {},
     "output_type": "display_data"
    }
   ],
   "source": [
    "pro = ProfileReport(df,explorative=True)\n",
    "pro.to_file('output.html')"
   ]
  },
  {
   "cell_type": "code",
   "execution_count": 66,
   "id": "59fee31d",
   "metadata": {},
   "outputs": [
    {
     "name": "stdout",
     "output_type": "stream",
     "text": [
      "Requirement already satisfied: sweetviz in c:\\users\\akash\\anaconda3\\lib\\site-packages (2.1.3)\n",
      "Requirement already satisfied: importlib-resources>=1.2.0 in c:\\users\\akash\\anaconda3\\lib\\site-packages (from sweetviz) (5.2.2)\n",
      "Requirement already satisfied: jinja2>=2.11.1 in c:\\users\\akash\\anaconda3\\lib\\site-packages (from sweetviz) (2.11.3)\n",
      "Requirement already satisfied: matplotlib>=3.1.3 in c:\\users\\akash\\anaconda3\\lib\\site-packages (from sweetviz) (3.3.4)\n",
      "Requirement already satisfied: pandas!=1.0.0,!=1.0.1,!=1.0.2,>=0.25.3 in c:\\users\\akash\\anaconda3\\lib\\site-packages (from sweetviz) (1.2.4)\n",
      "Requirement already satisfied: numpy>=1.16.0 in c:\\users\\akash\\anaconda3\\lib\\site-packages (from sweetviz) (1.20.1)\n",
      "Requirement already satisfied: tqdm>=4.43.0 in c:\\users\\akash\\anaconda3\\lib\\site-packages (from sweetviz) (4.59.0)\n",
      "Requirement already satisfied: scipy>=1.3.2 in c:\\users\\akash\\anaconda3\\lib\\site-packages (from sweetviz) (1.6.2)\n",
      "Requirement already satisfied: zipp>=3.1.0 in c:\\users\\akash\\anaconda3\\lib\\site-packages (from importlib-resources>=1.2.0->sweetviz) (3.4.1)\n",
      "Requirement already satisfied: MarkupSafe>=0.23 in c:\\users\\akash\\anaconda3\\lib\\site-packages (from jinja2>=2.11.1->sweetviz) (1.1.1)\n",
      "Requirement already satisfied: python-dateutil>=2.1 in c:\\users\\akash\\anaconda3\\lib\\site-packages (from matplotlib>=3.1.3->sweetviz) (2.8.1)\n",
      "Requirement already satisfied: kiwisolver>=1.0.1 in c:\\users\\akash\\anaconda3\\lib\\site-packages (from matplotlib>=3.1.3->sweetviz) (1.3.1)\n",
      "Requirement already satisfied: cycler>=0.10 in c:\\users\\akash\\anaconda3\\lib\\site-packages (from matplotlib>=3.1.3->sweetviz) (0.10.0)\n",
      "Requirement already satisfied: pyparsing!=2.0.4,!=2.1.2,!=2.1.6,>=2.0.3 in c:\\users\\akash\\anaconda3\\lib\\site-packages (from matplotlib>=3.1.3->sweetviz) (2.4.7)\n",
      "Requirement already satisfied: pillow>=6.2.0 in c:\\users\\akash\\anaconda3\\lib\\site-packages (from matplotlib>=3.1.3->sweetviz) (8.2.0)\n",
      "Requirement already satisfied: six in c:\\users\\akash\\anaconda3\\lib\\site-packages (from cycler>=0.10->matplotlib>=3.1.3->sweetviz) (1.15.0)\n",
      "Requirement already satisfied: pytz>=2017.3 in c:\\users\\akash\\anaconda3\\lib\\site-packages (from pandas!=1.0.0,!=1.0.1,!=1.0.2,>=0.25.3->sweetviz) (2021.1)\n"
     ]
    }
   ],
   "source": [
    "!pip install sweetviz"
   ]
  },
  {
   "cell_type": "code",
   "execution_count": 67,
   "id": "6050d526",
   "metadata": {},
   "outputs": [],
   "source": [
    "import sweetviz as sz"
   ]
  },
  {
   "cell_type": "code",
   "execution_count": 68,
   "id": "f1ca1965",
   "metadata": {},
   "outputs": [
    {
     "data": {
      "application/vnd.jupyter.widget-view+json": {
       "model_id": "346ab62779684ad78b868e7a7909dd59",
       "version_major": 2,
       "version_minor": 0
      },
      "text/plain": [
       "                                             |                                             | [  0%]   00:00 ->…"
      ]
     },
     "metadata": {},
     "output_type": "display_data"
    },
    {
     "name": "stdout",
     "output_type": "stream",
     "text": [
      "Report sweetviz.html was generated! NOTEBOOK/COLAB USERS: the web browser MAY not pop up, regardless, the report IS saved in your notebook/colab files.\n"
     ]
    }
   ],
   "source": [
    "report = sz.analyze(df)\n",
    "report.show_html('sweetviz.html')"
   ]
  },
  {
   "cell_type": "markdown",
   "id": "613fe4f4",
   "metadata": {},
   "source": [
    "## Thank you"
   ]
  }
 ],
 "metadata": {
  "kernelspec": {
   "display_name": "Python 3",
   "language": "python",
   "name": "python3"
  },
  "language_info": {
   "codemirror_mode": {
    "name": "ipython",
    "version": 3
   },
   "file_extension": ".py",
   "mimetype": "text/x-python",
   "name": "python",
   "nbconvert_exporter": "python",
   "pygments_lexer": "ipython3",
   "version": "3.8.8"
  }
 },
 "nbformat": 4,
 "nbformat_minor": 5
}
